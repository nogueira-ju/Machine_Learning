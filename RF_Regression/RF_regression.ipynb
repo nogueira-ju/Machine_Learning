{
 "metadata": {
  "language_info": {
   "codemirror_mode": {
    "name": "ipython",
    "version": 3
   },
   "file_extension": ".py",
   "mimetype": "text/x-python",
   "name": "python",
   "nbconvert_exporter": "python",
   "pygments_lexer": "ipython3",
   "version": "3.7.5"
  },
  "orig_nbformat": 2,
  "kernelspec": {
   "name": "python3",
   "display_name": "Python 3.7.5 64-bit (system)"
  },
  "interpreter": {
   "hash": "7c2b341bc3b18b2f0f6420bb99536e5c4cfa1181094719b122fae93675793f92"
  }
 },
 "nbformat": 4,
 "nbformat_minor": 2,
 "cells": [
  {
   "cell_type": "code",
   "execution_count": null,
   "source": [
    "'''\r\n",
    "Código criado por Júlia Nogueira em 06/09/2021\r\n",
    "Atualizado pela última vez em 07/09/2021\r\n",
    "\r\n",
    "Objetivo: Aplicação de Random Forests a um problema de regressão:\r\n",
    "Predição da quantidade de ácido adsorvido.\r\n",
    "\r\n",
    "Utiliza os dados do trabalho: \r\n",
    "\"Deep neural networks in chemical engineering classrooms to accurately model adsorption equilibrium data\"\r\n",
    "\r\n",
    "'''"
   ],
   "outputs": [],
   "metadata": {}
  },
  {
   "cell_type": "code",
   "execution_count": 49,
   "source": [
    "import numpy as np\r\n",
    "import matplotlib.pyplot as plt\r\n",
    "import seaborn as sns\r\n",
    "import optuna\r\n",
    "# import joblib\r\n",
    "\r\n",
    "import sklearn.model_selection\r\n",
    "import sklearn.metrics\r\n",
    "from sklearn.model_selection import train_test_split\r\n",
    "from sklearn.ensemble import RandomForestRegressor\r\n",
    "\r\n",
    "# import sys\r\n",
    "# import time"
   ],
   "outputs": [],
   "metadata": {}
  },
  {
   "cell_type": "code",
   "execution_count": null,
   "source": [
    "'''# Começa a contar o tempo de processamento\r\n",
    "t = time.time()\r\n",
    "\r\n",
    "# Salva a saída do terminal em um arquivo\r\n",
    "f = open(\"RF_output\", 'w')\r\n",
    "sys.stdout = f'''"
   ],
   "outputs": [],
   "metadata": {}
  },
  {
   "cell_type": "code",
   "execution_count": 50,
   "source": [
    "# Leitura e conversão dos dados em array\r\n",
    "dados_train = np.genfromtxt('Adsorption_Equilibrium_standardized_train_data.txt', skip_header=1)\r\n",
    "print(\"Formato dos dados de treinamento:\", dados_train.shape)\r\n",
    "\r\n",
    "dados_test = np.genfromtxt('Adsorption_Equilibrium_standardized_test_data.txt', skip_header=1)\r\n",
    "print(\"Formato dos dados de teste:\", dados_test.shape)\r\n",
    "\r\n",
    "# header\r\n",
    "with open('Adsorption_Equilibrium_standardized_train_data.txt', 'r') as file:\r\n",
    "    header = file.readline().strip() # pegando a primeira linha\r\n",
    "header = header.split()\r\n",
    "print('Header:', header)"
   ],
   "outputs": [
    {
     "output_type": "stream",
     "name": "stdout",
     "text": [
      "Formato dos dados de treinamento: (63, 5)\n",
      "Formato dos dados de teste: (32, 5)\n",
      "Header: ['Co', 'T', 'Mol.SA', 'MolV', 'g/g']\n"
     ]
    }
   ],
   "metadata": {}
  },
  {
   "cell_type": "code",
   "execution_count": 51,
   "source": [
    "# Embaralhando os dados e separação das entradas e saídas dos modelos\r\n",
    "np.random.shuffle(dados_train)\r\n",
    "np.random.shuffle(dados_test)\r\n",
    "\r\n",
    "train_data, train_output = dados_train[:, :-1], dados_train[:, -1]\r\n",
    "test_data, test_output = dados_test[:, :-1], dados_test[:, -1]\r\n",
    "\r\n",
    "print(\"Formato dos dados de entrada de treinamento:\", train_data.shape)\r\n",
    "print(\"Formato dos dados de entrada de teste:\", test_data.shape)\r\n",
    "print(\"Formato dos dados de saída de treinamento:\", train_output.shape)\r\n",
    "print(\"Formato dos dados de saída teste:\", test_output.shape)"
   ],
   "outputs": [
    {
     "output_type": "stream",
     "name": "stdout",
     "text": [
      "Formato dos dados de entrada de treinamento: (63, 4)\n",
      "Formato dos dados de entrada de teste: (32, 4)\n",
      "Formato dos dados de saída de treinamento: (63,)\n",
      "Formato dos dados de saída teste: (32,)\n"
     ]
    }
   ],
   "metadata": {}
  },
  {
   "cell_type": "code",
   "execution_count": 52,
   "source": [
    "# Otimização de Hiperparâmetros\r\n",
    "def objetivo_rc(trial):\r\n",
    "    # Hiperparâmetros de busca para RF\r\n",
    "    rf_min_samples_leaf = trial.suggest_int(\"rf_min_samples_leaf\", 1, 10)\r\n",
    "    rf_max_depth = trial.suggest_int(\"rf_max_depth\", 5, 10, log = True)\r\n",
    "    rf_n_estimators = trial.suggest_int(\"rf_n_estimators\", 1, 50)\r\n",
    "\r\n",
    "    # Criação do modelo RF\r\n",
    "    m = sklearn.ensemble.RandomForestRegressor(max_depth = rf_max_depth, \r\n",
    "    min_samples_leaf = rf_min_samples_leaf, n_estimators = rf_n_estimators)\r\n",
    "\r\n",
    "    # Retornando R² de validação, 20% dos dados de treino\r\n",
    "    train__data, val_data, train__output, val_output = sklearn.model_selection.train_test_split(train_data, train_output, test_size=0.2, random_state=101) \r\n",
    "    \r\n",
    "    m.fit(train__data, train__output)\r\n",
    "    predictions_optimization = m.predict(val_data)\r\n",
    "    r2 = sklearn.metrics.r2_score(val_output, predictions_optimization)\r\n",
    "\r\n",
    "    return r2\r\n",
    "\r\n",
    "# Resultados função objetivo\r\n",
    "study_rc = optuna.create_study(direction=\"maximize\")\r\n",
    "n_trials = 40\r\n",
    "print(\"Nº Iterações Otimização:\", n_trials)\r\n",
    "study_rc.optimize(objetivo_rc, n_trials=n_trials)\r\n",
    "print(\"Hiperparâmetros Otimizados:\", study_rc.best_params)"
   ],
   "outputs": [
    {
     "output_type": "stream",
     "name": "stderr",
     "text": [
      "\u001b[32m[I 2021-09-06 18:46:45,642]\u001b[0m A new study created in memory with name: no-name-4b038cc1-41d7-4d26-adc4-a4d6506fdb9a\u001b[0m\n"
     ]
    },
    {
     "output_type": "stream",
     "name": "stdout",
     "text": [
      "Nº Iterações Otimização: 40\n"
     ]
    },
    {
     "output_type": "stream",
     "name": "stderr",
     "text": [
      "\u001b[32m[I 2021-09-06 18:46:45,829]\u001b[0m Trial 0 finished with value: 0.8844938038475211 and parameters: {'rf_min_samples_leaf': 2, 'rf_max_depth': 5, 'rf_n_estimators': 34}. Best is trial 0 with value: 0.8844938038475211.\u001b[0m\n",
      "\u001b[32m[I 2021-09-06 18:46:45,868]\u001b[0m Trial 1 finished with value: 0.871766153102038 and parameters: {'rf_min_samples_leaf': 4, 'rf_max_depth': 6, 'rf_n_estimators': 16}. Best is trial 0 with value: 0.8844938038475211.\u001b[0m\n",
      "\u001b[32m[I 2021-09-06 18:46:45,918]\u001b[0m Trial 2 finished with value: 0.8315112584403003 and parameters: {'rf_min_samples_leaf': 8, 'rf_max_depth': 10, 'rf_n_estimators': 21}. Best is trial 0 with value: 0.8844938038475211.\u001b[0m\n",
      "\u001b[32m[I 2021-09-06 18:46:45,962]\u001b[0m Trial 3 finished with value: 0.8736674658750117 and parameters: {'rf_min_samples_leaf': 1, 'rf_max_depth': 7, 'rf_n_estimators': 14}. Best is trial 0 with value: 0.8844938038475211.\u001b[0m\n",
      "\u001b[32m[I 2021-09-06 18:46:46,003]\u001b[0m Trial 4 finished with value: 0.771403604788967 and parameters: {'rf_min_samples_leaf': 8, 'rf_max_depth': 7, 'rf_n_estimators': 6}. Best is trial 0 with value: 0.8844938038475211.\u001b[0m\n",
      "\u001b[32m[I 2021-09-06 18:46:46,150]\u001b[0m Trial 5 finished with value: 0.903683784275943 and parameters: {'rf_min_samples_leaf': 2, 'rf_max_depth': 9, 'rf_n_estimators': 43}. Best is trial 5 with value: 0.903683784275943.\u001b[0m\n",
      "\u001b[32m[I 2021-09-06 18:46:46,214]\u001b[0m Trial 6 finished with value: 0.858800810805226 and parameters: {'rf_min_samples_leaf': 6, 'rf_max_depth': 9, 'rf_n_estimators': 29}. Best is trial 5 with value: 0.903683784275943.\u001b[0m\n",
      "\u001b[32m[I 2021-09-06 18:46:46,247]\u001b[0m Trial 7 finished with value: 0.8726674829479573 and parameters: {'rf_min_samples_leaf': 5, 'rf_max_depth': 5, 'rf_n_estimators': 13}. Best is trial 5 with value: 0.903683784275943.\u001b[0m\n",
      "\u001b[32m[I 2021-09-06 18:46:46,294]\u001b[0m Trial 8 finished with value: 0.8979700403082254 and parameters: {'rf_min_samples_leaf': 2, 'rf_max_depth': 6, 'rf_n_estimators': 20}. Best is trial 5 with value: 0.903683784275943.\u001b[0m\n",
      "\u001b[32m[I 2021-09-06 18:46:46,336]\u001b[0m Trial 9 finished with value: 0.901168818332467 and parameters: {'rf_min_samples_leaf': 2, 'rf_max_depth': 5, 'rf_n_estimators': 19}. Best is trial 5 with value: 0.903683784275943.\u001b[0m\n",
      "\u001b[32m[I 2021-09-06 18:46:46,435]\u001b[0m Trial 10 finished with value: 0.8759721785726862 and parameters: {'rf_min_samples_leaf': 4, 'rf_max_depth': 9, 'rf_n_estimators': 50}. Best is trial 5 with value: 0.903683784275943.\u001b[0m\n",
      "\u001b[32m[I 2021-09-06 18:46:46,533]\u001b[0m Trial 11 finished with value: 0.8765765972960963 and parameters: {'rf_min_samples_leaf': 1, 'rf_max_depth': 5, 'rf_n_estimators': 47}. Best is trial 5 with value: 0.903683784275943.\u001b[0m\n",
      "\u001b[32m[I 2021-09-06 18:46:46,616]\u001b[0m Trial 12 finished with value: 0.8876603022062857 and parameters: {'rf_min_samples_leaf': 3, 'rf_max_depth': 8, 'rf_n_estimators': 39}. Best is trial 5 with value: 0.903683784275943.\u001b[0m\n",
      "\u001b[32m[I 2021-09-06 18:46:46,701]\u001b[0m Trial 13 finished with value: 0.7115493791267453 and parameters: {'rf_min_samples_leaf': 10, 'rf_max_depth': 10, 'rf_n_estimators': 41}. Best is trial 5 with value: 0.903683784275943.\u001b[0m\n",
      "\u001b[32m[I 2021-09-06 18:46:46,714]\u001b[0m Trial 14 finished with value: 0.8590824218786387 and parameters: {'rf_min_samples_leaf': 1, 'rf_max_depth': 5, 'rf_n_estimators': 1}. Best is trial 5 with value: 0.903683784275943.\u001b[0m\n",
      "\u001b[32m[I 2021-09-06 18:46:46,792]\u001b[0m Trial 15 finished with value: 0.8902676398810192 and parameters: {'rf_min_samples_leaf': 3, 'rf_max_depth': 6, 'rf_n_estimators': 27}. Best is trial 5 with value: 0.903683784275943.\u001b[0m\n",
      "\u001b[32m[I 2021-09-06 18:46:46,901]\u001b[0m Trial 16 finished with value: 0.8950793680249552 and parameters: {'rf_min_samples_leaf': 2, 'rf_max_depth': 5, 'rf_n_estimators': 33}. Best is trial 5 with value: 0.903683784275943.\u001b[0m\n",
      "\u001b[32m[I 2021-09-06 18:46:46,947]\u001b[0m Trial 17 finished with value: 0.8451800335078883 and parameters: {'rf_min_samples_leaf': 6, 'rf_max_depth': 5, 'rf_n_estimators': 8}. Best is trial 5 with value: 0.903683784275943.\u001b[0m\n",
      "\u001b[32m[I 2021-09-06 18:46:47,033]\u001b[0m Trial 18 finished with value: 0.8716113783670825 and parameters: {'rf_min_samples_leaf': 4, 'rf_max_depth': 8, 'rf_n_estimators': 22}. Best is trial 5 with value: 0.903683784275943.\u001b[0m\n",
      "\u001b[32m[I 2021-09-06 18:46:47,150]\u001b[0m Trial 19 finished with value: 0.8812671298847491 and parameters: {'rf_min_samples_leaf': 3, 'rf_max_depth': 8, 'rf_n_estimators': 42}. Best is trial 5 with value: 0.903683784275943.\u001b[0m\n",
      "\u001b[32m[I 2021-09-06 18:46:47,228]\u001b[0m Trial 20 finished with value: 0.8261288029584943 and parameters: {'rf_min_samples_leaf': 7, 'rf_max_depth': 6, 'rf_n_estimators': 32}. Best is trial 5 with value: 0.903683784275943.\u001b[0m\n",
      "\u001b[32m[I 2021-09-06 18:46:47,284]\u001b[0m Trial 21 finished with value: 0.8764746995990116 and parameters: {'rf_min_samples_leaf': 2, 'rf_max_depth': 6, 'rf_n_estimators': 21}. Best is trial 5 with value: 0.903683784275943.\u001b[0m\n",
      "\u001b[32m[I 2021-09-06 18:46:47,346]\u001b[0m Trial 22 finished with value: 0.8773595258475689 and parameters: {'rf_min_samples_leaf': 2, 'rf_max_depth': 5, 'rf_n_estimators': 18}. Best is trial 5 with value: 0.903683784275943.\u001b[0m\n",
      "\u001b[32m[I 2021-09-06 18:46:47,448]\u001b[0m Trial 23 finished with value: 0.8524114036820705 and parameters: {'rf_min_samples_leaf': 1, 'rf_max_depth': 6, 'rf_n_estimators': 24}. Best is trial 5 with value: 0.903683784275943.\u001b[0m\n",
      "\u001b[32m[I 2021-09-06 18:46:47,486]\u001b[0m Trial 24 finished with value: 0.9112666795338993 and parameters: {'rf_min_samples_leaf': 3, 'rf_max_depth': 5, 'rf_n_estimators': 12}. Best is trial 24 with value: 0.9112666795338993.\u001b[0m\n",
      "\u001b[32m[I 2021-09-06 18:46:47,516]\u001b[0m Trial 25 finished with value: 0.874940819712267 and parameters: {'rf_min_samples_leaf': 3, 'rf_max_depth': 5, 'rf_n_estimators': 10}. Best is trial 24 with value: 0.9112666795338993.\u001b[0m\n",
      "\u001b[32m[I 2021-09-06 18:46:47,531]\u001b[0m Trial 26 finished with value: 0.8486274515876394 and parameters: {'rf_min_samples_leaf': 5, 'rf_max_depth': 5, 'rf_n_estimators': 2}. Best is trial 24 with value: 0.9112666795338993.\u001b[0m\n",
      "\u001b[32m[I 2021-09-06 18:46:47,566]\u001b[0m Trial 27 finished with value: 0.8793179969155575 and parameters: {'rf_min_samples_leaf': 4, 'rf_max_depth': 5, 'rf_n_estimators': 12}. Best is trial 24 with value: 0.9112666795338993.\u001b[0m\n",
      "\u001b[32m[I 2021-09-06 18:46:47,612]\u001b[0m Trial 28 finished with value: 0.8534490380367938 and parameters: {'rf_min_samples_leaf': 3, 'rf_max_depth': 5, 'rf_n_estimators': 17}. Best is trial 24 with value: 0.9112666795338993.\u001b[0m\n",
      "\u001b[32m[I 2021-09-06 18:46:47,631]\u001b[0m Trial 29 finished with value: 0.8856858374655785 and parameters: {'rf_min_samples_leaf': 2, 'rf_max_depth': 5, 'rf_n_estimators': 4}. Best is trial 24 with value: 0.9112666795338993.\u001b[0m\n",
      "\u001b[32m[I 2021-09-06 18:46:47,709]\u001b[0m Trial 30 finished with value: 0.8941466032420105 and parameters: {'rf_min_samples_leaf': 1, 'rf_max_depth': 5, 'rf_n_estimators': 36}. Best is trial 24 with value: 0.9112666795338993.\u001b[0m\n",
      "\u001b[32m[I 2021-09-06 18:46:47,756]\u001b[0m Trial 31 finished with value: 0.8925454724432241 and parameters: {'rf_min_samples_leaf': 2, 'rf_max_depth': 5, 'rf_n_estimators': 19}. Best is trial 24 with value: 0.9112666795338993.\u001b[0m\n",
      "\u001b[32m[I 2021-09-06 18:46:47,820]\u001b[0m Trial 32 finished with value: 0.8816896355637719 and parameters: {'rf_min_samples_leaf': 2, 'rf_max_depth': 5, 'rf_n_estimators': 25}. Best is trial 24 with value: 0.9112666795338993.\u001b[0m\n",
      "\u001b[32m[I 2021-09-06 18:46:47,861]\u001b[0m Trial 33 finished with value: 0.876804029289859 and parameters: {'rf_min_samples_leaf': 3, 'rf_max_depth': 6, 'rf_n_estimators': 15}. Best is trial 24 with value: 0.9112666795338993.\u001b[0m\n",
      "\u001b[32m[I 2021-09-06 18:46:47,934]\u001b[0m Trial 34 finished with value: 0.8557046974458153 and parameters: {'rf_min_samples_leaf': 1, 'rf_max_depth': 5, 'rf_n_estimators': 29}. Best is trial 24 with value: 0.9112666795338993.\u001b[0m\n",
      "\u001b[32m[I 2021-09-06 18:46:47,987]\u001b[0m Trial 35 finished with value: 0.8788466830227769 and parameters: {'rf_min_samples_leaf': 4, 'rf_max_depth': 5, 'rf_n_estimators': 10}. Best is trial 24 with value: 0.9112666795338993.\u001b[0m\n",
      "\u001b[32m[I 2021-09-06 18:46:48,070]\u001b[0m Trial 36 finished with value: 0.8943781962280961 and parameters: {'rf_min_samples_leaf': 1, 'rf_max_depth': 5, 'rf_n_estimators': 20}. Best is trial 24 with value: 0.9112666795338993.\u001b[0m\n",
      "\u001b[32m[I 2021-09-06 18:46:48,116]\u001b[0m Trial 37 finished with value: 0.8510495425650081 and parameters: {'rf_min_samples_leaf': 3, 'rf_max_depth': 5, 'rf_n_estimators': 16}. Best is trial 24 with value: 0.9112666795338993.\u001b[0m\n",
      "\u001b[32m[I 2021-09-06 18:46:48,217]\u001b[0m Trial 38 finished with value: 0.8800186160230175 and parameters: {'rf_min_samples_leaf': 2, 'rf_max_depth': 5, 'rf_n_estimators': 23}. Best is trial 24 with value: 0.9112666795338993.\u001b[0m\n",
      "\u001b[32m[I 2021-09-06 18:46:48,253]\u001b[0m Trial 39 finished with value: 0.8667242672087578 and parameters: {'rf_min_samples_leaf': 4, 'rf_max_depth': 5, 'rf_n_estimators': 12}. Best is trial 24 with value: 0.9112666795338993.\u001b[0m\n"
     ]
    },
    {
     "output_type": "stream",
     "name": "stdout",
     "text": [
      "Hiperparâmetros Otimizados: {'rf_min_samples_leaf': 3, 'rf_max_depth': 5, 'rf_n_estimators': 12}\n"
     ]
    }
   ],
   "metadata": {}
  },
  {
   "cell_type": "code",
   "execution_count": 53,
   "source": [
    "# Gráficos otimização de hiperparâmetros\r\n",
    "fig1 = optuna.visualization.plot_optimization_history(study_rc)\r\n",
    "fig1.show()\r\n",
    "\r\n",
    "fig2 = optuna.visualization.plot_slice(study_rc)\r\n",
    "fig2.show()\r\n",
    "\r\n",
    "fig3 = optuna.visualization.plot_parallel_coordinate(study_rc)\r\n",
    "fig3.show() "
   ],
   "outputs": [
    {
     "output_type": "display_data",
     "data": {
      "application/vnd.plotly.v1+json": {
       "config": {
        "plotlyServerURL": "https://plot.ly"
       },
       "data": [
        {
         "mode": "markers",
         "name": "Objective Value",
         "type": "scatter",
         "x": [
          0,
          1,
          2,
          3,
          4,
          5,
          6,
          7,
          8,
          9,
          10,
          11,
          12,
          13,
          14,
          15,
          16,
          17,
          18,
          19,
          20,
          21,
          22,
          23,
          24,
          25,
          26,
          27,
          28,
          29,
          30,
          31,
          32,
          33,
          34,
          35,
          36,
          37,
          38,
          39
         ],
         "y": [
          0.8844938038475211,
          0.871766153102038,
          0.8315112584403003,
          0.8736674658750117,
          0.771403604788967,
          0.903683784275943,
          0.858800810805226,
          0.8726674829479573,
          0.8979700403082254,
          0.901168818332467,
          0.8759721785726862,
          0.8765765972960963,
          0.8876603022062857,
          0.7115493791267453,
          0.8590824218786387,
          0.8902676398810192,
          0.8950793680249552,
          0.8451800335078883,
          0.8716113783670825,
          0.8812671298847491,
          0.8261288029584943,
          0.8764746995990116,
          0.8773595258475689,
          0.8524114036820705,
          0.9112666795338993,
          0.874940819712267,
          0.8486274515876394,
          0.8793179969155575,
          0.8534490380367938,
          0.8856858374655785,
          0.8941466032420105,
          0.8925454724432241,
          0.8816896355637719,
          0.876804029289859,
          0.8557046974458153,
          0.8788466830227769,
          0.8943781962280961,
          0.8510495425650081,
          0.8800186160230175,
          0.8667242672087578
         ]
        },
        {
         "name": "Best Value",
         "type": "scatter",
         "x": [
          0,
          1,
          2,
          3,
          4,
          5,
          6,
          7,
          8,
          9,
          10,
          11,
          12,
          13,
          14,
          15,
          16,
          17,
          18,
          19,
          20,
          21,
          22,
          23,
          24,
          25,
          26,
          27,
          28,
          29,
          30,
          31,
          32,
          33,
          34,
          35,
          36,
          37,
          38,
          39
         ],
         "y": [
          0.8844938038475211,
          0.8844938038475211,
          0.8844938038475211,
          0.8844938038475211,
          0.8844938038475211,
          0.903683784275943,
          0.903683784275943,
          0.903683784275943,
          0.903683784275943,
          0.903683784275943,
          0.903683784275943,
          0.903683784275943,
          0.903683784275943,
          0.903683784275943,
          0.903683784275943,
          0.903683784275943,
          0.903683784275943,
          0.903683784275943,
          0.903683784275943,
          0.903683784275943,
          0.903683784275943,
          0.903683784275943,
          0.903683784275943,
          0.903683784275943,
          0.9112666795338993,
          0.9112666795338993,
          0.9112666795338993,
          0.9112666795338993,
          0.9112666795338993,
          0.9112666795338993,
          0.9112666795338993,
          0.9112666795338993,
          0.9112666795338993,
          0.9112666795338993,
          0.9112666795338993,
          0.9112666795338993,
          0.9112666795338993,
          0.9112666795338993,
          0.9112666795338993,
          0.9112666795338993
         ]
        }
       ],
       "layout": {
        "template": {
         "data": {
          "bar": [
           {
            "error_x": {
             "color": "#2a3f5f"
            },
            "error_y": {
             "color": "#2a3f5f"
            },
            "marker": {
             "line": {
              "color": "#E5ECF6",
              "width": 0.5
             }
            },
            "type": "bar"
           }
          ],
          "barpolar": [
           {
            "marker": {
             "line": {
              "color": "#E5ECF6",
              "width": 0.5
             }
            },
            "type": "barpolar"
           }
          ],
          "carpet": [
           {
            "aaxis": {
             "endlinecolor": "#2a3f5f",
             "gridcolor": "white",
             "linecolor": "white",
             "minorgridcolor": "white",
             "startlinecolor": "#2a3f5f"
            },
            "baxis": {
             "endlinecolor": "#2a3f5f",
             "gridcolor": "white",
             "linecolor": "white",
             "minorgridcolor": "white",
             "startlinecolor": "#2a3f5f"
            },
            "type": "carpet"
           }
          ],
          "choropleth": [
           {
            "colorbar": {
             "outlinewidth": 0,
             "ticks": ""
            },
            "type": "choropleth"
           }
          ],
          "contour": [
           {
            "colorbar": {
             "outlinewidth": 0,
             "ticks": ""
            },
            "colorscale": [
             [
              0,
              "#0d0887"
             ],
             [
              0.1111111111111111,
              "#46039f"
             ],
             [
              0.2222222222222222,
              "#7201a8"
             ],
             [
              0.3333333333333333,
              "#9c179e"
             ],
             [
              0.4444444444444444,
              "#bd3786"
             ],
             [
              0.5555555555555556,
              "#d8576b"
             ],
             [
              0.6666666666666666,
              "#ed7953"
             ],
             [
              0.7777777777777778,
              "#fb9f3a"
             ],
             [
              0.8888888888888888,
              "#fdca26"
             ],
             [
              1,
              "#f0f921"
             ]
            ],
            "type": "contour"
           }
          ],
          "contourcarpet": [
           {
            "colorbar": {
             "outlinewidth": 0,
             "ticks": ""
            },
            "type": "contourcarpet"
           }
          ],
          "heatmap": [
           {
            "colorbar": {
             "outlinewidth": 0,
             "ticks": ""
            },
            "colorscale": [
             [
              0,
              "#0d0887"
             ],
             [
              0.1111111111111111,
              "#46039f"
             ],
             [
              0.2222222222222222,
              "#7201a8"
             ],
             [
              0.3333333333333333,
              "#9c179e"
             ],
             [
              0.4444444444444444,
              "#bd3786"
             ],
             [
              0.5555555555555556,
              "#d8576b"
             ],
             [
              0.6666666666666666,
              "#ed7953"
             ],
             [
              0.7777777777777778,
              "#fb9f3a"
             ],
             [
              0.8888888888888888,
              "#fdca26"
             ],
             [
              1,
              "#f0f921"
             ]
            ],
            "type": "heatmap"
           }
          ],
          "heatmapgl": [
           {
            "colorbar": {
             "outlinewidth": 0,
             "ticks": ""
            },
            "colorscale": [
             [
              0,
              "#0d0887"
             ],
             [
              0.1111111111111111,
              "#46039f"
             ],
             [
              0.2222222222222222,
              "#7201a8"
             ],
             [
              0.3333333333333333,
              "#9c179e"
             ],
             [
              0.4444444444444444,
              "#bd3786"
             ],
             [
              0.5555555555555556,
              "#d8576b"
             ],
             [
              0.6666666666666666,
              "#ed7953"
             ],
             [
              0.7777777777777778,
              "#fb9f3a"
             ],
             [
              0.8888888888888888,
              "#fdca26"
             ],
             [
              1,
              "#f0f921"
             ]
            ],
            "type": "heatmapgl"
           }
          ],
          "histogram": [
           {
            "marker": {
             "colorbar": {
              "outlinewidth": 0,
              "ticks": ""
             }
            },
            "type": "histogram"
           }
          ],
          "histogram2d": [
           {
            "colorbar": {
             "outlinewidth": 0,
             "ticks": ""
            },
            "colorscale": [
             [
              0,
              "#0d0887"
             ],
             [
              0.1111111111111111,
              "#46039f"
             ],
             [
              0.2222222222222222,
              "#7201a8"
             ],
             [
              0.3333333333333333,
              "#9c179e"
             ],
             [
              0.4444444444444444,
              "#bd3786"
             ],
             [
              0.5555555555555556,
              "#d8576b"
             ],
             [
              0.6666666666666666,
              "#ed7953"
             ],
             [
              0.7777777777777778,
              "#fb9f3a"
             ],
             [
              0.8888888888888888,
              "#fdca26"
             ],
             [
              1,
              "#f0f921"
             ]
            ],
            "type": "histogram2d"
           }
          ],
          "histogram2dcontour": [
           {
            "colorbar": {
             "outlinewidth": 0,
             "ticks": ""
            },
            "colorscale": [
             [
              0,
              "#0d0887"
             ],
             [
              0.1111111111111111,
              "#46039f"
             ],
             [
              0.2222222222222222,
              "#7201a8"
             ],
             [
              0.3333333333333333,
              "#9c179e"
             ],
             [
              0.4444444444444444,
              "#bd3786"
             ],
             [
              0.5555555555555556,
              "#d8576b"
             ],
             [
              0.6666666666666666,
              "#ed7953"
             ],
             [
              0.7777777777777778,
              "#fb9f3a"
             ],
             [
              0.8888888888888888,
              "#fdca26"
             ],
             [
              1,
              "#f0f921"
             ]
            ],
            "type": "histogram2dcontour"
           }
          ],
          "mesh3d": [
           {
            "colorbar": {
             "outlinewidth": 0,
             "ticks": ""
            },
            "type": "mesh3d"
           }
          ],
          "parcoords": [
           {
            "line": {
             "colorbar": {
              "outlinewidth": 0,
              "ticks": ""
             }
            },
            "type": "parcoords"
           }
          ],
          "pie": [
           {
            "automargin": true,
            "type": "pie"
           }
          ],
          "scatter": [
           {
            "marker": {
             "colorbar": {
              "outlinewidth": 0,
              "ticks": ""
             }
            },
            "type": "scatter"
           }
          ],
          "scatter3d": [
           {
            "line": {
             "colorbar": {
              "outlinewidth": 0,
              "ticks": ""
             }
            },
            "marker": {
             "colorbar": {
              "outlinewidth": 0,
              "ticks": ""
             }
            },
            "type": "scatter3d"
           }
          ],
          "scattercarpet": [
           {
            "marker": {
             "colorbar": {
              "outlinewidth": 0,
              "ticks": ""
             }
            },
            "type": "scattercarpet"
           }
          ],
          "scattergeo": [
           {
            "marker": {
             "colorbar": {
              "outlinewidth": 0,
              "ticks": ""
             }
            },
            "type": "scattergeo"
           }
          ],
          "scattergl": [
           {
            "marker": {
             "colorbar": {
              "outlinewidth": 0,
              "ticks": ""
             }
            },
            "type": "scattergl"
           }
          ],
          "scattermapbox": [
           {
            "marker": {
             "colorbar": {
              "outlinewidth": 0,
              "ticks": ""
             }
            },
            "type": "scattermapbox"
           }
          ],
          "scatterpolar": [
           {
            "marker": {
             "colorbar": {
              "outlinewidth": 0,
              "ticks": ""
             }
            },
            "type": "scatterpolar"
           }
          ],
          "scatterpolargl": [
           {
            "marker": {
             "colorbar": {
              "outlinewidth": 0,
              "ticks": ""
             }
            },
            "type": "scatterpolargl"
           }
          ],
          "scatterternary": [
           {
            "marker": {
             "colorbar": {
              "outlinewidth": 0,
              "ticks": ""
             }
            },
            "type": "scatterternary"
           }
          ],
          "surface": [
           {
            "colorbar": {
             "outlinewidth": 0,
             "ticks": ""
            },
            "colorscale": [
             [
              0,
              "#0d0887"
             ],
             [
              0.1111111111111111,
              "#46039f"
             ],
             [
              0.2222222222222222,
              "#7201a8"
             ],
             [
              0.3333333333333333,
              "#9c179e"
             ],
             [
              0.4444444444444444,
              "#bd3786"
             ],
             [
              0.5555555555555556,
              "#d8576b"
             ],
             [
              0.6666666666666666,
              "#ed7953"
             ],
             [
              0.7777777777777778,
              "#fb9f3a"
             ],
             [
              0.8888888888888888,
              "#fdca26"
             ],
             [
              1,
              "#f0f921"
             ]
            ],
            "type": "surface"
           }
          ],
          "table": [
           {
            "cells": {
             "fill": {
              "color": "#EBF0F8"
             },
             "line": {
              "color": "white"
             }
            },
            "header": {
             "fill": {
              "color": "#C8D4E3"
             },
             "line": {
              "color": "white"
             }
            },
            "type": "table"
           }
          ]
         },
         "layout": {
          "annotationdefaults": {
           "arrowcolor": "#2a3f5f",
           "arrowhead": 0,
           "arrowwidth": 1
          },
          "autotypenumbers": "strict",
          "coloraxis": {
           "colorbar": {
            "outlinewidth": 0,
            "ticks": ""
           }
          },
          "colorscale": {
           "diverging": [
            [
             0,
             "#8e0152"
            ],
            [
             0.1,
             "#c51b7d"
            ],
            [
             0.2,
             "#de77ae"
            ],
            [
             0.3,
             "#f1b6da"
            ],
            [
             0.4,
             "#fde0ef"
            ],
            [
             0.5,
             "#f7f7f7"
            ],
            [
             0.6,
             "#e6f5d0"
            ],
            [
             0.7,
             "#b8e186"
            ],
            [
             0.8,
             "#7fbc41"
            ],
            [
             0.9,
             "#4d9221"
            ],
            [
             1,
             "#276419"
            ]
           ],
           "sequential": [
            [
             0,
             "#0d0887"
            ],
            [
             0.1111111111111111,
             "#46039f"
            ],
            [
             0.2222222222222222,
             "#7201a8"
            ],
            [
             0.3333333333333333,
             "#9c179e"
            ],
            [
             0.4444444444444444,
             "#bd3786"
            ],
            [
             0.5555555555555556,
             "#d8576b"
            ],
            [
             0.6666666666666666,
             "#ed7953"
            ],
            [
             0.7777777777777778,
             "#fb9f3a"
            ],
            [
             0.8888888888888888,
             "#fdca26"
            ],
            [
             1,
             "#f0f921"
            ]
           ],
           "sequentialminus": [
            [
             0,
             "#0d0887"
            ],
            [
             0.1111111111111111,
             "#46039f"
            ],
            [
             0.2222222222222222,
             "#7201a8"
            ],
            [
             0.3333333333333333,
             "#9c179e"
            ],
            [
             0.4444444444444444,
             "#bd3786"
            ],
            [
             0.5555555555555556,
             "#d8576b"
            ],
            [
             0.6666666666666666,
             "#ed7953"
            ],
            [
             0.7777777777777778,
             "#fb9f3a"
            ],
            [
             0.8888888888888888,
             "#fdca26"
            ],
            [
             1,
             "#f0f921"
            ]
           ]
          },
          "colorway": [
           "#636efa",
           "#EF553B",
           "#00cc96",
           "#ab63fa",
           "#FFA15A",
           "#19d3f3",
           "#FF6692",
           "#B6E880",
           "#FF97FF",
           "#FECB52"
          ],
          "font": {
           "color": "#2a3f5f"
          },
          "geo": {
           "bgcolor": "white",
           "lakecolor": "white",
           "landcolor": "#E5ECF6",
           "showlakes": true,
           "showland": true,
           "subunitcolor": "white"
          },
          "hoverlabel": {
           "align": "left"
          },
          "hovermode": "closest",
          "mapbox": {
           "style": "light"
          },
          "paper_bgcolor": "white",
          "plot_bgcolor": "#E5ECF6",
          "polar": {
           "angularaxis": {
            "gridcolor": "white",
            "linecolor": "white",
            "ticks": ""
           },
           "bgcolor": "#E5ECF6",
           "radialaxis": {
            "gridcolor": "white",
            "linecolor": "white",
            "ticks": ""
           }
          },
          "scene": {
           "xaxis": {
            "backgroundcolor": "#E5ECF6",
            "gridcolor": "white",
            "gridwidth": 2,
            "linecolor": "white",
            "showbackground": true,
            "ticks": "",
            "zerolinecolor": "white"
           },
           "yaxis": {
            "backgroundcolor": "#E5ECF6",
            "gridcolor": "white",
            "gridwidth": 2,
            "linecolor": "white",
            "showbackground": true,
            "ticks": "",
            "zerolinecolor": "white"
           },
           "zaxis": {
            "backgroundcolor": "#E5ECF6",
            "gridcolor": "white",
            "gridwidth": 2,
            "linecolor": "white",
            "showbackground": true,
            "ticks": "",
            "zerolinecolor": "white"
           }
          },
          "shapedefaults": {
           "line": {
            "color": "#2a3f5f"
           }
          },
          "ternary": {
           "aaxis": {
            "gridcolor": "white",
            "linecolor": "white",
            "ticks": ""
           },
           "baxis": {
            "gridcolor": "white",
            "linecolor": "white",
            "ticks": ""
           },
           "bgcolor": "#E5ECF6",
           "caxis": {
            "gridcolor": "white",
            "linecolor": "white",
            "ticks": ""
           }
          },
          "title": {
           "x": 0.05
          },
          "xaxis": {
           "automargin": true,
           "gridcolor": "white",
           "linecolor": "white",
           "ticks": "",
           "title": {
            "standoff": 15
           },
           "zerolinecolor": "white",
           "zerolinewidth": 2
          },
          "yaxis": {
           "automargin": true,
           "gridcolor": "white",
           "linecolor": "white",
           "ticks": "",
           "title": {
            "standoff": 15
           },
           "zerolinecolor": "white",
           "zerolinewidth": 2
          }
         }
        },
        "title": {
         "text": "Optimization History Plot"
        },
        "xaxis": {
         "title": {
          "text": "#Trials"
         }
        },
        "yaxis": {
         "title": {
          "text": "Objective Value"
         }
        }
       }
      }
     },
     "metadata": {}
    },
    {
     "output_type": "display_data",
     "data": {
      "application/vnd.plotly.v1+json": {
       "config": {
        "plotlyServerURL": "https://plot.ly"
       },
       "data": [
        {
         "marker": {
          "color": [
           0,
           1,
           2,
           3,
           4,
           5,
           6,
           7,
           8,
           9,
           10,
           11,
           12,
           13,
           14,
           15,
           16,
           17,
           18,
           19,
           20,
           21,
           22,
           23,
           24,
           25,
           26,
           27,
           28,
           29,
           30,
           31,
           32,
           33,
           34,
           35,
           36,
           37,
           38,
           39
          ],
          "colorbar": {
           "title": {
            "text": "#Trials"
           },
           "x": 1,
           "xpad": 40
          },
          "colorscale": [
           [
            0,
            "rgb(247,251,255)"
           ],
           [
            0.125,
            "rgb(222,235,247)"
           ],
           [
            0.25,
            "rgb(198,219,239)"
           ],
           [
            0.375,
            "rgb(158,202,225)"
           ],
           [
            0.5,
            "rgb(107,174,214)"
           ],
           [
            0.625,
            "rgb(66,146,198)"
           ],
           [
            0.75,
            "rgb(33,113,181)"
           ],
           [
            0.875,
            "rgb(8,81,156)"
           ],
           [
            1,
            "rgb(8,48,107)"
           ]
          ],
          "line": {
           "color": "Grey",
           "width": 0.5
          },
          "showscale": true
         },
         "mode": "markers",
         "showlegend": false,
         "type": "scatter",
         "x": [
          5,
          6,
          10,
          7,
          7,
          9,
          9,
          5,
          6,
          5,
          9,
          5,
          8,
          10,
          5,
          6,
          5,
          5,
          8,
          8,
          6,
          6,
          5,
          6,
          5,
          5,
          5,
          5,
          5,
          5,
          5,
          5,
          5,
          6,
          5,
          5,
          5,
          5,
          5,
          5
         ],
         "xaxis": "x",
         "y": [
          0.8844938038475211,
          0.871766153102038,
          0.8315112584403003,
          0.8736674658750117,
          0.771403604788967,
          0.903683784275943,
          0.858800810805226,
          0.8726674829479573,
          0.8979700403082254,
          0.901168818332467,
          0.8759721785726862,
          0.8765765972960963,
          0.8876603022062857,
          0.7115493791267453,
          0.8590824218786387,
          0.8902676398810192,
          0.8950793680249552,
          0.8451800335078883,
          0.8716113783670825,
          0.8812671298847491,
          0.8261288029584943,
          0.8764746995990116,
          0.8773595258475689,
          0.8524114036820705,
          0.9112666795338993,
          0.874940819712267,
          0.8486274515876394,
          0.8793179969155575,
          0.8534490380367938,
          0.8856858374655785,
          0.8941466032420105,
          0.8925454724432241,
          0.8816896355637719,
          0.876804029289859,
          0.8557046974458153,
          0.8788466830227769,
          0.8943781962280961,
          0.8510495425650081,
          0.8800186160230175,
          0.8667242672087578
         ],
         "yaxis": "y"
        },
        {
         "marker": {
          "color": [
           0,
           1,
           2,
           3,
           4,
           5,
           6,
           7,
           8,
           9,
           10,
           11,
           12,
           13,
           14,
           15,
           16,
           17,
           18,
           19,
           20,
           21,
           22,
           23,
           24,
           25,
           26,
           27,
           28,
           29,
           30,
           31,
           32,
           33,
           34,
           35,
           36,
           37,
           38,
           39
          ],
          "colorbar": {
           "title": {
            "text": "#Trials"
           },
           "x": 1,
           "xpad": 40
          },
          "colorscale": [
           [
            0,
            "rgb(247,251,255)"
           ],
           [
            0.125,
            "rgb(222,235,247)"
           ],
           [
            0.25,
            "rgb(198,219,239)"
           ],
           [
            0.375,
            "rgb(158,202,225)"
           ],
           [
            0.5,
            "rgb(107,174,214)"
           ],
           [
            0.625,
            "rgb(66,146,198)"
           ],
           [
            0.75,
            "rgb(33,113,181)"
           ],
           [
            0.875,
            "rgb(8,81,156)"
           ],
           [
            1,
            "rgb(8,48,107)"
           ]
          ],
          "line": {
           "color": "Grey",
           "width": 0.5
          },
          "showscale": false
         },
         "mode": "markers",
         "showlegend": false,
         "type": "scatter",
         "x": [
          2,
          4,
          8,
          1,
          8,
          2,
          6,
          5,
          2,
          2,
          4,
          1,
          3,
          10,
          1,
          3,
          2,
          6,
          4,
          3,
          7,
          2,
          2,
          1,
          3,
          3,
          5,
          4,
          3,
          2,
          1,
          2,
          2,
          3,
          1,
          4,
          1,
          3,
          2,
          4
         ],
         "xaxis": "x2",
         "y": [
          0.8844938038475211,
          0.871766153102038,
          0.8315112584403003,
          0.8736674658750117,
          0.771403604788967,
          0.903683784275943,
          0.858800810805226,
          0.8726674829479573,
          0.8979700403082254,
          0.901168818332467,
          0.8759721785726862,
          0.8765765972960963,
          0.8876603022062857,
          0.7115493791267453,
          0.8590824218786387,
          0.8902676398810192,
          0.8950793680249552,
          0.8451800335078883,
          0.8716113783670825,
          0.8812671298847491,
          0.8261288029584943,
          0.8764746995990116,
          0.8773595258475689,
          0.8524114036820705,
          0.9112666795338993,
          0.874940819712267,
          0.8486274515876394,
          0.8793179969155575,
          0.8534490380367938,
          0.8856858374655785,
          0.8941466032420105,
          0.8925454724432241,
          0.8816896355637719,
          0.876804029289859,
          0.8557046974458153,
          0.8788466830227769,
          0.8943781962280961,
          0.8510495425650081,
          0.8800186160230175,
          0.8667242672087578
         ],
         "yaxis": "y2"
        },
        {
         "marker": {
          "color": [
           0,
           1,
           2,
           3,
           4,
           5,
           6,
           7,
           8,
           9,
           10,
           11,
           12,
           13,
           14,
           15,
           16,
           17,
           18,
           19,
           20,
           21,
           22,
           23,
           24,
           25,
           26,
           27,
           28,
           29,
           30,
           31,
           32,
           33,
           34,
           35,
           36,
           37,
           38,
           39
          ],
          "colorbar": {
           "title": {
            "text": "#Trials"
           },
           "x": 1,
           "xpad": 40
          },
          "colorscale": [
           [
            0,
            "rgb(247,251,255)"
           ],
           [
            0.125,
            "rgb(222,235,247)"
           ],
           [
            0.25,
            "rgb(198,219,239)"
           ],
           [
            0.375,
            "rgb(158,202,225)"
           ],
           [
            0.5,
            "rgb(107,174,214)"
           ],
           [
            0.625,
            "rgb(66,146,198)"
           ],
           [
            0.75,
            "rgb(33,113,181)"
           ],
           [
            0.875,
            "rgb(8,81,156)"
           ],
           [
            1,
            "rgb(8,48,107)"
           ]
          ],
          "line": {
           "color": "Grey",
           "width": 0.5
          },
          "showscale": false
         },
         "mode": "markers",
         "showlegend": false,
         "type": "scatter",
         "x": [
          34,
          16,
          21,
          14,
          6,
          43,
          29,
          13,
          20,
          19,
          50,
          47,
          39,
          41,
          1,
          27,
          33,
          8,
          22,
          42,
          32,
          21,
          18,
          24,
          12,
          10,
          2,
          12,
          17,
          4,
          36,
          19,
          25,
          15,
          29,
          10,
          20,
          16,
          23,
          12
         ],
         "xaxis": "x3",
         "y": [
          0.8844938038475211,
          0.871766153102038,
          0.8315112584403003,
          0.8736674658750117,
          0.771403604788967,
          0.903683784275943,
          0.858800810805226,
          0.8726674829479573,
          0.8979700403082254,
          0.901168818332467,
          0.8759721785726862,
          0.8765765972960963,
          0.8876603022062857,
          0.7115493791267453,
          0.8590824218786387,
          0.8902676398810192,
          0.8950793680249552,
          0.8451800335078883,
          0.8716113783670825,
          0.8812671298847491,
          0.8261288029584943,
          0.8764746995990116,
          0.8773595258475689,
          0.8524114036820705,
          0.9112666795338993,
          0.874940819712267,
          0.8486274515876394,
          0.8793179969155575,
          0.8534490380367938,
          0.8856858374655785,
          0.8941466032420105,
          0.8925454724432241,
          0.8816896355637719,
          0.876804029289859,
          0.8557046974458153,
          0.8788466830227769,
          0.8943781962280961,
          0.8510495425650081,
          0.8800186160230175,
          0.8667242672087578
         ],
         "yaxis": "y3"
        }
       ],
       "layout": {
        "template": {
         "data": {
          "bar": [
           {
            "error_x": {
             "color": "#2a3f5f"
            },
            "error_y": {
             "color": "#2a3f5f"
            },
            "marker": {
             "line": {
              "color": "#E5ECF6",
              "width": 0.5
             }
            },
            "type": "bar"
           }
          ],
          "barpolar": [
           {
            "marker": {
             "line": {
              "color": "#E5ECF6",
              "width": 0.5
             }
            },
            "type": "barpolar"
           }
          ],
          "carpet": [
           {
            "aaxis": {
             "endlinecolor": "#2a3f5f",
             "gridcolor": "white",
             "linecolor": "white",
             "minorgridcolor": "white",
             "startlinecolor": "#2a3f5f"
            },
            "baxis": {
             "endlinecolor": "#2a3f5f",
             "gridcolor": "white",
             "linecolor": "white",
             "minorgridcolor": "white",
             "startlinecolor": "#2a3f5f"
            },
            "type": "carpet"
           }
          ],
          "choropleth": [
           {
            "colorbar": {
             "outlinewidth": 0,
             "ticks": ""
            },
            "type": "choropleth"
           }
          ],
          "contour": [
           {
            "colorbar": {
             "outlinewidth": 0,
             "ticks": ""
            },
            "colorscale": [
             [
              0,
              "#0d0887"
             ],
             [
              0.1111111111111111,
              "#46039f"
             ],
             [
              0.2222222222222222,
              "#7201a8"
             ],
             [
              0.3333333333333333,
              "#9c179e"
             ],
             [
              0.4444444444444444,
              "#bd3786"
             ],
             [
              0.5555555555555556,
              "#d8576b"
             ],
             [
              0.6666666666666666,
              "#ed7953"
             ],
             [
              0.7777777777777778,
              "#fb9f3a"
             ],
             [
              0.8888888888888888,
              "#fdca26"
             ],
             [
              1,
              "#f0f921"
             ]
            ],
            "type": "contour"
           }
          ],
          "contourcarpet": [
           {
            "colorbar": {
             "outlinewidth": 0,
             "ticks": ""
            },
            "type": "contourcarpet"
           }
          ],
          "heatmap": [
           {
            "colorbar": {
             "outlinewidth": 0,
             "ticks": ""
            },
            "colorscale": [
             [
              0,
              "#0d0887"
             ],
             [
              0.1111111111111111,
              "#46039f"
             ],
             [
              0.2222222222222222,
              "#7201a8"
             ],
             [
              0.3333333333333333,
              "#9c179e"
             ],
             [
              0.4444444444444444,
              "#bd3786"
             ],
             [
              0.5555555555555556,
              "#d8576b"
             ],
             [
              0.6666666666666666,
              "#ed7953"
             ],
             [
              0.7777777777777778,
              "#fb9f3a"
             ],
             [
              0.8888888888888888,
              "#fdca26"
             ],
             [
              1,
              "#f0f921"
             ]
            ],
            "type": "heatmap"
           }
          ],
          "heatmapgl": [
           {
            "colorbar": {
             "outlinewidth": 0,
             "ticks": ""
            },
            "colorscale": [
             [
              0,
              "#0d0887"
             ],
             [
              0.1111111111111111,
              "#46039f"
             ],
             [
              0.2222222222222222,
              "#7201a8"
             ],
             [
              0.3333333333333333,
              "#9c179e"
             ],
             [
              0.4444444444444444,
              "#bd3786"
             ],
             [
              0.5555555555555556,
              "#d8576b"
             ],
             [
              0.6666666666666666,
              "#ed7953"
             ],
             [
              0.7777777777777778,
              "#fb9f3a"
             ],
             [
              0.8888888888888888,
              "#fdca26"
             ],
             [
              1,
              "#f0f921"
             ]
            ],
            "type": "heatmapgl"
           }
          ],
          "histogram": [
           {
            "marker": {
             "colorbar": {
              "outlinewidth": 0,
              "ticks": ""
             }
            },
            "type": "histogram"
           }
          ],
          "histogram2d": [
           {
            "colorbar": {
             "outlinewidth": 0,
             "ticks": ""
            },
            "colorscale": [
             [
              0,
              "#0d0887"
             ],
             [
              0.1111111111111111,
              "#46039f"
             ],
             [
              0.2222222222222222,
              "#7201a8"
             ],
             [
              0.3333333333333333,
              "#9c179e"
             ],
             [
              0.4444444444444444,
              "#bd3786"
             ],
             [
              0.5555555555555556,
              "#d8576b"
             ],
             [
              0.6666666666666666,
              "#ed7953"
             ],
             [
              0.7777777777777778,
              "#fb9f3a"
             ],
             [
              0.8888888888888888,
              "#fdca26"
             ],
             [
              1,
              "#f0f921"
             ]
            ],
            "type": "histogram2d"
           }
          ],
          "histogram2dcontour": [
           {
            "colorbar": {
             "outlinewidth": 0,
             "ticks": ""
            },
            "colorscale": [
             [
              0,
              "#0d0887"
             ],
             [
              0.1111111111111111,
              "#46039f"
             ],
             [
              0.2222222222222222,
              "#7201a8"
             ],
             [
              0.3333333333333333,
              "#9c179e"
             ],
             [
              0.4444444444444444,
              "#bd3786"
             ],
             [
              0.5555555555555556,
              "#d8576b"
             ],
             [
              0.6666666666666666,
              "#ed7953"
             ],
             [
              0.7777777777777778,
              "#fb9f3a"
             ],
             [
              0.8888888888888888,
              "#fdca26"
             ],
             [
              1,
              "#f0f921"
             ]
            ],
            "type": "histogram2dcontour"
           }
          ],
          "mesh3d": [
           {
            "colorbar": {
             "outlinewidth": 0,
             "ticks": ""
            },
            "type": "mesh3d"
           }
          ],
          "parcoords": [
           {
            "line": {
             "colorbar": {
              "outlinewidth": 0,
              "ticks": ""
             }
            },
            "type": "parcoords"
           }
          ],
          "pie": [
           {
            "automargin": true,
            "type": "pie"
           }
          ],
          "scatter": [
           {
            "marker": {
             "colorbar": {
              "outlinewidth": 0,
              "ticks": ""
             }
            },
            "type": "scatter"
           }
          ],
          "scatter3d": [
           {
            "line": {
             "colorbar": {
              "outlinewidth": 0,
              "ticks": ""
             }
            },
            "marker": {
             "colorbar": {
              "outlinewidth": 0,
              "ticks": ""
             }
            },
            "type": "scatter3d"
           }
          ],
          "scattercarpet": [
           {
            "marker": {
             "colorbar": {
              "outlinewidth": 0,
              "ticks": ""
             }
            },
            "type": "scattercarpet"
           }
          ],
          "scattergeo": [
           {
            "marker": {
             "colorbar": {
              "outlinewidth": 0,
              "ticks": ""
             }
            },
            "type": "scattergeo"
           }
          ],
          "scattergl": [
           {
            "marker": {
             "colorbar": {
              "outlinewidth": 0,
              "ticks": ""
             }
            },
            "type": "scattergl"
           }
          ],
          "scattermapbox": [
           {
            "marker": {
             "colorbar": {
              "outlinewidth": 0,
              "ticks": ""
             }
            },
            "type": "scattermapbox"
           }
          ],
          "scatterpolar": [
           {
            "marker": {
             "colorbar": {
              "outlinewidth": 0,
              "ticks": ""
             }
            },
            "type": "scatterpolar"
           }
          ],
          "scatterpolargl": [
           {
            "marker": {
             "colorbar": {
              "outlinewidth": 0,
              "ticks": ""
             }
            },
            "type": "scatterpolargl"
           }
          ],
          "scatterternary": [
           {
            "marker": {
             "colorbar": {
              "outlinewidth": 0,
              "ticks": ""
             }
            },
            "type": "scatterternary"
           }
          ],
          "surface": [
           {
            "colorbar": {
             "outlinewidth": 0,
             "ticks": ""
            },
            "colorscale": [
             [
              0,
              "#0d0887"
             ],
             [
              0.1111111111111111,
              "#46039f"
             ],
             [
              0.2222222222222222,
              "#7201a8"
             ],
             [
              0.3333333333333333,
              "#9c179e"
             ],
             [
              0.4444444444444444,
              "#bd3786"
             ],
             [
              0.5555555555555556,
              "#d8576b"
             ],
             [
              0.6666666666666666,
              "#ed7953"
             ],
             [
              0.7777777777777778,
              "#fb9f3a"
             ],
             [
              0.8888888888888888,
              "#fdca26"
             ],
             [
              1,
              "#f0f921"
             ]
            ],
            "type": "surface"
           }
          ],
          "table": [
           {
            "cells": {
             "fill": {
              "color": "#EBF0F8"
             },
             "line": {
              "color": "white"
             }
            },
            "header": {
             "fill": {
              "color": "#C8D4E3"
             },
             "line": {
              "color": "white"
             }
            },
            "type": "table"
           }
          ]
         },
         "layout": {
          "annotationdefaults": {
           "arrowcolor": "#2a3f5f",
           "arrowhead": 0,
           "arrowwidth": 1
          },
          "autotypenumbers": "strict",
          "coloraxis": {
           "colorbar": {
            "outlinewidth": 0,
            "ticks": ""
           }
          },
          "colorscale": {
           "diverging": [
            [
             0,
             "#8e0152"
            ],
            [
             0.1,
             "#c51b7d"
            ],
            [
             0.2,
             "#de77ae"
            ],
            [
             0.3,
             "#f1b6da"
            ],
            [
             0.4,
             "#fde0ef"
            ],
            [
             0.5,
             "#f7f7f7"
            ],
            [
             0.6,
             "#e6f5d0"
            ],
            [
             0.7,
             "#b8e186"
            ],
            [
             0.8,
             "#7fbc41"
            ],
            [
             0.9,
             "#4d9221"
            ],
            [
             1,
             "#276419"
            ]
           ],
           "sequential": [
            [
             0,
             "#0d0887"
            ],
            [
             0.1111111111111111,
             "#46039f"
            ],
            [
             0.2222222222222222,
             "#7201a8"
            ],
            [
             0.3333333333333333,
             "#9c179e"
            ],
            [
             0.4444444444444444,
             "#bd3786"
            ],
            [
             0.5555555555555556,
             "#d8576b"
            ],
            [
             0.6666666666666666,
             "#ed7953"
            ],
            [
             0.7777777777777778,
             "#fb9f3a"
            ],
            [
             0.8888888888888888,
             "#fdca26"
            ],
            [
             1,
             "#f0f921"
            ]
           ],
           "sequentialminus": [
            [
             0,
             "#0d0887"
            ],
            [
             0.1111111111111111,
             "#46039f"
            ],
            [
             0.2222222222222222,
             "#7201a8"
            ],
            [
             0.3333333333333333,
             "#9c179e"
            ],
            [
             0.4444444444444444,
             "#bd3786"
            ],
            [
             0.5555555555555556,
             "#d8576b"
            ],
            [
             0.6666666666666666,
             "#ed7953"
            ],
            [
             0.7777777777777778,
             "#fb9f3a"
            ],
            [
             0.8888888888888888,
             "#fdca26"
            ],
            [
             1,
             "#f0f921"
            ]
           ]
          },
          "colorway": [
           "#636efa",
           "#EF553B",
           "#00cc96",
           "#ab63fa",
           "#FFA15A",
           "#19d3f3",
           "#FF6692",
           "#B6E880",
           "#FF97FF",
           "#FECB52"
          ],
          "font": {
           "color": "#2a3f5f"
          },
          "geo": {
           "bgcolor": "white",
           "lakecolor": "white",
           "landcolor": "#E5ECF6",
           "showlakes": true,
           "showland": true,
           "subunitcolor": "white"
          },
          "hoverlabel": {
           "align": "left"
          },
          "hovermode": "closest",
          "mapbox": {
           "style": "light"
          },
          "paper_bgcolor": "white",
          "plot_bgcolor": "#E5ECF6",
          "polar": {
           "angularaxis": {
            "gridcolor": "white",
            "linecolor": "white",
            "ticks": ""
           },
           "bgcolor": "#E5ECF6",
           "radialaxis": {
            "gridcolor": "white",
            "linecolor": "white",
            "ticks": ""
           }
          },
          "scene": {
           "xaxis": {
            "backgroundcolor": "#E5ECF6",
            "gridcolor": "white",
            "gridwidth": 2,
            "linecolor": "white",
            "showbackground": true,
            "ticks": "",
            "zerolinecolor": "white"
           },
           "yaxis": {
            "backgroundcolor": "#E5ECF6",
            "gridcolor": "white",
            "gridwidth": 2,
            "linecolor": "white",
            "showbackground": true,
            "ticks": "",
            "zerolinecolor": "white"
           },
           "zaxis": {
            "backgroundcolor": "#E5ECF6",
            "gridcolor": "white",
            "gridwidth": 2,
            "linecolor": "white",
            "showbackground": true,
            "ticks": "",
            "zerolinecolor": "white"
           }
          },
          "shapedefaults": {
           "line": {
            "color": "#2a3f5f"
           }
          },
          "ternary": {
           "aaxis": {
            "gridcolor": "white",
            "linecolor": "white",
            "ticks": ""
           },
           "baxis": {
            "gridcolor": "white",
            "linecolor": "white",
            "ticks": ""
           },
           "bgcolor": "#E5ECF6",
           "caxis": {
            "gridcolor": "white",
            "linecolor": "white",
            "ticks": ""
           }
          },
          "title": {
           "x": 0.05
          },
          "xaxis": {
           "automargin": true,
           "gridcolor": "white",
           "linecolor": "white",
           "ticks": "",
           "title": {
            "standoff": 15
           },
           "zerolinecolor": "white",
           "zerolinewidth": 2
          },
          "yaxis": {
           "automargin": true,
           "gridcolor": "white",
           "linecolor": "white",
           "ticks": "",
           "title": {
            "standoff": 15
           },
           "zerolinecolor": "white",
           "zerolinewidth": 2
          }
         }
        },
        "title": {
         "text": "Slice Plot"
        },
        "xaxis": {
         "anchor": "y",
         "domain": [
          0,
          0.2888888888888889
         ],
         "title": {
          "text": "rf_max_depth"
         }
        },
        "xaxis2": {
         "anchor": "y2",
         "domain": [
          0.35555555555555557,
          0.6444444444444445
         ],
         "title": {
          "text": "rf_min_samples_leaf"
         }
        },
        "xaxis3": {
         "anchor": "y3",
         "domain": [
          0.7111111111111111,
          1
         ],
         "title": {
          "text": "rf_n_estimators"
         }
        },
        "yaxis": {
         "anchor": "x",
         "domain": [
          0,
          1
         ],
         "title": {
          "text": "Objective Value"
         }
        },
        "yaxis2": {
         "anchor": "x2",
         "domain": [
          0,
          1
         ],
         "matches": "y",
         "showticklabels": false
        },
        "yaxis3": {
         "anchor": "x3",
         "domain": [
          0,
          1
         ],
         "matches": "y",
         "showticklabels": false
        }
       }
      }
     },
     "metadata": {}
    },
    {
     "output_type": "display_data",
     "data": {
      "application/vnd.plotly.v1+json": {
       "config": {
        "plotlyServerURL": "https://plot.ly"
       },
       "data": [
        {
         "dimensions": [
          {
           "label": "Objective Value",
           "range": [
            0.7115493791267453,
            0.9112666795338993
           ],
           "values": [
            0.8844938038475211,
            0.871766153102038,
            0.8315112584403003,
            0.8736674658750117,
            0.771403604788967,
            0.903683784275943,
            0.858800810805226,
            0.8726674829479573,
            0.8979700403082254,
            0.901168818332467,
            0.8759721785726862,
            0.8765765972960963,
            0.8876603022062857,
            0.7115493791267453,
            0.8590824218786387,
            0.8902676398810192,
            0.8950793680249552,
            0.8451800335078883,
            0.8716113783670825,
            0.8812671298847491,
            0.8261288029584943,
            0.8764746995990116,
            0.8773595258475689,
            0.8524114036820705,
            0.9112666795338993,
            0.874940819712267,
            0.8486274515876394,
            0.8793179969155575,
            0.8534490380367938,
            0.8856858374655785,
            0.8941466032420105,
            0.8925454724432241,
            0.8816896355637719,
            0.876804029289859,
            0.8557046974458153,
            0.8788466830227769,
            0.8943781962280961,
            0.8510495425650081,
            0.8800186160230175,
            0.8667242672087578
           ]
          },
          {
           "label": "rf_max_depth",
           "range": [
            5,
            10
           ],
           "values": [
            5,
            6,
            10,
            7,
            7,
            9,
            9,
            5,
            6,
            5,
            9,
            5,
            8,
            10,
            5,
            6,
            5,
            5,
            8,
            8,
            6,
            6,
            5,
            6,
            5,
            5,
            5,
            5,
            5,
            5,
            5,
            5,
            5,
            6,
            5,
            5,
            5,
            5,
            5,
            5
           ]
          },
          {
           "label": "rf_min_samples_leaf",
           "range": [
            1,
            10
           ],
           "values": [
            2,
            4,
            8,
            1,
            8,
            2,
            6,
            5,
            2,
            2,
            4,
            1,
            3,
            10,
            1,
            3,
            2,
            6,
            4,
            3,
            7,
            2,
            2,
            1,
            3,
            3,
            5,
            4,
            3,
            2,
            1,
            2,
            2,
            3,
            1,
            4,
            1,
            3,
            2,
            4
           ]
          },
          {
           "label": "rf_n_estimators",
           "range": [
            1,
            50
           ],
           "values": [
            34,
            16,
            21,
            14,
            6,
            43,
            29,
            13,
            20,
            19,
            50,
            47,
            39,
            41,
            1,
            27,
            33,
            8,
            22,
            42,
            32,
            21,
            18,
            24,
            12,
            10,
            2,
            12,
            17,
            4,
            36,
            19,
            25,
            15,
            29,
            10,
            20,
            16,
            23,
            12
           ]
          }
         ],
         "labelangle": 30,
         "labelside": "bottom",
         "line": {
          "color": [
           0.8844938038475211,
           0.871766153102038,
           0.8315112584403003,
           0.8736674658750117,
           0.771403604788967,
           0.903683784275943,
           0.858800810805226,
           0.8726674829479573,
           0.8979700403082254,
           0.901168818332467,
           0.8759721785726862,
           0.8765765972960963,
           0.8876603022062857,
           0.7115493791267453,
           0.8590824218786387,
           0.8902676398810192,
           0.8950793680249552,
           0.8451800335078883,
           0.8716113783670825,
           0.8812671298847491,
           0.8261288029584943,
           0.8764746995990116,
           0.8773595258475689,
           0.8524114036820705,
           0.9112666795338993,
           0.874940819712267,
           0.8486274515876394,
           0.8793179969155575,
           0.8534490380367938,
           0.8856858374655785,
           0.8941466032420105,
           0.8925454724432241,
           0.8816896355637719,
           0.876804029289859,
           0.8557046974458153,
           0.8788466830227769,
           0.8943781962280961,
           0.8510495425650081,
           0.8800186160230175,
           0.8667242672087578
          ],
          "colorbar": {
           "title": {
            "text": "Objective Value"
           }
          },
          "colorscale": [
           [
            0,
            "rgb(247,251,255)"
           ],
           [
            0.125,
            "rgb(222,235,247)"
           ],
           [
            0.25,
            "rgb(198,219,239)"
           ],
           [
            0.375,
            "rgb(158,202,225)"
           ],
           [
            0.5,
            "rgb(107,174,214)"
           ],
           [
            0.625,
            "rgb(66,146,198)"
           ],
           [
            0.75,
            "rgb(33,113,181)"
           ],
           [
            0.875,
            "rgb(8,81,156)"
           ],
           [
            1,
            "rgb(8,48,107)"
           ]
          ],
          "reversescale": false,
          "showscale": true
         },
         "type": "parcoords"
        }
       ],
       "layout": {
        "template": {
         "data": {
          "bar": [
           {
            "error_x": {
             "color": "#2a3f5f"
            },
            "error_y": {
             "color": "#2a3f5f"
            },
            "marker": {
             "line": {
              "color": "#E5ECF6",
              "width": 0.5
             }
            },
            "type": "bar"
           }
          ],
          "barpolar": [
           {
            "marker": {
             "line": {
              "color": "#E5ECF6",
              "width": 0.5
             }
            },
            "type": "barpolar"
           }
          ],
          "carpet": [
           {
            "aaxis": {
             "endlinecolor": "#2a3f5f",
             "gridcolor": "white",
             "linecolor": "white",
             "minorgridcolor": "white",
             "startlinecolor": "#2a3f5f"
            },
            "baxis": {
             "endlinecolor": "#2a3f5f",
             "gridcolor": "white",
             "linecolor": "white",
             "minorgridcolor": "white",
             "startlinecolor": "#2a3f5f"
            },
            "type": "carpet"
           }
          ],
          "choropleth": [
           {
            "colorbar": {
             "outlinewidth": 0,
             "ticks": ""
            },
            "type": "choropleth"
           }
          ],
          "contour": [
           {
            "colorbar": {
             "outlinewidth": 0,
             "ticks": ""
            },
            "colorscale": [
             [
              0,
              "#0d0887"
             ],
             [
              0.1111111111111111,
              "#46039f"
             ],
             [
              0.2222222222222222,
              "#7201a8"
             ],
             [
              0.3333333333333333,
              "#9c179e"
             ],
             [
              0.4444444444444444,
              "#bd3786"
             ],
             [
              0.5555555555555556,
              "#d8576b"
             ],
             [
              0.6666666666666666,
              "#ed7953"
             ],
             [
              0.7777777777777778,
              "#fb9f3a"
             ],
             [
              0.8888888888888888,
              "#fdca26"
             ],
             [
              1,
              "#f0f921"
             ]
            ],
            "type": "contour"
           }
          ],
          "contourcarpet": [
           {
            "colorbar": {
             "outlinewidth": 0,
             "ticks": ""
            },
            "type": "contourcarpet"
           }
          ],
          "heatmap": [
           {
            "colorbar": {
             "outlinewidth": 0,
             "ticks": ""
            },
            "colorscale": [
             [
              0,
              "#0d0887"
             ],
             [
              0.1111111111111111,
              "#46039f"
             ],
             [
              0.2222222222222222,
              "#7201a8"
             ],
             [
              0.3333333333333333,
              "#9c179e"
             ],
             [
              0.4444444444444444,
              "#bd3786"
             ],
             [
              0.5555555555555556,
              "#d8576b"
             ],
             [
              0.6666666666666666,
              "#ed7953"
             ],
             [
              0.7777777777777778,
              "#fb9f3a"
             ],
             [
              0.8888888888888888,
              "#fdca26"
             ],
             [
              1,
              "#f0f921"
             ]
            ],
            "type": "heatmap"
           }
          ],
          "heatmapgl": [
           {
            "colorbar": {
             "outlinewidth": 0,
             "ticks": ""
            },
            "colorscale": [
             [
              0,
              "#0d0887"
             ],
             [
              0.1111111111111111,
              "#46039f"
             ],
             [
              0.2222222222222222,
              "#7201a8"
             ],
             [
              0.3333333333333333,
              "#9c179e"
             ],
             [
              0.4444444444444444,
              "#bd3786"
             ],
             [
              0.5555555555555556,
              "#d8576b"
             ],
             [
              0.6666666666666666,
              "#ed7953"
             ],
             [
              0.7777777777777778,
              "#fb9f3a"
             ],
             [
              0.8888888888888888,
              "#fdca26"
             ],
             [
              1,
              "#f0f921"
             ]
            ],
            "type": "heatmapgl"
           }
          ],
          "histogram": [
           {
            "marker": {
             "colorbar": {
              "outlinewidth": 0,
              "ticks": ""
             }
            },
            "type": "histogram"
           }
          ],
          "histogram2d": [
           {
            "colorbar": {
             "outlinewidth": 0,
             "ticks": ""
            },
            "colorscale": [
             [
              0,
              "#0d0887"
             ],
             [
              0.1111111111111111,
              "#46039f"
             ],
             [
              0.2222222222222222,
              "#7201a8"
             ],
             [
              0.3333333333333333,
              "#9c179e"
             ],
             [
              0.4444444444444444,
              "#bd3786"
             ],
             [
              0.5555555555555556,
              "#d8576b"
             ],
             [
              0.6666666666666666,
              "#ed7953"
             ],
             [
              0.7777777777777778,
              "#fb9f3a"
             ],
             [
              0.8888888888888888,
              "#fdca26"
             ],
             [
              1,
              "#f0f921"
             ]
            ],
            "type": "histogram2d"
           }
          ],
          "histogram2dcontour": [
           {
            "colorbar": {
             "outlinewidth": 0,
             "ticks": ""
            },
            "colorscale": [
             [
              0,
              "#0d0887"
             ],
             [
              0.1111111111111111,
              "#46039f"
             ],
             [
              0.2222222222222222,
              "#7201a8"
             ],
             [
              0.3333333333333333,
              "#9c179e"
             ],
             [
              0.4444444444444444,
              "#bd3786"
             ],
             [
              0.5555555555555556,
              "#d8576b"
             ],
             [
              0.6666666666666666,
              "#ed7953"
             ],
             [
              0.7777777777777778,
              "#fb9f3a"
             ],
             [
              0.8888888888888888,
              "#fdca26"
             ],
             [
              1,
              "#f0f921"
             ]
            ],
            "type": "histogram2dcontour"
           }
          ],
          "mesh3d": [
           {
            "colorbar": {
             "outlinewidth": 0,
             "ticks": ""
            },
            "type": "mesh3d"
           }
          ],
          "parcoords": [
           {
            "line": {
             "colorbar": {
              "outlinewidth": 0,
              "ticks": ""
             }
            },
            "type": "parcoords"
           }
          ],
          "pie": [
           {
            "automargin": true,
            "type": "pie"
           }
          ],
          "scatter": [
           {
            "marker": {
             "colorbar": {
              "outlinewidth": 0,
              "ticks": ""
             }
            },
            "type": "scatter"
           }
          ],
          "scatter3d": [
           {
            "line": {
             "colorbar": {
              "outlinewidth": 0,
              "ticks": ""
             }
            },
            "marker": {
             "colorbar": {
              "outlinewidth": 0,
              "ticks": ""
             }
            },
            "type": "scatter3d"
           }
          ],
          "scattercarpet": [
           {
            "marker": {
             "colorbar": {
              "outlinewidth": 0,
              "ticks": ""
             }
            },
            "type": "scattercarpet"
           }
          ],
          "scattergeo": [
           {
            "marker": {
             "colorbar": {
              "outlinewidth": 0,
              "ticks": ""
             }
            },
            "type": "scattergeo"
           }
          ],
          "scattergl": [
           {
            "marker": {
             "colorbar": {
              "outlinewidth": 0,
              "ticks": ""
             }
            },
            "type": "scattergl"
           }
          ],
          "scattermapbox": [
           {
            "marker": {
             "colorbar": {
              "outlinewidth": 0,
              "ticks": ""
             }
            },
            "type": "scattermapbox"
           }
          ],
          "scatterpolar": [
           {
            "marker": {
             "colorbar": {
              "outlinewidth": 0,
              "ticks": ""
             }
            },
            "type": "scatterpolar"
           }
          ],
          "scatterpolargl": [
           {
            "marker": {
             "colorbar": {
              "outlinewidth": 0,
              "ticks": ""
             }
            },
            "type": "scatterpolargl"
           }
          ],
          "scatterternary": [
           {
            "marker": {
             "colorbar": {
              "outlinewidth": 0,
              "ticks": ""
             }
            },
            "type": "scatterternary"
           }
          ],
          "surface": [
           {
            "colorbar": {
             "outlinewidth": 0,
             "ticks": ""
            },
            "colorscale": [
             [
              0,
              "#0d0887"
             ],
             [
              0.1111111111111111,
              "#46039f"
             ],
             [
              0.2222222222222222,
              "#7201a8"
             ],
             [
              0.3333333333333333,
              "#9c179e"
             ],
             [
              0.4444444444444444,
              "#bd3786"
             ],
             [
              0.5555555555555556,
              "#d8576b"
             ],
             [
              0.6666666666666666,
              "#ed7953"
             ],
             [
              0.7777777777777778,
              "#fb9f3a"
             ],
             [
              0.8888888888888888,
              "#fdca26"
             ],
             [
              1,
              "#f0f921"
             ]
            ],
            "type": "surface"
           }
          ],
          "table": [
           {
            "cells": {
             "fill": {
              "color": "#EBF0F8"
             },
             "line": {
              "color": "white"
             }
            },
            "header": {
             "fill": {
              "color": "#C8D4E3"
             },
             "line": {
              "color": "white"
             }
            },
            "type": "table"
           }
          ]
         },
         "layout": {
          "annotationdefaults": {
           "arrowcolor": "#2a3f5f",
           "arrowhead": 0,
           "arrowwidth": 1
          },
          "autotypenumbers": "strict",
          "coloraxis": {
           "colorbar": {
            "outlinewidth": 0,
            "ticks": ""
           }
          },
          "colorscale": {
           "diverging": [
            [
             0,
             "#8e0152"
            ],
            [
             0.1,
             "#c51b7d"
            ],
            [
             0.2,
             "#de77ae"
            ],
            [
             0.3,
             "#f1b6da"
            ],
            [
             0.4,
             "#fde0ef"
            ],
            [
             0.5,
             "#f7f7f7"
            ],
            [
             0.6,
             "#e6f5d0"
            ],
            [
             0.7,
             "#b8e186"
            ],
            [
             0.8,
             "#7fbc41"
            ],
            [
             0.9,
             "#4d9221"
            ],
            [
             1,
             "#276419"
            ]
           ],
           "sequential": [
            [
             0,
             "#0d0887"
            ],
            [
             0.1111111111111111,
             "#46039f"
            ],
            [
             0.2222222222222222,
             "#7201a8"
            ],
            [
             0.3333333333333333,
             "#9c179e"
            ],
            [
             0.4444444444444444,
             "#bd3786"
            ],
            [
             0.5555555555555556,
             "#d8576b"
            ],
            [
             0.6666666666666666,
             "#ed7953"
            ],
            [
             0.7777777777777778,
             "#fb9f3a"
            ],
            [
             0.8888888888888888,
             "#fdca26"
            ],
            [
             1,
             "#f0f921"
            ]
           ],
           "sequentialminus": [
            [
             0,
             "#0d0887"
            ],
            [
             0.1111111111111111,
             "#46039f"
            ],
            [
             0.2222222222222222,
             "#7201a8"
            ],
            [
             0.3333333333333333,
             "#9c179e"
            ],
            [
             0.4444444444444444,
             "#bd3786"
            ],
            [
             0.5555555555555556,
             "#d8576b"
            ],
            [
             0.6666666666666666,
             "#ed7953"
            ],
            [
             0.7777777777777778,
             "#fb9f3a"
            ],
            [
             0.8888888888888888,
             "#fdca26"
            ],
            [
             1,
             "#f0f921"
            ]
           ]
          },
          "colorway": [
           "#636efa",
           "#EF553B",
           "#00cc96",
           "#ab63fa",
           "#FFA15A",
           "#19d3f3",
           "#FF6692",
           "#B6E880",
           "#FF97FF",
           "#FECB52"
          ],
          "font": {
           "color": "#2a3f5f"
          },
          "geo": {
           "bgcolor": "white",
           "lakecolor": "white",
           "landcolor": "#E5ECF6",
           "showlakes": true,
           "showland": true,
           "subunitcolor": "white"
          },
          "hoverlabel": {
           "align": "left"
          },
          "hovermode": "closest",
          "mapbox": {
           "style": "light"
          },
          "paper_bgcolor": "white",
          "plot_bgcolor": "#E5ECF6",
          "polar": {
           "angularaxis": {
            "gridcolor": "white",
            "linecolor": "white",
            "ticks": ""
           },
           "bgcolor": "#E5ECF6",
           "radialaxis": {
            "gridcolor": "white",
            "linecolor": "white",
            "ticks": ""
           }
          },
          "scene": {
           "xaxis": {
            "backgroundcolor": "#E5ECF6",
            "gridcolor": "white",
            "gridwidth": 2,
            "linecolor": "white",
            "showbackground": true,
            "ticks": "",
            "zerolinecolor": "white"
           },
           "yaxis": {
            "backgroundcolor": "#E5ECF6",
            "gridcolor": "white",
            "gridwidth": 2,
            "linecolor": "white",
            "showbackground": true,
            "ticks": "",
            "zerolinecolor": "white"
           },
           "zaxis": {
            "backgroundcolor": "#E5ECF6",
            "gridcolor": "white",
            "gridwidth": 2,
            "linecolor": "white",
            "showbackground": true,
            "ticks": "",
            "zerolinecolor": "white"
           }
          },
          "shapedefaults": {
           "line": {
            "color": "#2a3f5f"
           }
          },
          "ternary": {
           "aaxis": {
            "gridcolor": "white",
            "linecolor": "white",
            "ticks": ""
           },
           "baxis": {
            "gridcolor": "white",
            "linecolor": "white",
            "ticks": ""
           },
           "bgcolor": "#E5ECF6",
           "caxis": {
            "gridcolor": "white",
            "linecolor": "white",
            "ticks": ""
           }
          },
          "title": {
           "x": 0.05
          },
          "xaxis": {
           "automargin": true,
           "gridcolor": "white",
           "linecolor": "white",
           "ticks": "",
           "title": {
            "standoff": 15
           },
           "zerolinecolor": "white",
           "zerolinewidth": 2
          },
          "yaxis": {
           "automargin": true,
           "gridcolor": "white",
           "linecolor": "white",
           "ticks": "",
           "title": {
            "standoff": 15
           },
           "zerolinecolor": "white",
           "zerolinewidth": 2
          }
         }
        },
        "title": {
         "text": "Parallel Coordinate Plot"
        }
       }
      }
     },
     "metadata": {}
    }
   ],
   "metadata": {}
  },
  {
   "cell_type": "code",
   "execution_count": 54,
   "source": [
    "# Criação, treinamento e teste do modelo RF com hiperparâmetros otimizados\r\n",
    "m2 = sklearn.ensemble.RandomForestRegressor(max_depth = study_rc.best_params['rf_max_depth'],\r\n",
    "min_samples_leaf = study_rc.best_params['rf_min_samples_leaf'],\r\n",
    "n_estimators = study_rc.best_params['rf_n_estimators'])\r\n",
    "\r\n",
    "m2.fit(train_data, train_output)  # treinamento\r\n",
    "predictions = m2.predict(test_data)  # teste"
   ],
   "outputs": [],
   "metadata": {}
  },
  {
   "cell_type": "code",
   "execution_count": null,
   "source": [
    "'''# Célula alternativa a anterior, que salva o modelo em um arquivo joblib\r\n",
    "\r\n",
    "# Criação, treinamento e teste do modelo RF com hiperparâmetros otimizados\r\n",
    "m2 = sklearn.ensemble.RandomForestRegressor(max_depth = study_rc.best_params['rf_max_depth'],\r\n",
    "min_samples_leaf = study_rc.best_params['rf_min_samples_leaf'],\r\n",
    "n_estimators = study_rc.best_params['rf_n_estimators'])\r\n",
    "\r\n",
    "m2.fit(train_data, train_output)  # treinamento\r\n",
    "\r\n",
    "joblib.dump(m2, \"RF_model.joblib\")\r\n",
    "loaded_model = joblib.load(\"RF_model.joblib\")\r\n",
    "predictions = loaded_model.predict(test_data)  # teste '''"
   ],
   "outputs": [],
   "metadata": {}
  },
  {
   "cell_type": "code",
   "execution_count": 55,
   "source": [
    "# Métricas avaliação modelo\r\n",
    "print('Mean Absolute Error:', sklearn.metrics.mean_absolute_error(test_output, predictions))\r\n",
    "print('Mean Squared Error:', sklearn.metrics.mean_squared_error(test_output, predictions))\r\n",
    "print('Root Mean Squared Error:', np.sqrt(sklearn.metrics.mean_squared_error(test_output, predictions)))\r\n",
    "print('R^2:', sklearn.metrics.r2_score(test_output, predictions))"
   ],
   "outputs": [
    {
     "output_type": "stream",
     "name": "stdout",
     "text": [
      "Mean Absolute Error: 0.0251420982452877\n",
      "Mean Squared Error: 0.0008781629796000506\n",
      "Root Mean Squared Error: 0.02963381479998906\n",
      "R^2: 0.7264556432918781\n"
     ]
    }
   ],
   "metadata": {}
  },
  {
   "cell_type": "code",
   "execution_count": 40,
   "source": [
    "# Gráfico predição\r\n",
    "plt.figure()\r\n",
    "reta = np.random.uniform(low=0.017, high=0.24, size=(50,))\r\n",
    "plt.plot(reta,reta, color='black', label='x = y') #plot reta x = y\r\n",
    "plt.scatter(test_output, predictions, color='blue', marker='x')\r\n",
    "plt.legend(fontsize=15, loc='best')\r\n",
    "plt.xlabel('Valores Verdadeiros do Teste', fontsize=15)\r\n",
    "plt.ylabel('Valores Preditos', fontsize=15)\r\n",
    "plt.title('Predição - RF', fontsize=15)\r\n",
    "plt.tight_layout()\r\n",
    "plt.savefig('RF_testpredictions.png')\r\n",
    "plt.show()\r\n",
    "plt.close()"
   ],
   "outputs": [
    {
     "output_type": "display_data",
     "data": {
      "image/png": "[encoded data removed]",
      "text/plain": [
       "<Figure size 432x288 with 1 Axes>"
      ]
     },
     "metadata": {}
    }
   ],
   "metadata": {}
  },
  {
   "cell_type": "code",
   "execution_count": 41,
   "source": [
    "# Gráfico Resíduos\r\n",
    "residue = test_output - predictions\r\n",
    "plt.figure()\r\n",
    "plt.grid(axis='y')\r\n",
    "plt.hist(x=residue, bins='auto', ec='black')\r\n",
    "plt.ylabel('Frequencia', fontsize=15)\r\n",
    "plt.xlabel('Resíduo', fontsize=15)\r\n",
    "plt.title('Resíduo - RF', fontsize=15)\r\n",
    "plt.tight_layout()\r\n",
    "plt.savefig('RF_residue.png')\r\n",
    "plt.show()\r\n",
    "plt.close()"
   ],
   "outputs": [
    {
     "output_type": "display_data",
     "data": {
      "image/png": "[encoded data removed]",
      "text/plain": [
       "<Figure size 432x288 with 1 Axes>"
      ]
     },
     "metadata": {}
    }
   ],
   "metadata": {}
  },
  {
   "cell_type": "code",
   "execution_count": 42,
   "source": [
    "# Importancia das variáveis\r\n",
    "importances = list(m2.feature_importances_)\r\n",
    "feature_importances = [(feature, round(importance, 4)) for feature, importance in zip(header, importances)]\r\n",
    "feature_importances = sorted(feature_importances, key=lambda x: x[1], reverse=True)\r\n",
    "[print('Variável: {:20} Importância: {}'.format(*pair)) for pair in feature_importances]\r\n",
    "\r\n",
    "# Gráfico importância\r\n",
    "sns.set(font_scale=1)\r\n",
    "x_values = list(range(len(importances)))\r\n",
    "plt.figure()\r\n",
    "plt.grid(axis='y')\r\n",
    "plt.bar(x_values, importances, orientation='vertical')\r\n",
    "plt.xticks(x_values, header, rotation='vertical')\r\n",
    "plt.ylabel('Importância')\r\n",
    "plt.xlabel('Variável')\r\n",
    "plt.title('Importância das Variáveis - RF', fontsize=15)\r\n",
    "plt.tight_layout()\r\n",
    "plt.savefig('RF_importance.png')\r\n",
    "plt.show()\r\n",
    "plt.close()"
   ],
   "outputs": [
    {
     "output_type": "stream",
     "name": "stdout",
     "text": [
      "Variável: Co                   Importância: 0.9096\n",
      "Variável: Mol.SA               Importância: 0.0566\n",
      "Variável: MolV                 Importância: 0.0294\n",
      "Variável: T                    Importância: 0.0044\n"
     ]
    },
    {
     "output_type": "display_data",
     "data": {
      "image/png": "[encoded data removed]",
      "text/plain": [
       "<Figure size 432x288 with 1 Axes>"
      ]
     },
     "metadata": {}
    }
   ],
   "metadata": {}
  },
  {
   "cell_type": "code",
   "execution_count": 43,
   "source": [
    "# ----------------- Redução variáveis pela importância -----------------\r\n",
    "print(\"------------------ REDUÇÃO DE VARIÁVEIS -------------------\\n\")\r\n",
    "# Quantidade de variáveis que serão utilizadas na redução\r\n",
    "columns = sum(big > 0.02 for big in importances)\r\n",
    "# Criando vetor reduzido dados treino\r\n",
    "train_data_red = np.zeros((train_data.shape[0], columns))\r\n",
    "# Criando vetor reduzido dados teste\r\n",
    "test_data_red = np.zeros((test_data.shape[0], columns))\r\n",
    "# Criando vetor reduzido header\r\n",
    "header_red = []\r\n",
    "fix_pos = 0  # Contador dos dados reduzidos\r\n",
    "total_importance = 0  # Soma da importância total das variáveis reduzidas\r\n",
    "for pos, item in enumerate(importances):\r\n",
    "    if item > 0.02:  # Critério para redução\r\n",
    "        train_data_red[:, fix_pos] = train_data[:, pos]\r\n",
    "        test_data_red[:, fix_pos] = test_data[:, pos]\r\n",
    "        header_red.append(header[pos])\r\n",
    "        fix_pos = fix_pos + 1\r\n",
    "        total_importance = total_importance + item\r\n",
    "\r\n",
    "print(\"Importância total da versão reduzida:\", total_importance)\r\n",
    "print(\"Formato dos dados de entrada de treinamento reduzidos:\", train_data_red.shape)\r\n",
    "print(\"Formato dos dados de de entrada de teste reduzidos:\", test_data_red.shape)\r\n",
    "print(\"Formato do header reduzido:\", len(header_red))\r\n",
    "print(\"Header reduzido:\", header_red)"
   ],
   "outputs": [
    {
     "output_type": "stream",
     "name": "stdout",
     "text": [
      "------------------ REDUÇÃO DE VARIÁVEIS -------------------\n",
      "\n",
      "Importância total da versão reduzida: 0.9955889648607393\n",
      "Formato dos dados de entrada de treinamento reduzidos: (63, 3)\n",
      "Formato dos dados de de entrada de teste reduzidos: (32, 3)\n",
      "Formato do header reduzido: 3\n",
      "Header reduzido: ['Co', 'Mol.SA', 'MolV']\n"
     ]
    }
   ],
   "metadata": {}
  },
  {
   "cell_type": "code",
   "execution_count": 44,
   "source": [
    "# Criação, treinamento e teste do modelo RF com hiperparâmetros otimizados\r\n",
    "m3 = sklearn.ensemble.RandomForestRegressor(max_depth = study_rc.best_params['rf_max_depth'],\r\n",
    "min_samples_leaf = study_rc.best_params['rf_min_samples_leaf'],\r\n",
    "n_estimators = study_rc.best_params['rf_n_estimators'])\r\n",
    "\r\n",
    "m3.fit(train_data_red, train_output)  # treinamento\r\n",
    "predictions2 = m3.predict(test_data_red)  # teste"
   ],
   "outputs": [],
   "metadata": {}
  },
  {
   "cell_type": "code",
   "execution_count": 45,
   "source": [
    "# Métricas avaliação modelo\r\n",
    "print('Mean Absolute Error:', sklearn.metrics.mean_absolute_error(test_output, predictions2))\r\n",
    "print('Mean Squared Error:', sklearn.metrics.mean_squared_error(test_output, predictions2))\r\n",
    "print('Root Mean Squared Error:', np.sqrt(sklearn.metrics.mean_squared_error(test_output, predictions2)))\r\n",
    "print('R^2:', sklearn.metrics.r2_score(test_output, predictions2))"
   ],
   "outputs": [
    {
     "output_type": "stream",
     "name": "stdout",
     "text": [
      "Mean Absolute Error: 0.030467919228254384\n",
      "Mean Squared Error: 0.0013151732826735066\n",
      "Root Mean Squared Error: 0.03626531790393552\n",
      "R^2: 0.5903286315571157\n"
     ]
    }
   ],
   "metadata": {}
  },
  {
   "cell_type": "code",
   "execution_count": 46,
   "source": [
    "# Gráfico predição\r\n",
    "plt.figure()\r\n",
    "reta = np.random.uniform(low=0.017, high=0.24, size=(50,))\r\n",
    "plt.plot(reta,reta, color='black', label='x = y') #plot reta x = y\r\n",
    "plt.scatter(test_output, predictions, color='blue', marker='x')\r\n",
    "plt.legend(fontsize=15, loc='best')\r\n",
    "plt.xlabel('Valores Verdadeiros do Teste', fontsize=15)\r\n",
    "plt.ylabel('Valores Preditos', fontsize=15)\r\n",
    "plt.title('Predição Dados Reduzidos - RF', fontsize=15)\r\n",
    "plt.tight_layout()\r\n",
    "plt.savefig('RF_testpredictions_reduced.png')\r\n",
    "plt.show()\r\n",
    "plt.close()"
   ],
   "outputs": [
    {
     "output_type": "display_data",
     "data": {
      "image/png": "[encoded data removed]",
      "text/plain": [
       "<Figure size 432x288 with 1 Axes>"
      ]
     },
     "metadata": {}
    }
   ],
   "metadata": {}
  },
  {
   "cell_type": "code",
   "execution_count": 47,
   "source": [
    "# Gráfico Resíduos\r\n",
    "residue2 = test_output - predictions2\r\n",
    "plt.figure()\r\n",
    "plt.grid(axis='y')\r\n",
    "plt.hist(x=residue2, bins='auto', ec='black')\r\n",
    "plt.ylabel('Frequencia', fontsize=15)\r\n",
    "plt.xlabel('Resíduo', fontsize=15)\r\n",
    "plt.title('Resíduo Dados Reduzidos - RF', fontsize=15)\r\n",
    "plt.tight_layout()\r\n",
    "plt.savefig('RF_residue_reduced.png')\r\n",
    "plt.show()\r\n",
    "plt.close()"
   ],
   "outputs": [
    {
     "output_type": "display_data",
     "data": {
      "image/png": "[encoded data removed]",
      "text/plain": [
       "<Figure size 432x288 with 1 Axes>"
      ]
     },
     "metadata": {}
    }
   ],
   "metadata": {}
  },
  {
   "cell_type": "code",
   "execution_count": 48,
   "source": [
    "# Importancia das variáveis\r\n",
    "importances2 = list(m3.feature_importances_)\r\n",
    "feature_importances = [(feature, round(importance, 4)) for feature, importance in zip(header_red, importances2)]\r\n",
    "feature_importances = sorted(feature_importances, key=lambda x: x[1], reverse=True)\r\n",
    "[print('Variável: {:20} Importância: {}'.format(*pair)) for pair in feature_importances]\r\n",
    "\r\n",
    "# Gráfico importância\r\n",
    "sns.set(font_scale=1)\r\n",
    "x_values = list(range(len(importances2)))\r\n",
    "plt.figure()\r\n",
    "plt.grid(axis='y')\r\n",
    "plt.bar(x_values, importances2, orientation='vertical')\r\n",
    "plt.xticks(x_values, header_red, rotation='vertical')\r\n",
    "plt.ylabel('Importância')\r\n",
    "plt.xlabel('Variável')\r\n",
    "plt.title('Importância das Variáveis - RF Reduzido', fontsize=15)\r\n",
    "plt.tight_layout()\r\n",
    "plt.savefig('RF_importance_reduced.png')\r\n",
    "plt.show()\r\n",
    "plt.close()"
   ],
   "outputs": [
    {
     "output_type": "stream",
     "name": "stdout",
     "text": [
      "Variável: Co                   Importância: 0.8842\n",
      "Variável: MolV                 Importância: 0.0797\n",
      "Variável: Mol.SA               Importância: 0.0362\n"
     ]
    },
    {
     "output_type": "display_data",
     "data": {
      "image/png": "[encoded data removed]",
      "text/plain": [
       "<Figure size 432x288 with 1 Axes>"
      ]
     },
     "metadata": {}
    }
   ],
   "metadata": {}
  },
  {
   "cell_type": "code",
   "execution_count": null,
   "source": [
    "'''# Finaliza a contagem do tempo\r\n",
    "elapsed = time.time() - t\r\n",
    "print('Computing time:', elapsed)\r\n",
    "\r\n",
    "# Fecha o arquivo\r\n",
    "f.close()'''"
   ],
   "outputs": [],
   "metadata": {}
  }
 ]
}