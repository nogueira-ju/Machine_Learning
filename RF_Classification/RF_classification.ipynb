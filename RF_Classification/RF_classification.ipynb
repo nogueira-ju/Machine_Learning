{
 "metadata": {
  "language_info": {
   "codemirror_mode": {
    "name": "ipython",
    "version": 3
   },
   "file_extension": ".py",
   "mimetype": "text/x-python",
   "name": "python",
   "nbconvert_exporter": "python",
   "pygments_lexer": "ipython3",
   "version": "3.7.5"
  },
  "orig_nbformat": 2,
  "kernelspec": {
   "name": "python3",
   "display_name": "Python 3.7.5 64-bit (system)"
  },
  "interpreter": {
   "hash": "7c2b341bc3b18b2f0f6420bb99536e5c4cfa1181094719b122fae93675793f92"
  }
 },
 "nbformat": 4,
 "nbformat_minor": 2,
 "cells": [
  {
   "cell_type": "code",
   "execution_count": null,
   "source": [
    "'''\r\n",
    "Código criado por Júlia Nogueira em 06/09/2021\r\n",
    "Atualizado pela última vez em 07/09/2021\r\n",
    "\r\n",
    "Objetivo: Aplicação de Random Forests a um problema de classificação:\r\n",
    "Detecção e diagnóstico de falhas em uma unidade de águas ácidas.\r\n",
    "\r\n",
    "Utiliza os dados do trabalho: \r\n",
    "\"FAULT DETECTION AND DIAGNOSIS OF A TWO-COLUMN SOUR WATER TREATMENT UNIT BASED ON ARTIFICIAL INTELLIGENCE\r\n",
    "ALGORITHMS\"\r\n",
    "\r\n",
    "'''"
   ],
   "outputs": [],
   "metadata": {}
  },
  {
   "cell_type": "code",
   "execution_count": 15,
   "source": [
    "import numpy as np\r\n",
    "import matplotlib.pyplot as plt\r\n",
    "import seaborn as sns\r\n",
    "import optuna\r\n",
    "# import joblib\r\n",
    "\r\n",
    "import sklearn.model_selection\r\n",
    "import sklearn.metrics\r\n",
    "\r\n",
    "from sklearn.ensemble import RandomForestClassifier\r\n",
    "from sklearn.metrics import confusion_matrix\r\n",
    "from sklearn.metrics import classification_report\r\n",
    "from mlxtend.plotting import plot_confusion_matrix\r\n",
    "from sklearn.metrics import accuracy_score\r\n",
    "\r\n",
    "# import sys\r\n",
    "# import time"
   ],
   "outputs": [],
   "metadata": {}
  },
  {
   "cell_type": "code",
   "execution_count": null,
   "source": [
    "'''# Começa a contar o tempo de processamento\r\n",
    "t = time.time()\r\n",
    "\r\n",
    "# Salva a saída do terminal em um arquivo\r\n",
    "f = open(\"RF_output\", 'w')\r\n",
    "sys.stdout = f'''"
   ],
   "outputs": [],
   "metadata": {}
  },
  {
   "cell_type": "code",
   "execution_count": 16,
   "source": [
    "# Leitura e conversão dos dados em array\r\n",
    "dados_train = np.genfromtxt('SWTU_FDD_standardized_train_data.txt', skip_header=1)\r\n",
    "print(\"Formato dos dados de treinamento:\", dados_train.shape)\r\n",
    "\r\n",
    "dados_test = np.genfromtxt('SWTU_FDD_standardized_test_data.txt', skip_header=1)\r\n",
    "print(\"Formato dos dados de teste:\", dados_test.shape)\r\n",
    "\r\n",
    "# header\r\n",
    "with open('SWTU_FDD_standardized_train_data.txt', 'r') as file:\r\n",
    "    header = file.readline().strip() # pegando a primeira linha\r\n",
    "header = header.split()\r\n",
    "print('Header:', header)"
   ],
   "outputs": [
    {
     "output_type": "stream",
     "name": "stdout",
     "text": [
      "Formato dos dados de treinamento: (37519, 27)\n",
      "Formato dos dados de teste: (22525, 27)\n",
      "Header: ['ACG1P(t-1)', 'AMG1P(t-1)', 'C1SL(t-1)', 'C2DL(t-1)', 'C2SL(t-1)', 'SW8T(t-1)', 'C1S2T(t-1)', 'AMG1T(t-1)', 'SW1F(t-1)', 'SW5F(t-1)', 'CW5F(t-1)', 'CW8F(t-1)', 'C2HDI(t-1)', 'ACG1P(t)', 'AMG1P(t)', 'C1SL(t)', 'C2DL(t)', 'C2SL(t)', 'SW8T(t)', 'C1S2T(t)', 'AMG1T(t)', 'SW1F(t)', 'SW5F(t)', 'CW5F(t)', 'CW8F(t)', 'C2HDI(t)', 'CLASS']\n"
     ]
    }
   ],
   "metadata": {}
  },
  {
   "cell_type": "code",
   "execution_count": 17,
   "source": [
    "# Separação das entradas e saídas dos modelos\r\n",
    "train_data, train_output = dados_train[:, :-1], dados_train[:, -1]\r\n",
    "test_data, test_output = dados_test[:, :-1], dados_test[:, -1]\r\n",
    "\r\n",
    "print(\"Formato dos dados de entrada de treinamento:\", train_data.shape)\r\n",
    "print(\"Formato dos dados de entrada de teste:\", test_data.shape)\r\n",
    "print(\"Formato dos dados de saída de treinamento:\", train_output.shape)\r\n",
    "print(\"Formato dos dados de saída teste:\", test_output.shape)"
   ],
   "outputs": [
    {
     "output_type": "stream",
     "name": "stdout",
     "text": [
      "Formato dos dados de entrada de treinamento: (37519, 26)\n",
      "Formato dos dados de entrada de teste: (22525, 26)\n",
      "Formato dos dados de saída de treinamento: (37519,)\n",
      "Formato dos dados de saída teste: (22525,)\n"
     ]
    }
   ],
   "metadata": {}
  },
  {
   "cell_type": "code",
   "execution_count": 18,
   "source": [
    "# Otimização de Hiperparâmetros\r\n",
    "def objetivo_rc(trial):\r\n",
    "    # Hiperparâmetros de busca para RF\r\n",
    "    rf_min_samples_leaf = trial.suggest_int(\"rf_min_samples_leaf\", 1, 10)\r\n",
    "    rf_max_depth = trial.suggest_int(\"rf_max_depth\", 5, 30, log = True)\r\n",
    "    rf_n_estimators = trial.suggest_int(\"rf_n_estimators\", 1, 100)\r\n",
    "\r\n",
    "    # Criação do modelo RF\r\n",
    "    m = sklearn.ensemble.RandomForestClassifier(max_depth = rf_max_depth, \r\n",
    "    min_samples_leaf = rf_min_samples_leaf, n_estimators = rf_n_estimators)\r\n",
    "\r\n",
    "    # Retornando acurácia\r\n",
    "    acuracias = sklearn.model_selection.cross_val_score(m, train_data, train_output)\r\n",
    "    acuracia = acuracias.mean()\r\n",
    "\r\n",
    "    return acuracia\r\n",
    "\r\n",
    "# Resultados função objetivo\r\n",
    "study_rc = optuna.create_study(direction=\"maximize\")\r\n",
    "n_trials = 40\r\n",
    "print(\"Nº Iterações Otimização:\", n_trials)\r\n",
    "study_rc.optimize(objetivo_rc, n_trials=n_trials)\r\n",
    "print(\"Hiperparâmetros Otimizados:\", study_rc.best_params)"
   ],
   "outputs": [
    {
     "output_type": "stream",
     "name": "stderr",
     "text": [
      "\u001b[32m[I 2021-09-06 11:41:04,059]\u001b[0m A new study created in memory with name: no-name-5a7f7202-90be-419c-84bd-70f9cdde2e42\u001b[0m\n"
     ]
    },
    {
     "output_type": "stream",
     "name": "stdout",
     "text": [
      "Nº Iterações Otimização: 40\n"
     ]
    },
    {
     "output_type": "stream",
     "name": "stderr",
     "text": [
      "\u001b[32m[I 2021-09-06 11:42:29,623]\u001b[0m Trial 0 finished with value: 0.9355526694794719 and parameters: {'rf_min_samples_leaf': 3, 'rf_max_depth': 8, 'rf_n_estimators': 98}. Best is trial 0 with value: 0.9355526694794719.\u001b[0m\n",
      "\u001b[32m[I 2021-09-06 11:43:09,245]\u001b[0m Trial 1 finished with value: 0.939923756865413 and parameters: {'rf_min_samples_leaf': 8, 'rf_max_depth': 9, 'rf_n_estimators': 49}. Best is trial 1 with value: 0.939923756865413.\u001b[0m\n",
      "\u001b[32m[I 2021-09-06 11:44:45,403]\u001b[0m Trial 2 finished with value: 0.9525041369379753 and parameters: {'rf_min_samples_leaf': 8, 'rf_max_depth': 14, 'rf_n_estimators': 86}. Best is trial 2 with value: 0.9525041369379753.\u001b[0m\n",
      "\u001b[32m[I 2021-09-06 11:44:54,069]\u001b[0m Trial 3 finished with value: 0.9543165463025876 and parameters: {'rf_min_samples_leaf': 10, 'rf_max_depth': 25, 'rf_n_estimators': 5}. Best is trial 3 with value: 0.9543165463025876.\u001b[0m\n",
      "\u001b[32m[I 2021-09-06 11:46:52,185]\u001b[0m Trial 4 finished with value: 0.9602602100595441 and parameters: {'rf_min_samples_leaf': 1, 'rf_max_depth': 22, 'rf_n_estimators': 66}. Best is trial 4 with value: 0.9602602100595441.\u001b[0m\n",
      "\u001b[32m[I 2021-09-06 11:48:08,762]\u001b[0m Trial 5 finished with value: 0.9436018840509284 and parameters: {'rf_min_samples_leaf': 1, 'rf_max_depth': 10, 'rf_n_estimators': 83}. Best is trial 4 with value: 0.9602602100595441.\u001b[0m\n",
      "\u001b[32m[I 2021-09-06 11:50:15,193]\u001b[0m Trial 6 finished with value: 0.960953198677885 and parameters: {'rf_min_samples_leaf': 3, 'rf_max_depth': 30, 'rf_n_estimators': 81}. Best is trial 6 with value: 0.960953198677885.\u001b[0m\n",
      "\u001b[32m[I 2021-09-06 11:52:11,312]\u001b[0m Trial 7 finished with value: 0.9572483941746684 and parameters: {'rf_min_samples_leaf': 4, 'rf_max_depth': 18, 'rf_n_estimators': 88}. Best is trial 6 with value: 0.960953198677885.\u001b[0m\n",
      "\u001b[32m[I 2021-09-06 11:52:48,632]\u001b[0m Trial 8 finished with value: 0.9295556049080013 and parameters: {'rf_min_samples_leaf': 1, 'rf_max_depth': 6, 'rf_n_estimators': 76}. Best is trial 6 with value: 0.960953198677885.\u001b[0m\n",
      "\u001b[32m[I 2021-09-06 11:53:26,697]\u001b[0m Trial 9 finished with value: 0.9324609246564345 and parameters: {'rf_min_samples_leaf': 8, 'rf_max_depth': 7, 'rf_n_estimators': 52}. Best is trial 6 with value: 0.960953198677885.\u001b[0m\n",
      "\u001b[32m[I 2021-09-06 11:54:01,405]\u001b[0m Trial 10 finished with value: 0.9584211340339486 and parameters: {'rf_min_samples_leaf': 5, 'rf_max_depth': 28, 'rf_n_estimators': 23}. Best is trial 6 with value: 0.960953198677885.\u001b[0m\n",
      "\u001b[32m[I 2021-09-06 11:55:29,554]\u001b[0m Trial 11 finished with value: 0.959353969854844 and parameters: {'rf_min_samples_leaf': 2, 'rf_max_depth': 21, 'rf_n_estimators': 60}. Best is trial 6 with value: 0.960953198677885.\u001b[0m\n",
      "\u001b[32m[I 2021-09-06 11:57:12,560]\u001b[0m Trial 12 finished with value: 0.9606066954881161 and parameters: {'rf_min_samples_leaf': 3, 'rf_max_depth': 30, 'rf_n_estimators': 68}. Best is trial 6 with value: 0.960953198677885.\u001b[0m\n",
      "\u001b[32m[I 2021-09-06 11:57:58,701]\u001b[0m Trial 13 finished with value: 0.9546896486607915 and parameters: {'rf_min_samples_leaf': 3, 'rf_max_depth': 15, 'rf_n_estimators': 40}. Best is trial 6 with value: 0.960953198677885.\u001b[0m\n",
      "\u001b[32m[I 2021-09-06 11:59:37,197]\u001b[0m Trial 14 finished with value: 0.9596738276970662 and parameters: {'rf_min_samples_leaf': 6, 'rf_max_depth': 30, 'rf_n_estimators': 69}. Best is trial 6 with value: 0.960953198677885.\u001b[0m\n",
      "\u001b[32m[I 2021-09-06 12:01:31,992]\u001b[0m Trial 15 finished with value: 0.9574882733473775 and parameters: {'rf_min_samples_leaf': 5, 'rf_max_depth': 18, 'rf_n_estimators': 96}. Best is trial 6 with value: 0.960953198677885.\u001b[0m\n",
      "\u001b[32m[I 2021-09-06 12:01:49,070]\u001b[0m Trial 16 finished with value: 0.916308892221363 and parameters: {'rf_min_samples_leaf': 3, 'rf_max_depth': 5, 'rf_n_estimators': 35}. Best is trial 6 with value: 0.960953198677885.\u001b[0m\n",
      "\u001b[32m[I 2021-09-06 12:03:33,748]\u001b[0m Trial 17 finished with value: 0.9599936677780914 and parameters: {'rf_min_samples_leaf': 4, 'rf_max_depth': 29, 'rf_n_estimators': 73}. Best is trial 6 with value: 0.960953198677885.\u001b[0m\n",
      "\u001b[32m[I 2021-09-06 12:04:28,722]\u001b[0m Trial 18 finished with value: 0.9507716707204823 and parameters: {'rf_min_samples_leaf': 6, 'rf_max_depth': 13, 'rf_n_estimators': 58}. Best is trial 6 with value: 0.960953198677885.\u001b[0m\n",
      "\u001b[32m[I 2021-09-06 12:06:52,576]\u001b[0m Trial 19 finished with value: 0.9610598297994235 and parameters: {'rf_min_samples_leaf': 2, 'rf_max_depth': 25, 'rf_n_estimators': 99}. Best is trial 19 with value: 0.9610598297994235.\u001b[0m\n",
      "\u001b[32m[I 2021-09-06 12:09:09,943]\u001b[0m Trial 20 finished with value: 0.9605800359316117 and parameters: {'rf_min_samples_leaf': 2, 'rf_max_depth': 24, 'rf_n_estimators': 98}. Best is trial 19 with value: 0.9610598297994235.\u001b[0m\n",
      "\u001b[32m[I 2021-09-06 12:11:07,605]\u001b[0m Trial 21 finished with value: 0.9609265355691413 and parameters: {'rf_min_samples_leaf': 2, 'rf_max_depth': 30, 'rf_n_estimators': 80}. Best is trial 19 with value: 0.9610598297994235.\u001b[0m\n",
      "\u001b[32m[I 2021-09-06 12:12:57,843]\u001b[0m Trial 22 finished with value: 0.9590874311256308 and parameters: {'rf_min_samples_leaf': 2, 'rf_max_depth': 19, 'rf_n_estimators': 92}. Best is trial 19 with value: 0.9610598297994235.\u001b[0m\n",
      "\u001b[32m[I 2021-09-06 12:14:54,723]\u001b[0m Trial 23 finished with value: 0.9605533657183892 and parameters: {'rf_min_samples_leaf': 2, 'rf_max_depth': 26, 'rf_n_estimators': 80}. Best is trial 19 with value: 0.9610598297994235.\u001b[0m\n",
      "\u001b[32m[I 2021-09-06 12:17:18,622]\u001b[0m Trial 24 finished with value: 0.9601269406949374 and parameters: {'rf_min_samples_leaf': 4, 'rf_max_depth': 30, 'rf_n_estimators': 100}. Best is trial 19 with value: 0.9610598297994235.\u001b[0m\n",
      "\u001b[32m[I 2021-09-06 12:19:09,636]\u001b[0m Trial 25 finished with value: 0.960446766567005 and parameters: {'rf_min_samples_leaf': 1, 'rf_max_depth': 21, 'rf_n_estimators': 89}. Best is trial 19 with value: 0.9610598297994235.\u001b[0m\n",
      "\u001b[32m[I 2021-09-06 12:20:30,551]\u001b[0m Trial 26 finished with value: 0.9558890693900123 and parameters: {'rf_min_samples_leaf': 2, 'rf_max_depth': 16, 'rf_n_estimators': 77}. Best is trial 19 with value: 0.9610598297994235.\u001b[0m\n",
      "\u001b[32m[I 2021-09-06 12:22:26,612]\u001b[0m Trial 27 finished with value: 0.9598870544177496 and parameters: {'rf_min_samples_leaf': 4, 'rf_max_depth': 24, 'rf_n_estimators': 92}. Best is trial 19 with value: 0.9610598297994235.\u001b[0m\n",
      "\u001b[32m[I 2021-09-06 12:24:51,245]\u001b[0m Trial 28 finished with value: 0.96039348297639 and parameters: {'rf_min_samples_leaf': 3, 'rf_max_depth': 30, 'rf_n_estimators': 82}. Best is trial 19 with value: 0.9610598297994235.\u001b[0m\n",
      "\u001b[32m[I 2021-09-06 12:26:33,939]\u001b[0m Trial 29 finished with value: 0.9499986963281497 and parameters: {'rf_min_samples_leaf': 1, 'rf_max_depth': 12, 'rf_n_estimators': 100}. Best is trial 19 with value: 0.9610598297994235.\u001b[0m\n",
      "\u001b[32m[I 2021-09-06 12:27:52,260]\u001b[0m Trial 30 finished with value: 0.9608732164561327 and parameters: {'rf_min_samples_leaf': 3, 'rf_max_depth': 23, 'rf_n_estimators': 64}. Best is trial 19 with value: 0.9610598297994235.\u001b[0m\n",
      "\u001b[32m[I 2021-09-06 12:29:13,108]\u001b[0m Trial 31 finished with value: 0.9607932448910983 and parameters: {'rf_min_samples_leaf': 3, 'rf_max_depth': 26, 'rf_n_estimators': 64}. Best is trial 19 with value: 0.9610598297994235.\u001b[0m\n",
      "\u001b[32m[I 2021-09-06 12:30:15,091]\u001b[0m Trial 32 finished with value: 0.9599403486650825 and parameters: {'rf_min_samples_leaf': 2, 'rf_max_depth': 22, 'rf_n_estimators': 53}. Best is trial 19 with value: 0.9610598297994235.\u001b[0m\n",
      "\u001b[32m[I 2021-09-06 12:31:49,779]\u001b[0m Trial 33 finished with value: 0.9606599897354491 and parameters: {'rf_min_samples_leaf': 3, 'rf_max_depth': 26, 'rf_n_estimators': 74}. Best is trial 19 with value: 0.9610598297994235.\u001b[0m\n",
      "\u001b[32m[I 2021-09-06 12:32:38,438]\u001b[0m Trial 34 finished with value: 0.957648170298334 and parameters: {'rf_min_samples_leaf': 5, 'rf_max_depth': 19, 'rf_n_estimators': 42}. Best is trial 19 with value: 0.9610598297994235.\u001b[0m\n",
      "\u001b[32m[I 2021-09-06 12:34:46,852]\u001b[0m Trial 35 finished with value: 0.9595405689891777 and parameters: {'rf_min_samples_leaf': 4, 'rf_max_depth': 23, 'rf_n_estimators': 85}. Best is trial 19 with value: 0.9610598297994235.\u001b[0m\n",
      "\u001b[32m[I 2021-09-06 12:36:21,012]\u001b[0m Trial 36 finished with value: 0.9608732057994145 and parameters: {'rf_min_samples_leaf': 2, 'rf_max_depth': 27, 'rf_n_estimators': 62}. Best is trial 19 with value: 0.9610598297994235.\u001b[0m\n",
      "\u001b[32m[I 2021-09-06 12:37:21,861]\u001b[0m Trial 37 finished with value: 0.9442948904304661 and parameters: {'rf_min_samples_leaf': 1, 'rf_max_depth': 10, 'rf_n_estimators': 72}. Best is trial 19 with value: 0.9610598297994235.\u001b[0m\n",
      "\u001b[32m[I 2021-09-06 12:38:53,351]\u001b[0m Trial 38 finished with value: 0.9561289663239181 and parameters: {'rf_min_samples_leaf': 7, 'rf_max_depth': 17, 'rf_n_estimators': 81}. Best is trial 19 with value: 0.9610598297994235.\u001b[0m\n",
      "\u001b[32m[I 2021-09-06 12:38:54,577]\u001b[0m Trial 39 finished with value: 0.9362723780423865 and parameters: {'rf_min_samples_leaf': 3, 'rf_max_depth': 20, 'rf_n_estimators': 1}. Best is trial 19 with value: 0.9610598297994235.\u001b[0m\n"
     ]
    },
    {
     "output_type": "stream",
     "name": "stdout",
     "text": [
      "Hiperparâmetros Otimizados: {'rf_min_samples_leaf': 2, 'rf_max_depth': 25, 'rf_n_estimators': 99}\n"
     ]
    }
   ],
   "metadata": {}
  },
  {
   "cell_type": "code",
   "execution_count": 19,
   "source": [
    "# Gráficos otimização de hiperparâmetros\r\n",
    "fig1 = optuna.visualization.plot_optimization_history(study_rc)\r\n",
    "fig1.show()\r\n",
    "\r\n",
    "fig2 = optuna.visualization.plot_slice(study_rc)\r\n",
    "fig2.show()\r\n",
    "\r\n",
    "fig3 = optuna.visualization.plot_parallel_coordinate(study_rc)\r\n",
    "fig3.show() "
   ],
   "outputs": [
    {
     "output_type": "display_data",
     "data": {
      "application/vnd.plotly.v1+json": {
       "config": {
        "plotlyServerURL": "https://plot.ly"
       },
       "data": [
        {
         "mode": "markers",
         "name": "Objective Value",
         "type": "scatter",
         "x": [
          0,
          1,
          2,
          3,
          4,
          5,
          6,
          7,
          8,
          9,
          10,
          11,
          12,
          13,
          14,
          15,
          16,
          17,
          18,
          19,
          20,
          21,
          22,
          23,
          24,
          25,
          26,
          27,
          28,
          29,
          30,
          31,
          32,
          33,
          34,
          35,
          36,
          37,
          38,
          39
         ],
         "y": [
          0.9355526694794719,
          0.939923756865413,
          0.9525041369379753,
          0.9543165463025876,
          0.9602602100595441,
          0.9436018840509284,
          0.960953198677885,
          0.9572483941746684,
          0.9295556049080013,
          0.9324609246564345,
          0.9584211340339486,
          0.959353969854844,
          0.9606066954881161,
          0.9546896486607915,
          0.9596738276970662,
          0.9574882733473775,
          0.916308892221363,
          0.9599936677780914,
          0.9507716707204823,
          0.9610598297994235,
          0.9605800359316117,
          0.9609265355691413,
          0.9590874311256308,
          0.9605533657183892,
          0.9601269406949374,
          0.960446766567005,
          0.9558890693900123,
          0.9598870544177496,
          0.96039348297639,
          0.9499986963281497,
          0.9608732164561327,
          0.9607932448910983,
          0.9599403486650825,
          0.9606599897354491,
          0.957648170298334,
          0.9595405689891777,
          0.9608732057994145,
          0.9442948904304661,
          0.9561289663239181,
          0.9362723780423865
         ]
        },
        {
         "name": "Best Value",
         "type": "scatter",
         "x": [
          0,
          1,
          2,
          3,
          4,
          5,
          6,
          7,
          8,
          9,
          10,
          11,
          12,
          13,
          14,
          15,
          16,
          17,
          18,
          19,
          20,
          21,
          22,
          23,
          24,
          25,
          26,
          27,
          28,
          29,
          30,
          31,
          32,
          33,
          34,
          35,
          36,
          37,
          38,
          39
         ],
         "y": [
          0.9355526694794719,
          0.939923756865413,
          0.9525041369379753,
          0.9543165463025876,
          0.9602602100595441,
          0.9602602100595441,
          0.960953198677885,
          0.960953198677885,
          0.960953198677885,
          0.960953198677885,
          0.960953198677885,
          0.960953198677885,
          0.960953198677885,
          0.960953198677885,
          0.960953198677885,
          0.960953198677885,
          0.960953198677885,
          0.960953198677885,
          0.960953198677885,
          0.9610598297994235,
          0.9610598297994235,
          0.9610598297994235,
          0.9610598297994235,
          0.9610598297994235,
          0.9610598297994235,
          0.9610598297994235,
          0.9610598297994235,
          0.9610598297994235,
          0.9610598297994235,
          0.9610598297994235,
          0.9610598297994235,
          0.9610598297994235,
          0.9610598297994235,
          0.9610598297994235,
          0.9610598297994235,
          0.9610598297994235,
          0.9610598297994235,
          0.9610598297994235,
          0.9610598297994235,
          0.9610598297994235
         ]
        }
       ],
       "layout": {
        "template": {
         "data": {
          "bar": [
           {
            "error_x": {
             "color": "#2a3f5f"
            },
            "error_y": {
             "color": "#2a3f5f"
            },
            "marker": {
             "line": {
              "color": "#E5ECF6",
              "width": 0.5
             }
            },
            "type": "bar"
           }
          ],
          "barpolar": [
           {
            "marker": {
             "line": {
              "color": "#E5ECF6",
              "width": 0.5
             }
            },
            "type": "barpolar"
           }
          ],
          "carpet": [
           {
            "aaxis": {
             "endlinecolor": "#2a3f5f",
             "gridcolor": "white",
             "linecolor": "white",
             "minorgridcolor": "white",
             "startlinecolor": "#2a3f5f"
            },
            "baxis": {
             "endlinecolor": "#2a3f5f",
             "gridcolor": "white",
             "linecolor": "white",
             "minorgridcolor": "white",
             "startlinecolor": "#2a3f5f"
            },
            "type": "carpet"
           }
          ],
          "choropleth": [
           {
            "colorbar": {
             "outlinewidth": 0,
             "ticks": ""
            },
            "type": "choropleth"
           }
          ],
          "contour": [
           {
            "colorbar": {
             "outlinewidth": 0,
             "ticks": ""
            },
            "colorscale": [
             [
              0,
              "#0d0887"
             ],
             [
              0.1111111111111111,
              "#46039f"
             ],
             [
              0.2222222222222222,
              "#7201a8"
             ],
             [
              0.3333333333333333,
              "#9c179e"
             ],
             [
              0.4444444444444444,
              "#bd3786"
             ],
             [
              0.5555555555555556,
              "#d8576b"
             ],
             [
              0.6666666666666666,
              "#ed7953"
             ],
             [
              0.7777777777777778,
              "#fb9f3a"
             ],
             [
              0.8888888888888888,
              "#fdca26"
             ],
             [
              1,
              "#f0f921"
             ]
            ],
            "type": "contour"
           }
          ],
          "contourcarpet": [
           {
            "colorbar": {
             "outlinewidth": 0,
             "ticks": ""
            },
            "type": "contourcarpet"
           }
          ],
          "heatmap": [
           {
            "colorbar": {
             "outlinewidth": 0,
             "ticks": ""
            },
            "colorscale": [
             [
              0,
              "#0d0887"
             ],
             [
              0.1111111111111111,
              "#46039f"
             ],
             [
              0.2222222222222222,
              "#7201a8"
             ],
             [
              0.3333333333333333,
              "#9c179e"
             ],
             [
              0.4444444444444444,
              "#bd3786"
             ],
             [
              0.5555555555555556,
              "#d8576b"
             ],
             [
              0.6666666666666666,
              "#ed7953"
             ],
             [
              0.7777777777777778,
              "#fb9f3a"
             ],
             [
              0.8888888888888888,
              "#fdca26"
             ],
             [
              1,
              "#f0f921"
             ]
            ],
            "type": "heatmap"
           }
          ],
          "heatmapgl": [
           {
            "colorbar": {
             "outlinewidth": 0,
             "ticks": ""
            },
            "colorscale": [
             [
              0,
              "#0d0887"
             ],
             [
              0.1111111111111111,
              "#46039f"
             ],
             [
              0.2222222222222222,
              "#7201a8"
             ],
             [
              0.3333333333333333,
              "#9c179e"
             ],
             [
              0.4444444444444444,
              "#bd3786"
             ],
             [
              0.5555555555555556,
              "#d8576b"
             ],
             [
              0.6666666666666666,
              "#ed7953"
             ],
             [
              0.7777777777777778,
              "#fb9f3a"
             ],
             [
              0.8888888888888888,
              "#fdca26"
             ],
             [
              1,
              "#f0f921"
             ]
            ],
            "type": "heatmapgl"
           }
          ],
          "histogram": [
           {
            "marker": {
             "colorbar": {
              "outlinewidth": 0,
              "ticks": ""
             }
            },
            "type": "histogram"
           }
          ],
          "histogram2d": [
           {
            "colorbar": {
             "outlinewidth": 0,
             "ticks": ""
            },
            "colorscale": [
             [
              0,
              "#0d0887"
             ],
             [
              0.1111111111111111,
              "#46039f"
             ],
             [
              0.2222222222222222,
              "#7201a8"
             ],
             [
              0.3333333333333333,
              "#9c179e"
             ],
             [
              0.4444444444444444,
              "#bd3786"
             ],
             [
              0.5555555555555556,
              "#d8576b"
             ],
             [
              0.6666666666666666,
              "#ed7953"
             ],
             [
              0.7777777777777778,
              "#fb9f3a"
             ],
             [
              0.8888888888888888,
              "#fdca26"
             ],
             [
              1,
              "#f0f921"
             ]
            ],
            "type": "histogram2d"
           }
          ],
          "histogram2dcontour": [
           {
            "colorbar": {
             "outlinewidth": 0,
             "ticks": ""
            },
            "colorscale": [
             [
              0,
              "#0d0887"
             ],
             [
              0.1111111111111111,
              "#46039f"
             ],
             [
              0.2222222222222222,
              "#7201a8"
             ],
             [
              0.3333333333333333,
              "#9c179e"
             ],
             [
              0.4444444444444444,
              "#bd3786"
             ],
             [
              0.5555555555555556,
              "#d8576b"
             ],
             [
              0.6666666666666666,
              "#ed7953"
             ],
             [
              0.7777777777777778,
              "#fb9f3a"
             ],
             [
              0.8888888888888888,
              "#fdca26"
             ],
             [
              1,
              "#f0f921"
             ]
            ],
            "type": "histogram2dcontour"
           }
          ],
          "mesh3d": [
           {
            "colorbar": {
             "outlinewidth": 0,
             "ticks": ""
            },
            "type": "mesh3d"
           }
          ],
          "parcoords": [
           {
            "line": {
             "colorbar": {
              "outlinewidth": 0,
              "ticks": ""
             }
            },
            "type": "parcoords"
           }
          ],
          "pie": [
           {
            "automargin": true,
            "type": "pie"
           }
          ],
          "scatter": [
           {
            "marker": {
             "colorbar": {
              "outlinewidth": 0,
              "ticks": ""
             }
            },
            "type": "scatter"
           }
          ],
          "scatter3d": [
           {
            "line": {
             "colorbar": {
              "outlinewidth": 0,
              "ticks": ""
             }
            },
            "marker": {
             "colorbar": {
              "outlinewidth": 0,
              "ticks": ""
             }
            },
            "type": "scatter3d"
           }
          ],
          "scattercarpet": [
           {
            "marker": {
             "colorbar": {
              "outlinewidth": 0,
              "ticks": ""
             }
            },
            "type": "scattercarpet"
           }
          ],
          "scattergeo": [
           {
            "marker": {
             "colorbar": {
              "outlinewidth": 0,
              "ticks": ""
             }
            },
            "type": "scattergeo"
           }
          ],
          "scattergl": [
           {
            "marker": {
             "colorbar": {
              "outlinewidth": 0,
              "ticks": ""
             }
            },
            "type": "scattergl"
           }
          ],
          "scattermapbox": [
           {
            "marker": {
             "colorbar": {
              "outlinewidth": 0,
              "ticks": ""
             }
            },
            "type": "scattermapbox"
           }
          ],
          "scatterpolar": [
           {
            "marker": {
             "colorbar": {
              "outlinewidth": 0,
              "ticks": ""
             }
            },
            "type": "scatterpolar"
           }
          ],
          "scatterpolargl": [
           {
            "marker": {
             "colorbar": {
              "outlinewidth": 0,
              "ticks": ""
             }
            },
            "type": "scatterpolargl"
           }
          ],
          "scatterternary": [
           {
            "marker": {
             "colorbar": {
              "outlinewidth": 0,
              "ticks": ""
             }
            },
            "type": "scatterternary"
           }
          ],
          "surface": [
           {
            "colorbar": {
             "outlinewidth": 0,
             "ticks": ""
            },
            "colorscale": [
             [
              0,
              "#0d0887"
             ],
             [
              0.1111111111111111,
              "#46039f"
             ],
             [
              0.2222222222222222,
              "#7201a8"
             ],
             [
              0.3333333333333333,
              "#9c179e"
             ],
             [
              0.4444444444444444,
              "#bd3786"
             ],
             [
              0.5555555555555556,
              "#d8576b"
             ],
             [
              0.6666666666666666,
              "#ed7953"
             ],
             [
              0.7777777777777778,
              "#fb9f3a"
             ],
             [
              0.8888888888888888,
              "#fdca26"
             ],
             [
              1,
              "#f0f921"
             ]
            ],
            "type": "surface"
           }
          ],
          "table": [
           {
            "cells": {
             "fill": {
              "color": "#EBF0F8"
             },
             "line": {
              "color": "white"
             }
            },
            "header": {
             "fill": {
              "color": "#C8D4E3"
             },
             "line": {
              "color": "white"
             }
            },
            "type": "table"
           }
          ]
         },
         "layout": {
          "annotationdefaults": {
           "arrowcolor": "#2a3f5f",
           "arrowhead": 0,
           "arrowwidth": 1
          },
          "autotypenumbers": "strict",
          "coloraxis": {
           "colorbar": {
            "outlinewidth": 0,
            "ticks": ""
           }
          },
          "colorscale": {
           "diverging": [
            [
             0,
             "#8e0152"
            ],
            [
             0.1,
             "#c51b7d"
            ],
            [
             0.2,
             "#de77ae"
            ],
            [
             0.3,
             "#f1b6da"
            ],
            [
             0.4,
             "#fde0ef"
            ],
            [
             0.5,
             "#f7f7f7"
            ],
            [
             0.6,
             "#e6f5d0"
            ],
            [
             0.7,
             "#b8e186"
            ],
            [
             0.8,
             "#7fbc41"
            ],
            [
             0.9,
             "#4d9221"
            ],
            [
             1,
             "#276419"
            ]
           ],
           "sequential": [
            [
             0,
             "#0d0887"
            ],
            [
             0.1111111111111111,
             "#46039f"
            ],
            [
             0.2222222222222222,
             "#7201a8"
            ],
            [
             0.3333333333333333,
             "#9c179e"
            ],
            [
             0.4444444444444444,
             "#bd3786"
            ],
            [
             0.5555555555555556,
             "#d8576b"
            ],
            [
             0.6666666666666666,
             "#ed7953"
            ],
            [
             0.7777777777777778,
             "#fb9f3a"
            ],
            [
             0.8888888888888888,
             "#fdca26"
            ],
            [
             1,
             "#f0f921"
            ]
           ],
           "sequentialminus": [
            [
             0,
             "#0d0887"
            ],
            [
             0.1111111111111111,
             "#46039f"
            ],
            [
             0.2222222222222222,
             "#7201a8"
            ],
            [
             0.3333333333333333,
             "#9c179e"
            ],
            [
             0.4444444444444444,
             "#bd3786"
            ],
            [
             0.5555555555555556,
             "#d8576b"
            ],
            [
             0.6666666666666666,
             "#ed7953"
            ],
            [
             0.7777777777777778,
             "#fb9f3a"
            ],
            [
             0.8888888888888888,
             "#fdca26"
            ],
            [
             1,
             "#f0f921"
            ]
           ]
          },
          "colorway": [
           "#636efa",
           "#EF553B",
           "#00cc96",
           "#ab63fa",
           "#FFA15A",
           "#19d3f3",
           "#FF6692",
           "#B6E880",
           "#FF97FF",
           "#FECB52"
          ],
          "font": {
           "color": "#2a3f5f"
          },
          "geo": {
           "bgcolor": "white",
           "lakecolor": "white",
           "landcolor": "#E5ECF6",
           "showlakes": true,
           "showland": true,
           "subunitcolor": "white"
          },
          "hoverlabel": {
           "align": "left"
          },
          "hovermode": "closest",
          "mapbox": {
           "style": "light"
          },
          "paper_bgcolor": "white",
          "plot_bgcolor": "#E5ECF6",
          "polar": {
           "angularaxis": {
            "gridcolor": "white",
            "linecolor": "white",
            "ticks": ""
           },
           "bgcolor": "#E5ECF6",
           "radialaxis": {
            "gridcolor": "white",
            "linecolor": "white",
            "ticks": ""
           }
          },
          "scene": {
           "xaxis": {
            "backgroundcolor": "#E5ECF6",
            "gridcolor": "white",
            "gridwidth": 2,
            "linecolor": "white",
            "showbackground": true,
            "ticks": "",
            "zerolinecolor": "white"
           },
           "yaxis": {
            "backgroundcolor": "#E5ECF6",
            "gridcolor": "white",
            "gridwidth": 2,
            "linecolor": "white",
            "showbackground": true,
            "ticks": "",
            "zerolinecolor": "white"
           },
           "zaxis": {
            "backgroundcolor": "#E5ECF6",
            "gridcolor": "white",
            "gridwidth": 2,
            "linecolor": "white",
            "showbackground": true,
            "ticks": "",
            "zerolinecolor": "white"
           }
          },
          "shapedefaults": {
           "line": {
            "color": "#2a3f5f"
           }
          },
          "ternary": {
           "aaxis": {
            "gridcolor": "white",
            "linecolor": "white",
            "ticks": ""
           },
           "baxis": {
            "gridcolor": "white",
            "linecolor": "white",
            "ticks": ""
           },
           "bgcolor": "#E5ECF6",
           "caxis": {
            "gridcolor": "white",
            "linecolor": "white",
            "ticks": ""
           }
          },
          "title": {
           "x": 0.05
          },
          "xaxis": {
           "automargin": true,
           "gridcolor": "white",
           "linecolor": "white",
           "ticks": "",
           "title": {
            "standoff": 15
           },
           "zerolinecolor": "white",
           "zerolinewidth": 2
          },
          "yaxis": {
           "automargin": true,
           "gridcolor": "white",
           "linecolor": "white",
           "ticks": "",
           "title": {
            "standoff": 15
           },
           "zerolinecolor": "white",
           "zerolinewidth": 2
          }
         }
        },
        "title": {
         "text": "Optimization History Plot"
        },
        "xaxis": {
         "title": {
          "text": "#Trials"
         }
        },
        "yaxis": {
         "title": {
          "text": "Objective Value"
         }
        }
       }
      }
     },
     "metadata": {}
    },
    {
     "output_type": "display_data",
     "data": {
      "application/vnd.plotly.v1+json": {
       "config": {
        "plotlyServerURL": "https://plot.ly"
       },
       "data": [
        {
         "marker": {
          "color": [
           0,
           1,
           2,
           3,
           4,
           5,
           6,
           7,
           8,
           9,
           10,
           11,
           12,
           13,
           14,
           15,
           16,
           17,
           18,
           19,
           20,
           21,
           22,
           23,
           24,
           25,
           26,
           27,
           28,
           29,
           30,
           31,
           32,
           33,
           34,
           35,
           36,
           37,
           38,
           39
          ],
          "colorbar": {
           "title": {
            "text": "#Trials"
           },
           "x": 1,
           "xpad": 40
          },
          "colorscale": [
           [
            0,
            "rgb(247,251,255)"
           ],
           [
            0.125,
            "rgb(222,235,247)"
           ],
           [
            0.25,
            "rgb(198,219,239)"
           ],
           [
            0.375,
            "rgb(158,202,225)"
           ],
           [
            0.5,
            "rgb(107,174,214)"
           ],
           [
            0.625,
            "rgb(66,146,198)"
           ],
           [
            0.75,
            "rgb(33,113,181)"
           ],
           [
            0.875,
            "rgb(8,81,156)"
           ],
           [
            1,
            "rgb(8,48,107)"
           ]
          ],
          "line": {
           "color": "Grey",
           "width": 0.5
          },
          "showscale": true
         },
         "mode": "markers",
         "showlegend": false,
         "type": "scatter",
         "x": [
          8,
          9,
          14,
          25,
          22,
          10,
          30,
          18,
          6,
          7,
          28,
          21,
          30,
          15,
          30,
          18,
          5,
          29,
          13,
          25,
          24,
          30,
          19,
          26,
          30,
          21,
          16,
          24,
          30,
          12,
          23,
          26,
          22,
          26,
          19,
          23,
          27,
          10,
          17,
          20
         ],
         "xaxis": "x",
         "y": [
          0.9355526694794719,
          0.939923756865413,
          0.9525041369379753,
          0.9543165463025876,
          0.9602602100595441,
          0.9436018840509284,
          0.960953198677885,
          0.9572483941746684,
          0.9295556049080013,
          0.9324609246564345,
          0.9584211340339486,
          0.959353969854844,
          0.9606066954881161,
          0.9546896486607915,
          0.9596738276970662,
          0.9574882733473775,
          0.916308892221363,
          0.9599936677780914,
          0.9507716707204823,
          0.9610598297994235,
          0.9605800359316117,
          0.9609265355691413,
          0.9590874311256308,
          0.9605533657183892,
          0.9601269406949374,
          0.960446766567005,
          0.9558890693900123,
          0.9598870544177496,
          0.96039348297639,
          0.9499986963281497,
          0.9608732164561327,
          0.9607932448910983,
          0.9599403486650825,
          0.9606599897354491,
          0.957648170298334,
          0.9595405689891777,
          0.9608732057994145,
          0.9442948904304661,
          0.9561289663239181,
          0.9362723780423865
         ],
         "yaxis": "y"
        },
        {
         "marker": {
          "color": [
           0,
           1,
           2,
           3,
           4,
           5,
           6,
           7,
           8,
           9,
           10,
           11,
           12,
           13,
           14,
           15,
           16,
           17,
           18,
           19,
           20,
           21,
           22,
           23,
           24,
           25,
           26,
           27,
           28,
           29,
           30,
           31,
           32,
           33,
           34,
           35,
           36,
           37,
           38,
           39
          ],
          "colorbar": {
           "title": {
            "text": "#Trials"
           },
           "x": 1,
           "xpad": 40
          },
          "colorscale": [
           [
            0,
            "rgb(247,251,255)"
           ],
           [
            0.125,
            "rgb(222,235,247)"
           ],
           [
            0.25,
            "rgb(198,219,239)"
           ],
           [
            0.375,
            "rgb(158,202,225)"
           ],
           [
            0.5,
            "rgb(107,174,214)"
           ],
           [
            0.625,
            "rgb(66,146,198)"
           ],
           [
            0.75,
            "rgb(33,113,181)"
           ],
           [
            0.875,
            "rgb(8,81,156)"
           ],
           [
            1,
            "rgb(8,48,107)"
           ]
          ],
          "line": {
           "color": "Grey",
           "width": 0.5
          },
          "showscale": false
         },
         "mode": "markers",
         "showlegend": false,
         "type": "scatter",
         "x": [
          3,
          8,
          8,
          10,
          1,
          1,
          3,
          4,
          1,
          8,
          5,
          2,
          3,
          3,
          6,
          5,
          3,
          4,
          6,
          2,
          2,
          2,
          2,
          2,
          4,
          1,
          2,
          4,
          3,
          1,
          3,
          3,
          2,
          3,
          5,
          4,
          2,
          1,
          7,
          3
         ],
         "xaxis": "x2",
         "y": [
          0.9355526694794719,
          0.939923756865413,
          0.9525041369379753,
          0.9543165463025876,
          0.9602602100595441,
          0.9436018840509284,
          0.960953198677885,
          0.9572483941746684,
          0.9295556049080013,
          0.9324609246564345,
          0.9584211340339486,
          0.959353969854844,
          0.9606066954881161,
          0.9546896486607915,
          0.9596738276970662,
          0.9574882733473775,
          0.916308892221363,
          0.9599936677780914,
          0.9507716707204823,
          0.9610598297994235,
          0.9605800359316117,
          0.9609265355691413,
          0.9590874311256308,
          0.9605533657183892,
          0.9601269406949374,
          0.960446766567005,
          0.9558890693900123,
          0.9598870544177496,
          0.96039348297639,
          0.9499986963281497,
          0.9608732164561327,
          0.9607932448910983,
          0.9599403486650825,
          0.9606599897354491,
          0.957648170298334,
          0.9595405689891777,
          0.9608732057994145,
          0.9442948904304661,
          0.9561289663239181,
          0.9362723780423865
         ],
         "yaxis": "y2"
        },
        {
         "marker": {
          "color": [
           0,
           1,
           2,
           3,
           4,
           5,
           6,
           7,
           8,
           9,
           10,
           11,
           12,
           13,
           14,
           15,
           16,
           17,
           18,
           19,
           20,
           21,
           22,
           23,
           24,
           25,
           26,
           27,
           28,
           29,
           30,
           31,
           32,
           33,
           34,
           35,
           36,
           37,
           38,
           39
          ],
          "colorbar": {
           "title": {
            "text": "#Trials"
           },
           "x": 1,
           "xpad": 40
          },
          "colorscale": [
           [
            0,
            "rgb(247,251,255)"
           ],
           [
            0.125,
            "rgb(222,235,247)"
           ],
           [
            0.25,
            "rgb(198,219,239)"
           ],
           [
            0.375,
            "rgb(158,202,225)"
           ],
           [
            0.5,
            "rgb(107,174,214)"
           ],
           [
            0.625,
            "rgb(66,146,198)"
           ],
           [
            0.75,
            "rgb(33,113,181)"
           ],
           [
            0.875,
            "rgb(8,81,156)"
           ],
           [
            1,
            "rgb(8,48,107)"
           ]
          ],
          "line": {
           "color": "Grey",
           "width": 0.5
          },
          "showscale": false
         },
         "mode": "markers",
         "showlegend": false,
         "type": "scatter",
         "x": [
          98,
          49,
          86,
          5,
          66,
          83,
          81,
          88,
          76,
          52,
          23,
          60,
          68,
          40,
          69,
          96,
          35,
          73,
          58,
          99,
          98,
          80,
          92,
          80,
          100,
          89,
          77,
          92,
          82,
          100,
          64,
          64,
          53,
          74,
          42,
          85,
          62,
          72,
          81,
          1
         ],
         "xaxis": "x3",
         "y": [
          0.9355526694794719,
          0.939923756865413,
          0.9525041369379753,
          0.9543165463025876,
          0.9602602100595441,
          0.9436018840509284,
          0.960953198677885,
          0.9572483941746684,
          0.9295556049080013,
          0.9324609246564345,
          0.9584211340339486,
          0.959353969854844,
          0.9606066954881161,
          0.9546896486607915,
          0.9596738276970662,
          0.9574882733473775,
          0.916308892221363,
          0.9599936677780914,
          0.9507716707204823,
          0.9610598297994235,
          0.9605800359316117,
          0.9609265355691413,
          0.9590874311256308,
          0.9605533657183892,
          0.9601269406949374,
          0.960446766567005,
          0.9558890693900123,
          0.9598870544177496,
          0.96039348297639,
          0.9499986963281497,
          0.9608732164561327,
          0.9607932448910983,
          0.9599403486650825,
          0.9606599897354491,
          0.957648170298334,
          0.9595405689891777,
          0.9608732057994145,
          0.9442948904304661,
          0.9561289663239181,
          0.9362723780423865
         ],
         "yaxis": "y3"
        }
       ],
       "layout": {
        "template": {
         "data": {
          "bar": [
           {
            "error_x": {
             "color": "#2a3f5f"
            },
            "error_y": {
             "color": "#2a3f5f"
            },
            "marker": {
             "line": {
              "color": "#E5ECF6",
              "width": 0.5
             }
            },
            "type": "bar"
           }
          ],
          "barpolar": [
           {
            "marker": {
             "line": {
              "color": "#E5ECF6",
              "width": 0.5
             }
            },
            "type": "barpolar"
           }
          ],
          "carpet": [
           {
            "aaxis": {
             "endlinecolor": "#2a3f5f",
             "gridcolor": "white",
             "linecolor": "white",
             "minorgridcolor": "white",
             "startlinecolor": "#2a3f5f"
            },
            "baxis": {
             "endlinecolor": "#2a3f5f",
             "gridcolor": "white",
             "linecolor": "white",
             "minorgridcolor": "white",
             "startlinecolor": "#2a3f5f"
            },
            "type": "carpet"
           }
          ],
          "choropleth": [
           {
            "colorbar": {
             "outlinewidth": 0,
             "ticks": ""
            },
            "type": "choropleth"
           }
          ],
          "contour": [
           {
            "colorbar": {
             "outlinewidth": 0,
             "ticks": ""
            },
            "colorscale": [
             [
              0,
              "#0d0887"
             ],
             [
              0.1111111111111111,
              "#46039f"
             ],
             [
              0.2222222222222222,
              "#7201a8"
             ],
             [
              0.3333333333333333,
              "#9c179e"
             ],
             [
              0.4444444444444444,
              "#bd3786"
             ],
             [
              0.5555555555555556,
              "#d8576b"
             ],
             [
              0.6666666666666666,
              "#ed7953"
             ],
             [
              0.7777777777777778,
              "#fb9f3a"
             ],
             [
              0.8888888888888888,
              "#fdca26"
             ],
             [
              1,
              "#f0f921"
             ]
            ],
            "type": "contour"
           }
          ],
          "contourcarpet": [
           {
            "colorbar": {
             "outlinewidth": 0,
             "ticks": ""
            },
            "type": "contourcarpet"
           }
          ],
          "heatmap": [
           {
            "colorbar": {
             "outlinewidth": 0,
             "ticks": ""
            },
            "colorscale": [
             [
              0,
              "#0d0887"
             ],
             [
              0.1111111111111111,
              "#46039f"
             ],
             [
              0.2222222222222222,
              "#7201a8"
             ],
             [
              0.3333333333333333,
              "#9c179e"
             ],
             [
              0.4444444444444444,
              "#bd3786"
             ],
             [
              0.5555555555555556,
              "#d8576b"
             ],
             [
              0.6666666666666666,
              "#ed7953"
             ],
             [
              0.7777777777777778,
              "#fb9f3a"
             ],
             [
              0.8888888888888888,
              "#fdca26"
             ],
             [
              1,
              "#f0f921"
             ]
            ],
            "type": "heatmap"
           }
          ],
          "heatmapgl": [
           {
            "colorbar": {
             "outlinewidth": 0,
             "ticks": ""
            },
            "colorscale": [
             [
              0,
              "#0d0887"
             ],
             [
              0.1111111111111111,
              "#46039f"
             ],
             [
              0.2222222222222222,
              "#7201a8"
             ],
             [
              0.3333333333333333,
              "#9c179e"
             ],
             [
              0.4444444444444444,
              "#bd3786"
             ],
             [
              0.5555555555555556,
              "#d8576b"
             ],
             [
              0.6666666666666666,
              "#ed7953"
             ],
             [
              0.7777777777777778,
              "#fb9f3a"
             ],
             [
              0.8888888888888888,
              "#fdca26"
             ],
             [
              1,
              "#f0f921"
             ]
            ],
            "type": "heatmapgl"
           }
          ],
          "histogram": [
           {
            "marker": {
             "colorbar": {
              "outlinewidth": 0,
              "ticks": ""
             }
            },
            "type": "histogram"
           }
          ],
          "histogram2d": [
           {
            "colorbar": {
             "outlinewidth": 0,
             "ticks": ""
            },
            "colorscale": [
             [
              0,
              "#0d0887"
             ],
             [
              0.1111111111111111,
              "#46039f"
             ],
             [
              0.2222222222222222,
              "#7201a8"
             ],
             [
              0.3333333333333333,
              "#9c179e"
             ],
             [
              0.4444444444444444,
              "#bd3786"
             ],
             [
              0.5555555555555556,
              "#d8576b"
             ],
             [
              0.6666666666666666,
              "#ed7953"
             ],
             [
              0.7777777777777778,
              "#fb9f3a"
             ],
             [
              0.8888888888888888,
              "#fdca26"
             ],
             [
              1,
              "#f0f921"
             ]
            ],
            "type": "histogram2d"
           }
          ],
          "histogram2dcontour": [
           {
            "colorbar": {
             "outlinewidth": 0,
             "ticks": ""
            },
            "colorscale": [
             [
              0,
              "#0d0887"
             ],
             [
              0.1111111111111111,
              "#46039f"
             ],
             [
              0.2222222222222222,
              "#7201a8"
             ],
             [
              0.3333333333333333,
              "#9c179e"
             ],
             [
              0.4444444444444444,
              "#bd3786"
             ],
             [
              0.5555555555555556,
              "#d8576b"
             ],
             [
              0.6666666666666666,
              "#ed7953"
             ],
             [
              0.7777777777777778,
              "#fb9f3a"
             ],
             [
              0.8888888888888888,
              "#fdca26"
             ],
             [
              1,
              "#f0f921"
             ]
            ],
            "type": "histogram2dcontour"
           }
          ],
          "mesh3d": [
           {
            "colorbar": {
             "outlinewidth": 0,
             "ticks": ""
            },
            "type": "mesh3d"
           }
          ],
          "parcoords": [
           {
            "line": {
             "colorbar": {
              "outlinewidth": 0,
              "ticks": ""
             }
            },
            "type": "parcoords"
           }
          ],
          "pie": [
           {
            "automargin": true,
            "type": "pie"
           }
          ],
          "scatter": [
           {
            "marker": {
             "colorbar": {
              "outlinewidth": 0,
              "ticks": ""
             }
            },
            "type": "scatter"
           }
          ],
          "scatter3d": [
           {
            "line": {
             "colorbar": {
              "outlinewidth": 0,
              "ticks": ""
             }
            },
            "marker": {
             "colorbar": {
              "outlinewidth": 0,
              "ticks": ""
             }
            },
            "type": "scatter3d"
           }
          ],
          "scattercarpet": [
           {
            "marker": {
             "colorbar": {
              "outlinewidth": 0,
              "ticks": ""
             }
            },
            "type": "scattercarpet"
           }
          ],
          "scattergeo": [
           {
            "marker": {
             "colorbar": {
              "outlinewidth": 0,
              "ticks": ""
             }
            },
            "type": "scattergeo"
           }
          ],
          "scattergl": [
           {
            "marker": {
             "colorbar": {
              "outlinewidth": 0,
              "ticks": ""
             }
            },
            "type": "scattergl"
           }
          ],
          "scattermapbox": [
           {
            "marker": {
             "colorbar": {
              "outlinewidth": 0,
              "ticks": ""
             }
            },
            "type": "scattermapbox"
           }
          ],
          "scatterpolar": [
           {
            "marker": {
             "colorbar": {
              "outlinewidth": 0,
              "ticks": ""
             }
            },
            "type": "scatterpolar"
           }
          ],
          "scatterpolargl": [
           {
            "marker": {
             "colorbar": {
              "outlinewidth": 0,
              "ticks": ""
             }
            },
            "type": "scatterpolargl"
           }
          ],
          "scatterternary": [
           {
            "marker": {
             "colorbar": {
              "outlinewidth": 0,
              "ticks": ""
             }
            },
            "type": "scatterternary"
           }
          ],
          "surface": [
           {
            "colorbar": {
             "outlinewidth": 0,
             "ticks": ""
            },
            "colorscale": [
             [
              0,
              "#0d0887"
             ],
             [
              0.1111111111111111,
              "#46039f"
             ],
             [
              0.2222222222222222,
              "#7201a8"
             ],
             [
              0.3333333333333333,
              "#9c179e"
             ],
             [
              0.4444444444444444,
              "#bd3786"
             ],
             [
              0.5555555555555556,
              "#d8576b"
             ],
             [
              0.6666666666666666,
              "#ed7953"
             ],
             [
              0.7777777777777778,
              "#fb9f3a"
             ],
             [
              0.8888888888888888,
              "#fdca26"
             ],
             [
              1,
              "#f0f921"
             ]
            ],
            "type": "surface"
           }
          ],
          "table": [
           {
            "cells": {
             "fill": {
              "color": "#EBF0F8"
             },
             "line": {
              "color": "white"
             }
            },
            "header": {
             "fill": {
              "color": "#C8D4E3"
             },
             "line": {
              "color": "white"
             }
            },
            "type": "table"
           }
          ]
         },
         "layout": {
          "annotationdefaults": {
           "arrowcolor": "#2a3f5f",
           "arrowhead": 0,
           "arrowwidth": 1
          },
          "autotypenumbers": "strict",
          "coloraxis": {
           "colorbar": {
            "outlinewidth": 0,
            "ticks": ""
           }
          },
          "colorscale": {
           "diverging": [
            [
             0,
             "#8e0152"
            ],
            [
             0.1,
             "#c51b7d"
            ],
            [
             0.2,
             "#de77ae"
            ],
            [
             0.3,
             "#f1b6da"
            ],
            [
             0.4,
             "#fde0ef"
            ],
            [
             0.5,
             "#f7f7f7"
            ],
            [
             0.6,
             "#e6f5d0"
            ],
            [
             0.7,
             "#b8e186"
            ],
            [
             0.8,
             "#7fbc41"
            ],
            [
             0.9,
             "#4d9221"
            ],
            [
             1,
             "#276419"
            ]
           ],
           "sequential": [
            [
             0,
             "#0d0887"
            ],
            [
             0.1111111111111111,
             "#46039f"
            ],
            [
             0.2222222222222222,
             "#7201a8"
            ],
            [
             0.3333333333333333,
             "#9c179e"
            ],
            [
             0.4444444444444444,
             "#bd3786"
            ],
            [
             0.5555555555555556,
             "#d8576b"
            ],
            [
             0.6666666666666666,
             "#ed7953"
            ],
            [
             0.7777777777777778,
             "#fb9f3a"
            ],
            [
             0.8888888888888888,
             "#fdca26"
            ],
            [
             1,
             "#f0f921"
            ]
           ],
           "sequentialminus": [
            [
             0,
             "#0d0887"
            ],
            [
             0.1111111111111111,
             "#46039f"
            ],
            [
             0.2222222222222222,
             "#7201a8"
            ],
            [
             0.3333333333333333,
             "#9c179e"
            ],
            [
             0.4444444444444444,
             "#bd3786"
            ],
            [
             0.5555555555555556,
             "#d8576b"
            ],
            [
             0.6666666666666666,
             "#ed7953"
            ],
            [
             0.7777777777777778,
             "#fb9f3a"
            ],
            [
             0.8888888888888888,
             "#fdca26"
            ],
            [
             1,
             "#f0f921"
            ]
           ]
          },
          "colorway": [
           "#636efa",
           "#EF553B",
           "#00cc96",
           "#ab63fa",
           "#FFA15A",
           "#19d3f3",
           "#FF6692",
           "#B6E880",
           "#FF97FF",
           "#FECB52"
          ],
          "font": {
           "color": "#2a3f5f"
          },
          "geo": {
           "bgcolor": "white",
           "lakecolor": "white",
           "landcolor": "#E5ECF6",
           "showlakes": true,
           "showland": true,
           "subunitcolor": "white"
          },
          "hoverlabel": {
           "align": "left"
          },
          "hovermode": "closest",
          "mapbox": {
           "style": "light"
          },
          "paper_bgcolor": "white",
          "plot_bgcolor": "#E5ECF6",
          "polar": {
           "angularaxis": {
            "gridcolor": "white",
            "linecolor": "white",
            "ticks": ""
           },
           "bgcolor": "#E5ECF6",
           "radialaxis": {
            "gridcolor": "white",
            "linecolor": "white",
            "ticks": ""
           }
          },
          "scene": {
           "xaxis": {
            "backgroundcolor": "#E5ECF6",
            "gridcolor": "white",
            "gridwidth": 2,
            "linecolor": "white",
            "showbackground": true,
            "ticks": "",
            "zerolinecolor": "white"
           },
           "yaxis": {
            "backgroundcolor": "#E5ECF6",
            "gridcolor": "white",
            "gridwidth": 2,
            "linecolor": "white",
            "showbackground": true,
            "ticks": "",
            "zerolinecolor": "white"
           },
           "zaxis": {
            "backgroundcolor": "#E5ECF6",
            "gridcolor": "white",
            "gridwidth": 2,
            "linecolor": "white",
            "showbackground": true,
            "ticks": "",
            "zerolinecolor": "white"
           }
          },
          "shapedefaults": {
           "line": {
            "color": "#2a3f5f"
           }
          },
          "ternary": {
           "aaxis": {
            "gridcolor": "white",
            "linecolor": "white",
            "ticks": ""
           },
           "baxis": {
            "gridcolor": "white",
            "linecolor": "white",
            "ticks": ""
           },
           "bgcolor": "#E5ECF6",
           "caxis": {
            "gridcolor": "white",
            "linecolor": "white",
            "ticks": ""
           }
          },
          "title": {
           "x": 0.05
          },
          "xaxis": {
           "automargin": true,
           "gridcolor": "white",
           "linecolor": "white",
           "ticks": "",
           "title": {
            "standoff": 15
           },
           "zerolinecolor": "white",
           "zerolinewidth": 2
          },
          "yaxis": {
           "automargin": true,
           "gridcolor": "white",
           "linecolor": "white",
           "ticks": "",
           "title": {
            "standoff": 15
           },
           "zerolinecolor": "white",
           "zerolinewidth": 2
          }
         }
        },
        "title": {
         "text": "Slice Plot"
        },
        "xaxis": {
         "anchor": "y",
         "domain": [
          0,
          0.2888888888888889
         ],
         "title": {
          "text": "rf_max_depth"
         }
        },
        "xaxis2": {
         "anchor": "y2",
         "domain": [
          0.35555555555555557,
          0.6444444444444445
         ],
         "title": {
          "text": "rf_min_samples_leaf"
         }
        },
        "xaxis3": {
         "anchor": "y3",
         "domain": [
          0.7111111111111111,
          1
         ],
         "title": {
          "text": "rf_n_estimators"
         }
        },
        "yaxis": {
         "anchor": "x",
         "domain": [
          0,
          1
         ],
         "title": {
          "text": "Objective Value"
         }
        },
        "yaxis2": {
         "anchor": "x2",
         "domain": [
          0,
          1
         ],
         "matches": "y",
         "showticklabels": false
        },
        "yaxis3": {
         "anchor": "x3",
         "domain": [
          0,
          1
         ],
         "matches": "y",
         "showticklabels": false
        }
       }
      }
     },
     "metadata": {}
    },
    {
     "output_type": "display_data",
     "data": {
      "application/vnd.plotly.v1+json": {
       "config": {
        "plotlyServerURL": "https://plot.ly"
       },
       "data": [
        {
         "dimensions": [
          {
           "label": "Objective Value",
           "range": [
            0.916308892221363,
            0.9610598297994235
           ],
           "values": [
            0.9355526694794719,
            0.939923756865413,
            0.9525041369379753,
            0.9543165463025876,
            0.9602602100595441,
            0.9436018840509284,
            0.960953198677885,
            0.9572483941746684,
            0.9295556049080013,
            0.9324609246564345,
            0.9584211340339486,
            0.959353969854844,
            0.9606066954881161,
            0.9546896486607915,
            0.9596738276970662,
            0.9574882733473775,
            0.916308892221363,
            0.9599936677780914,
            0.9507716707204823,
            0.9610598297994235,
            0.9605800359316117,
            0.9609265355691413,
            0.9590874311256308,
            0.9605533657183892,
            0.9601269406949374,
            0.960446766567005,
            0.9558890693900123,
            0.9598870544177496,
            0.96039348297639,
            0.9499986963281497,
            0.9608732164561327,
            0.9607932448910983,
            0.9599403486650825,
            0.9606599897354491,
            0.957648170298334,
            0.9595405689891777,
            0.9608732057994145,
            0.9442948904304661,
            0.9561289663239181,
            0.9362723780423865
           ]
          },
          {
           "label": "rf_max_depth",
           "range": [
            5,
            30
           ],
           "values": [
            8,
            9,
            14,
            25,
            22,
            10,
            30,
            18,
            6,
            7,
            28,
            21,
            30,
            15,
            30,
            18,
            5,
            29,
            13,
            25,
            24,
            30,
            19,
            26,
            30,
            21,
            16,
            24,
            30,
            12,
            23,
            26,
            22,
            26,
            19,
            23,
            27,
            10,
            17,
            20
           ]
          },
          {
           "label": "rf_min_samples_leaf",
           "range": [
            1,
            10
           ],
           "values": [
            3,
            8,
            8,
            10,
            1,
            1,
            3,
            4,
            1,
            8,
            5,
            2,
            3,
            3,
            6,
            5,
            3,
            4,
            6,
            2,
            2,
            2,
            2,
            2,
            4,
            1,
            2,
            4,
            3,
            1,
            3,
            3,
            2,
            3,
            5,
            4,
            2,
            1,
            7,
            3
           ]
          },
          {
           "label": "rf_n_estimators",
           "range": [
            1,
            100
           ],
           "values": [
            98,
            49,
            86,
            5,
            66,
            83,
            81,
            88,
            76,
            52,
            23,
            60,
            68,
            40,
            69,
            96,
            35,
            73,
            58,
            99,
            98,
            80,
            92,
            80,
            100,
            89,
            77,
            92,
            82,
            100,
            64,
            64,
            53,
            74,
            42,
            85,
            62,
            72,
            81,
            1
           ]
          }
         ],
         "labelangle": 30,
         "labelside": "bottom",
         "line": {
          "color": [
           0.9355526694794719,
           0.939923756865413,
           0.9525041369379753,
           0.9543165463025876,
           0.9602602100595441,
           0.9436018840509284,
           0.960953198677885,
           0.9572483941746684,
           0.9295556049080013,
           0.9324609246564345,
           0.9584211340339486,
           0.959353969854844,
           0.9606066954881161,
           0.9546896486607915,
           0.9596738276970662,
           0.9574882733473775,
           0.916308892221363,
           0.9599936677780914,
           0.9507716707204823,
           0.9610598297994235,
           0.9605800359316117,
           0.9609265355691413,
           0.9590874311256308,
           0.9605533657183892,
           0.9601269406949374,
           0.960446766567005,
           0.9558890693900123,
           0.9598870544177496,
           0.96039348297639,
           0.9499986963281497,
           0.9608732164561327,
           0.9607932448910983,
           0.9599403486650825,
           0.9606599897354491,
           0.957648170298334,
           0.9595405689891777,
           0.9608732057994145,
           0.9442948904304661,
           0.9561289663239181,
           0.9362723780423865
          ],
          "colorbar": {
           "title": {
            "text": "Objective Value"
           }
          },
          "colorscale": [
           [
            0,
            "rgb(247,251,255)"
           ],
           [
            0.125,
            "rgb(222,235,247)"
           ],
           [
            0.25,
            "rgb(198,219,239)"
           ],
           [
            0.375,
            "rgb(158,202,225)"
           ],
           [
            0.5,
            "rgb(107,174,214)"
           ],
           [
            0.625,
            "rgb(66,146,198)"
           ],
           [
            0.75,
            "rgb(33,113,181)"
           ],
           [
            0.875,
            "rgb(8,81,156)"
           ],
           [
            1,
            "rgb(8,48,107)"
           ]
          ],
          "reversescale": false,
          "showscale": true
         },
         "type": "parcoords"
        }
       ],
       "layout": {
        "template": {
         "data": {
          "bar": [
           {
            "error_x": {
             "color": "#2a3f5f"
            },
            "error_y": {
             "color": "#2a3f5f"
            },
            "marker": {
             "line": {
              "color": "#E5ECF6",
              "width": 0.5
             }
            },
            "type": "bar"
           }
          ],
          "barpolar": [
           {
            "marker": {
             "line": {
              "color": "#E5ECF6",
              "width": 0.5
             }
            },
            "type": "barpolar"
           }
          ],
          "carpet": [
           {
            "aaxis": {
             "endlinecolor": "#2a3f5f",
             "gridcolor": "white",
             "linecolor": "white",
             "minorgridcolor": "white",
             "startlinecolor": "#2a3f5f"
            },
            "baxis": {
             "endlinecolor": "#2a3f5f",
             "gridcolor": "white",
             "linecolor": "white",
             "minorgridcolor": "white",
             "startlinecolor": "#2a3f5f"
            },
            "type": "carpet"
           }
          ],
          "choropleth": [
           {
            "colorbar": {
             "outlinewidth": 0,
             "ticks": ""
            },
            "type": "choropleth"
           }
          ],
          "contour": [
           {
            "colorbar": {
             "outlinewidth": 0,
             "ticks": ""
            },
            "colorscale": [
             [
              0,
              "#0d0887"
             ],
             [
              0.1111111111111111,
              "#46039f"
             ],
             [
              0.2222222222222222,
              "#7201a8"
             ],
             [
              0.3333333333333333,
              "#9c179e"
             ],
             [
              0.4444444444444444,
              "#bd3786"
             ],
             [
              0.5555555555555556,
              "#d8576b"
             ],
             [
              0.6666666666666666,
              "#ed7953"
             ],
             [
              0.7777777777777778,
              "#fb9f3a"
             ],
             [
              0.8888888888888888,
              "#fdca26"
             ],
             [
              1,
              "#f0f921"
             ]
            ],
            "type": "contour"
           }
          ],
          "contourcarpet": [
           {
            "colorbar": {
             "outlinewidth": 0,
             "ticks": ""
            },
            "type": "contourcarpet"
           }
          ],
          "heatmap": [
           {
            "colorbar": {
             "outlinewidth": 0,
             "ticks": ""
            },
            "colorscale": [
             [
              0,
              "#0d0887"
             ],
             [
              0.1111111111111111,
              "#46039f"
             ],
             [
              0.2222222222222222,
              "#7201a8"
             ],
             [
              0.3333333333333333,
              "#9c179e"
             ],
             [
              0.4444444444444444,
              "#bd3786"
             ],
             [
              0.5555555555555556,
              "#d8576b"
             ],
             [
              0.6666666666666666,
              "#ed7953"
             ],
             [
              0.7777777777777778,
              "#fb9f3a"
             ],
             [
              0.8888888888888888,
              "#fdca26"
             ],
             [
              1,
              "#f0f921"
             ]
            ],
            "type": "heatmap"
           }
          ],
          "heatmapgl": [
           {
            "colorbar": {
             "outlinewidth": 0,
             "ticks": ""
            },
            "colorscale": [
             [
              0,
              "#0d0887"
             ],
             [
              0.1111111111111111,
              "#46039f"
             ],
             [
              0.2222222222222222,
              "#7201a8"
             ],
             [
              0.3333333333333333,
              "#9c179e"
             ],
             [
              0.4444444444444444,
              "#bd3786"
             ],
             [
              0.5555555555555556,
              "#d8576b"
             ],
             [
              0.6666666666666666,
              "#ed7953"
             ],
             [
              0.7777777777777778,
              "#fb9f3a"
             ],
             [
              0.8888888888888888,
              "#fdca26"
             ],
             [
              1,
              "#f0f921"
             ]
            ],
            "type": "heatmapgl"
           }
          ],
          "histogram": [
           {
            "marker": {
             "colorbar": {
              "outlinewidth": 0,
              "ticks": ""
             }
            },
            "type": "histogram"
           }
          ],
          "histogram2d": [
           {
            "colorbar": {
             "outlinewidth": 0,
             "ticks": ""
            },
            "colorscale": [
             [
              0,
              "#0d0887"
             ],
             [
              0.1111111111111111,
              "#46039f"
             ],
             [
              0.2222222222222222,
              "#7201a8"
             ],
             [
              0.3333333333333333,
              "#9c179e"
             ],
             [
              0.4444444444444444,
              "#bd3786"
             ],
             [
              0.5555555555555556,
              "#d8576b"
             ],
             [
              0.6666666666666666,
              "#ed7953"
             ],
             [
              0.7777777777777778,
              "#fb9f3a"
             ],
             [
              0.8888888888888888,
              "#fdca26"
             ],
             [
              1,
              "#f0f921"
             ]
            ],
            "type": "histogram2d"
           }
          ],
          "histogram2dcontour": [
           {
            "colorbar": {
             "outlinewidth": 0,
             "ticks": ""
            },
            "colorscale": [
             [
              0,
              "#0d0887"
             ],
             [
              0.1111111111111111,
              "#46039f"
             ],
             [
              0.2222222222222222,
              "#7201a8"
             ],
             [
              0.3333333333333333,
              "#9c179e"
             ],
             [
              0.4444444444444444,
              "#bd3786"
             ],
             [
              0.5555555555555556,
              "#d8576b"
             ],
             [
              0.6666666666666666,
              "#ed7953"
             ],
             [
              0.7777777777777778,
              "#fb9f3a"
             ],
             [
              0.8888888888888888,
              "#fdca26"
             ],
             [
              1,
              "#f0f921"
             ]
            ],
            "type": "histogram2dcontour"
           }
          ],
          "mesh3d": [
           {
            "colorbar": {
             "outlinewidth": 0,
             "ticks": ""
            },
            "type": "mesh3d"
           }
          ],
          "parcoords": [
           {
            "line": {
             "colorbar": {
              "outlinewidth": 0,
              "ticks": ""
             }
            },
            "type": "parcoords"
           }
          ],
          "pie": [
           {
            "automargin": true,
            "type": "pie"
           }
          ],
          "scatter": [
           {
            "marker": {
             "colorbar": {
              "outlinewidth": 0,
              "ticks": ""
             }
            },
            "type": "scatter"
           }
          ],
          "scatter3d": [
           {
            "line": {
             "colorbar": {
              "outlinewidth": 0,
              "ticks": ""
             }
            },
            "marker": {
             "colorbar": {
              "outlinewidth": 0,
              "ticks": ""
             }
            },
            "type": "scatter3d"
           }
          ],
          "scattercarpet": [
           {
            "marker": {
             "colorbar": {
              "outlinewidth": 0,
              "ticks": ""
             }
            },
            "type": "scattercarpet"
           }
          ],
          "scattergeo": [
           {
            "marker": {
             "colorbar": {
              "outlinewidth": 0,
              "ticks": ""
             }
            },
            "type": "scattergeo"
           }
          ],
          "scattergl": [
           {
            "marker": {
             "colorbar": {
              "outlinewidth": 0,
              "ticks": ""
             }
            },
            "type": "scattergl"
           }
          ],
          "scattermapbox": [
           {
            "marker": {
             "colorbar": {
              "outlinewidth": 0,
              "ticks": ""
             }
            },
            "type": "scattermapbox"
           }
          ],
          "scatterpolar": [
           {
            "marker": {
             "colorbar": {
              "outlinewidth": 0,
              "ticks": ""
             }
            },
            "type": "scatterpolar"
           }
          ],
          "scatterpolargl": [
           {
            "marker": {
             "colorbar": {
              "outlinewidth": 0,
              "ticks": ""
             }
            },
            "type": "scatterpolargl"
           }
          ],
          "scatterternary": [
           {
            "marker": {
             "colorbar": {
              "outlinewidth": 0,
              "ticks": ""
             }
            },
            "type": "scatterternary"
           }
          ],
          "surface": [
           {
            "colorbar": {
             "outlinewidth": 0,
             "ticks": ""
            },
            "colorscale": [
             [
              0,
              "#0d0887"
             ],
             [
              0.1111111111111111,
              "#46039f"
             ],
             [
              0.2222222222222222,
              "#7201a8"
             ],
             [
              0.3333333333333333,
              "#9c179e"
             ],
             [
              0.4444444444444444,
              "#bd3786"
             ],
             [
              0.5555555555555556,
              "#d8576b"
             ],
             [
              0.6666666666666666,
              "#ed7953"
             ],
             [
              0.7777777777777778,
              "#fb9f3a"
             ],
             [
              0.8888888888888888,
              "#fdca26"
             ],
             [
              1,
              "#f0f921"
             ]
            ],
            "type": "surface"
           }
          ],
          "table": [
           {
            "cells": {
             "fill": {
              "color": "#EBF0F8"
             },
             "line": {
              "color": "white"
             }
            },
            "header": {
             "fill": {
              "color": "#C8D4E3"
             },
             "line": {
              "color": "white"
             }
            },
            "type": "table"
           }
          ]
         },
         "layout": {
          "annotationdefaults": {
           "arrowcolor": "#2a3f5f",
           "arrowhead": 0,
           "arrowwidth": 1
          },
          "autotypenumbers": "strict",
          "coloraxis": {
           "colorbar": {
            "outlinewidth": 0,
            "ticks": ""
           }
          },
          "colorscale": {
           "diverging": [
            [
             0,
             "#8e0152"
            ],
            [
             0.1,
             "#c51b7d"
            ],
            [
             0.2,
             "#de77ae"
            ],
            [
             0.3,
             "#f1b6da"
            ],
            [
             0.4,
             "#fde0ef"
            ],
            [
             0.5,
             "#f7f7f7"
            ],
            [
             0.6,
             "#e6f5d0"
            ],
            [
             0.7,
             "#b8e186"
            ],
            [
             0.8,
             "#7fbc41"
            ],
            [
             0.9,
             "#4d9221"
            ],
            [
             1,
             "#276419"
            ]
           ],
           "sequential": [
            [
             0,
             "#0d0887"
            ],
            [
             0.1111111111111111,
             "#46039f"
            ],
            [
             0.2222222222222222,
             "#7201a8"
            ],
            [
             0.3333333333333333,
             "#9c179e"
            ],
            [
             0.4444444444444444,
             "#bd3786"
            ],
            [
             0.5555555555555556,
             "#d8576b"
            ],
            [
             0.6666666666666666,
             "#ed7953"
            ],
            [
             0.7777777777777778,
             "#fb9f3a"
            ],
            [
             0.8888888888888888,
             "#fdca26"
            ],
            [
             1,
             "#f0f921"
            ]
           ],
           "sequentialminus": [
            [
             0,
             "#0d0887"
            ],
            [
             0.1111111111111111,
             "#46039f"
            ],
            [
             0.2222222222222222,
             "#7201a8"
            ],
            [
             0.3333333333333333,
             "#9c179e"
            ],
            [
             0.4444444444444444,
             "#bd3786"
            ],
            [
             0.5555555555555556,
             "#d8576b"
            ],
            [
             0.6666666666666666,
             "#ed7953"
            ],
            [
             0.7777777777777778,
             "#fb9f3a"
            ],
            [
             0.8888888888888888,
             "#fdca26"
            ],
            [
             1,
             "#f0f921"
            ]
           ]
          },
          "colorway": [
           "#636efa",
           "#EF553B",
           "#00cc96",
           "#ab63fa",
           "#FFA15A",
           "#19d3f3",
           "#FF6692",
           "#B6E880",
           "#FF97FF",
           "#FECB52"
          ],
          "font": {
           "color": "#2a3f5f"
          },
          "geo": {
           "bgcolor": "white",
           "lakecolor": "white",
           "landcolor": "#E5ECF6",
           "showlakes": true,
           "showland": true,
           "subunitcolor": "white"
          },
          "hoverlabel": {
           "align": "left"
          },
          "hovermode": "closest",
          "mapbox": {
           "style": "light"
          },
          "paper_bgcolor": "white",
          "plot_bgcolor": "#E5ECF6",
          "polar": {
           "angularaxis": {
            "gridcolor": "white",
            "linecolor": "white",
            "ticks": ""
           },
           "bgcolor": "#E5ECF6",
           "radialaxis": {
            "gridcolor": "white",
            "linecolor": "white",
            "ticks": ""
           }
          },
          "scene": {
           "xaxis": {
            "backgroundcolor": "#E5ECF6",
            "gridcolor": "white",
            "gridwidth": 2,
            "linecolor": "white",
            "showbackground": true,
            "ticks": "",
            "zerolinecolor": "white"
           },
           "yaxis": {
            "backgroundcolor": "#E5ECF6",
            "gridcolor": "white",
            "gridwidth": 2,
            "linecolor": "white",
            "showbackground": true,
            "ticks": "",
            "zerolinecolor": "white"
           },
           "zaxis": {
            "backgroundcolor": "#E5ECF6",
            "gridcolor": "white",
            "gridwidth": 2,
            "linecolor": "white",
            "showbackground": true,
            "ticks": "",
            "zerolinecolor": "white"
           }
          },
          "shapedefaults": {
           "line": {
            "color": "#2a3f5f"
           }
          },
          "ternary": {
           "aaxis": {
            "gridcolor": "white",
            "linecolor": "white",
            "ticks": ""
           },
           "baxis": {
            "gridcolor": "white",
            "linecolor": "white",
            "ticks": ""
           },
           "bgcolor": "#E5ECF6",
           "caxis": {
            "gridcolor": "white",
            "linecolor": "white",
            "ticks": ""
           }
          },
          "title": {
           "x": 0.05
          },
          "xaxis": {
           "automargin": true,
           "gridcolor": "white",
           "linecolor": "white",
           "ticks": "",
           "title": {
            "standoff": 15
           },
           "zerolinecolor": "white",
           "zerolinewidth": 2
          },
          "yaxis": {
           "automargin": true,
           "gridcolor": "white",
           "linecolor": "white",
           "ticks": "",
           "title": {
            "standoff": 15
           },
           "zerolinecolor": "white",
           "zerolinewidth": 2
          }
         }
        },
        "title": {
         "text": "Parallel Coordinate Plot"
        }
       }
      }
     },
     "metadata": {}
    }
   ],
   "metadata": {}
  },
  {
   "cell_type": "code",
   "execution_count": 20,
   "source": [
    "# Criação, treinamento e teste do modelo RF com hiperparâmetros otimizados\r\n",
    "m2 = sklearn.ensemble.RandomForestClassifier(max_depth = study_rc.best_params['rf_max_depth'],\r\n",
    "min_samples_leaf = study_rc.best_params['rf_min_samples_leaf'],\r\n",
    "n_estimators = study_rc.best_params['rf_n_estimators'])\r\n",
    "\r\n",
    "m2.fit(train_data, train_output)  # treinamento\r\n",
    "predictions = m2.predict(test_data)  # teste"
   ],
   "outputs": [],
   "metadata": {}
  },
  {
   "cell_type": "code",
   "execution_count": null,
   "source": [
    "'''# Célula alternativa a anterior, que salva o modelo em um arquivo joblib\r\n",
    "\r\n",
    "# Criação, treinamento e teste do modelo RF com hiperparâmetros otimizados\r\n",
    "m2 = sklearn.ensemble.RandomForestClassifier(max_depth = study_rc.best_params['rf_max_depth'],\r\n",
    "min_samples_leaf = study_rc.best_params['rf_min_samples_leaf'],\r\n",
    "n_estimators = study_rc.best_params['rf_n_estimators'])\r\n",
    "\r\n",
    "m2.fit(train_data, train_output)  # treinamento\r\n",
    "\r\n",
    "joblib.dump(m2, \"RF_model.joblib\")\r\n",
    "loaded_model = joblib.load(\"RF_model.joblib\")\r\n",
    "predictions = loaded_model.predict(test_data)  # teste '''"
   ],
   "outputs": [],
   "metadata": {}
  },
  {
   "cell_type": "code",
   "execution_count": 21,
   "source": [
    "# Matriz de confusão e relatório de classificação\r\n",
    "class_report = classification_report(test_output, predictions)\r\n",
    "print('Relatório de classificação:\\n', class_report)\r\n",
    "conf_mat = confusion_matrix(\r\n",
    "    test_output, predictions, labels=[0, 1, 2, 3, 4, 5, 6])\r\n",
    "print('Matriz de confusão:\\n', conf_mat)\r\n",
    "\r\n",
    "# Gráfico matriz de confusão\r\n",
    "plt.rcParams.update(plt.rcParamsDefault)\r\n",
    "LABELS = [\"Op. Normal\", \"Falha 1\", \"Falha 2\",\r\n",
    "          \"Falha 3\", \"Falha 4\", \"Falha 5\", \"Falha 6\"]\r\n",
    "acc = accuracy_score(test_output, predictions)\r\n",
    "plot_confusion_matrix(conf_mat=conf_mat, colorbar=True, show_absolute=False,\r\n",
    "show_normed=True, class_names=LABELS, cmap=plt.cm.Blues)\r\n",
    "\r\n",
    "plt.title(\"Matriz de confusão - RF\\nAcurácia: %1.4f\" % acc, fontsize=15)\r\n",
    "plt.ylabel('Classe Verdadeira', fontsize=15)\r\n",
    "plt.xlabel('Classe Predita', fontsize=15)\r\n",
    "plt.savefig('RF_confmat.png')\r\n",
    "plt.show()\r\n",
    "plt.close()"
   ],
   "outputs": [
    {
     "output_type": "stream",
     "name": "stdout",
     "text": [
      "Relatório de classificação:\n",
      "               precision    recall  f1-score   support\n",
      "\n",
      "         0.0       0.92      0.99      0.95     14657\n",
      "         1.0       0.94      0.85      0.89      2742\n",
      "         2.0       0.99      0.72      0.84      2659\n",
      "         3.0       0.97      0.90      0.93       663\n",
      "         4.0       0.98      1.00      0.99       470\n",
      "         5.0       1.00      0.99      0.99       719\n",
      "         6.0       1.00      0.90      0.95       615\n",
      "\n",
      "    accuracy                           0.93     22525\n",
      "   macro avg       0.97      0.91      0.93     22525\n",
      "weighted avg       0.94      0.93      0.93     22525\n",
      "\n",
      "Matriz de confusão:\n",
      " [[14452   157    14    20    11     1     2]\n",
      " [  417  2325     0     0     0     0     0]\n",
      " [  735     0  1924     0     0     0     0]\n",
      " [   64     0     0   599     0     0     0]\n",
      " [    0     0     0     0   470     0     0]\n",
      " [    9     0     0     0     0   710     0]\n",
      " [   59     0     0     0     0     0   556]]\n"
     ]
    },
    {
     "output_type": "display_data",
     "data": {
      "image/png": "[encoded data removed]",
      "text/plain": [
       "<Figure size 640x480 with 2 Axes>"
      ]
     },
     "metadata": {}
    }
   ],
   "metadata": {}
  },
  {
   "cell_type": "code",
   "execution_count": 22,
   "source": [
    "# Importancia das variáveis\r\n",
    "importances = list(m2.feature_importances_)\r\n",
    "feature_importances = [(feature, round(importance, 4)) for feature, importance in zip(header, importances)]\r\n",
    "feature_importances = sorted(feature_importances, key=lambda x: x[1], reverse=True)\r\n",
    "[print('Variável: {:20} Importância: {}'.format(*pair)) for pair in feature_importances]\r\n",
    "\r\n",
    "# Gráfico importância\r\n",
    "sns.set(font_scale=1)\r\n",
    "x_values = list(range(len(importances)))\r\n",
    "plt.figure()\r\n",
    "plt.grid(axis='y')\r\n",
    "plt.bar(x_values, importances, orientation='vertical')\r\n",
    "plt.xticks(x_values, header, rotation='vertical')\r\n",
    "plt.ylabel('Importância')\r\n",
    "plt.xlabel('Variável')\r\n",
    "plt.title('Importância das Variáveis - RF', fontsize=15)\r\n",
    "plt.tight_layout()\r\n",
    "plt.savefig('RF_importance.png')\r\n",
    "plt.show()\r\n",
    "plt.close()"
   ],
   "outputs": [
    {
     "output_type": "stream",
     "name": "stdout",
     "text": [
      "Variável: ACG1P(t)             Importância: 0.1244\n",
      "Variável: ACG1P(t-1)           Importância: 0.1216\n",
      "Variável: SW5F(t)              Importância: 0.0957\n",
      "Variável: SW5F(t-1)            Importância: 0.0811\n",
      "Variável: C2SL(t)              Importância: 0.0786\n",
      "Variável: SW1F(t)              Importância: 0.0721\n",
      "Variável: SW1F(t-1)            Importância: 0.0704\n",
      "Variável: C2SL(t-1)            Importância: 0.0692\n",
      "Variável: SW8T(t-1)            Importância: 0.0617\n",
      "Variável: SW8T(t)              Importância: 0.055\n",
      "Variável: AMG1P(t-1)           Importância: 0.0276\n",
      "Variável: AMG1P(t)             Importância: 0.0236\n",
      "Variável: AMG1T(t-1)           Importância: 0.0137\n",
      "Variável: AMG1T(t)             Importância: 0.0137\n",
      "Variável: C2DL(t-1)            Importância: 0.0133\n",
      "Variável: C1S2T(t)             Importância: 0.0124\n",
      "Variável: C1S2T(t-1)           Importância: 0.0119\n",
      "Variável: C2DL(t)              Importância: 0.0117\n",
      "Variável: C2HDI(t)             Importância: 0.0091\n",
      "Variável: C2HDI(t-1)           Importância: 0.009\n",
      "Variável: CW5F(t)              Importância: 0.0062\n",
      "Variável: CW5F(t-1)            Importância: 0.0056\n",
      "Variável: C1SL(t-1)            Importância: 0.0034\n",
      "Variável: C1SL(t)              Importância: 0.0031\n",
      "Variável: CW8F(t-1)            Importância: 0.003\n",
      "Variável: CW8F(t)              Importância: 0.0029\n"
     ]
    },
    {
     "output_type": "display_data",
     "data": {
      "image/png": "[encoded data removed]",
      "text/plain": [
       "<Figure size 640x480 with 1 Axes>"
      ]
     },
     "metadata": {}
    }
   ],
   "metadata": {}
  },
  {
   "cell_type": "code",
   "execution_count": 23,
   "source": [
    "# ----------------- Redução variáveis pela importância -----------------\r\n",
    "print(\"------------------ REDUÇÃO DE VARIÁVEIS -------------------\\n\")\r\n",
    "# Quantidade de variáveis que serão utilizadas na redução\r\n",
    "columns = sum(big > 0.02 for big in importances)\r\n",
    "# Criando vetor reduzido dados treino\r\n",
    "train_data_red = np.zeros((train_data.shape[0], columns))\r\n",
    "# Criando vetor reduzido dados teste\r\n",
    "test_data_red = np.zeros((test_data.shape[0], columns))\r\n",
    "# Criando vetor reduzido header\r\n",
    "header_red = []\r\n",
    "fix_pos = 0  # Contador dos dados reduzidos\r\n",
    "total_importance = 0  # Soma da importância total das variáveis reduzidas\r\n",
    "for pos, item in enumerate(importances):\r\n",
    "    if item > 0.02:  # Critério para redução\r\n",
    "        train_data_red[:, fix_pos] = train_data[:, pos]\r\n",
    "        test_data_red[:, fix_pos] = test_data[:, pos]\r\n",
    "        header_red.append(header[pos])\r\n",
    "        fix_pos = fix_pos + 1\r\n",
    "        total_importance = total_importance + item\r\n",
    "\r\n",
    "print(\"Importância total da versão reduzida:\", total_importance)\r\n",
    "print(\"Formato dos dados de entrada de treinamento reduzidos:\", train_data_red.shape)\r\n",
    "print(\"Formato dos dados de de entrada de teste reduzidos:\", test_data_red.shape)\r\n",
    "print(\"Formato do header reduzido:\", len(header_red))\r\n",
    "print(\"Header reduzido:\", header_red)"
   ],
   "outputs": [
    {
     "output_type": "stream",
     "name": "stdout",
     "text": [
      "------------------ REDUÇÃO DE VARIÁVEIS -------------------\n",
      "\n",
      "Importância total da versão reduzida: 0.8809317549981355\n",
      "Formato dos dados de entrada de treinamento reduzidos: (37519, 12)\n",
      "Formato dos dados de de entrada de teste reduzidos: (22525, 12)\n",
      "Formato do header reduzido: 12\n",
      "Header reduzido: ['ACG1P(t-1)', 'AMG1P(t-1)', 'C1SL(t-1)', 'C2DL(t-1)', 'C2SL(t-1)', 'SW8T(t-1)', 'C1S2T(t-1)', 'AMG1T(t-1)', 'SW1F(t-1)', 'SW5F(t-1)', 'CW5F(t-1)', 'CW8F(t-1)', 'C2HDI(t-1)', 'ACG1P(t)', 'AMG1P(t)', 'C1SL(t)', 'C2DL(t)', 'C2SL(t)', 'SW8T(t)', 'C1S2T(t)', 'AMG1T(t)', 'SW1F(t)', 'SW5F(t)', 'CW5F(t)', 'CW8F(t)', 'C2HDI(t)', 'CLASS']\n"
     ]
    }
   ],
   "metadata": {}
  },
  {
   "cell_type": "code",
   "execution_count": 24,
   "source": [
    "# Criação, treinamento e teste do modelo RF com hiperparâmetros otimizados\r\n",
    "m3 = sklearn.ensemble.RandomForestClassifier(max_depth = study_rc.best_params['rf_max_depth'],\r\n",
    "min_samples_leaf = study_rc.best_params['rf_min_samples_leaf'],\r\n",
    "n_estimators = study_rc.best_params['rf_n_estimators'])\r\n",
    "\r\n",
    "m3.fit(train_data_red, train_output)  # treinamento\r\n",
    "predictions2 = m3.predict(test_data_red)  # teste"
   ],
   "outputs": [],
   "metadata": {}
  },
  {
   "cell_type": "code",
   "execution_count": 25,
   "source": [
    "# Matriz de confusão e relatório de classificação\r\n",
    "class_report = classification_report(test_output, predictions2)\r\n",
    "print('Relatório de classificação:\\n', class_report)\r\n",
    "conf_mat = confusion_matrix(\r\n",
    "    test_output, predictions2, labels=[0, 1, 2, 3, 4, 5, 6])\r\n",
    "print('Matriz de confusão:\\n', conf_mat)\r\n",
    "\r\n",
    "# Gráfico matriz de confusão\r\n",
    "plt.rcParams.update(plt.rcParamsDefault)\r\n",
    "LABELS = [\"Op. Normal\", \"Falha 1\", \"Falha 2\",\r\n",
    "          \"Falha 3\", \"Falha 4\", \"Falha 5\", \"Falha 6\"]\r\n",
    "acc = accuracy_score(test_output, predictions2)\r\n",
    "plot_confusion_matrix(conf_mat=conf_mat, colorbar=True, show_absolute=False,\r\n",
    "show_normed=True, class_names=LABELS, cmap=plt.cm.Blues)\r\n",
    "\r\n",
    "plt.title(\"Matriz de confusão - RF Reduzido\\nAcurácia: %1.4f\" % acc, fontsize=15)\r\n",
    "plt.ylabel('Classe Verdadeira', fontsize=15)\r\n",
    "plt.xlabel('Classe Predita', fontsize=15)\r\n",
    "plt.savefig('RF_confmat_reduced.png')\r\n",
    "plt.show()\r\n",
    "plt.close()"
   ],
   "outputs": [
    {
     "output_type": "stream",
     "name": "stdout",
     "text": [
      "Relatório de classificação:\n",
      "               precision    recall  f1-score   support\n",
      "\n",
      "         0.0       0.94      0.99      0.96     14657\n",
      "         1.0       0.95      0.85      0.90      2742\n",
      "         2.0       0.98      0.87      0.92      2659\n",
      "         3.0       0.96      0.91      0.94       663\n",
      "         4.0       0.99      1.00      0.99       470\n",
      "         5.0       1.00      0.99      0.99       719\n",
      "         6.0       1.00      0.90      0.94       615\n",
      "\n",
      "    accuracy                           0.95     22525\n",
      "   macro avg       0.97      0.93      0.95     22525\n",
      "weighted avg       0.95      0.95      0.95     22525\n",
      "\n",
      "Matriz de confusão:\n",
      " [[14466   118    41    22     7     2     1]\n",
      " [  424  2318     0     0     0     0     0]\n",
      " [  351     0  2308     0     0     0     0]\n",
      " [   59     0     0   604     0     0     0]\n",
      " [    0     0     0     0   470     0     0]\n",
      " [    8     0     0     0     0   711     0]\n",
      " [   64     0     0     0     0     0   551]]\n"
     ]
    },
    {
     "output_type": "display_data",
     "data": {
      "image/png": "[encoded data removed]",
      "text/plain": [
       "<Figure size 640x480 with 2 Axes>"
      ]
     },
     "metadata": {}
    }
   ],
   "metadata": {}
  },
  {
   "cell_type": "code",
   "execution_count": 26,
   "source": [
    "# Importancia das variáveis\r\n",
    "importances2 = list(m3.feature_importances_)\r\n",
    "feature_importances = [(feature, round(importance, 4)) for feature, importance in zip(header_red, importances2)]\r\n",
    "feature_importances = sorted(feature_importances, key=lambda x: x[1], reverse=True)\r\n",
    "[print('Variável: {:20} Importância: {}'.format(*pair)) for pair in feature_importances]\r\n",
    "\r\n",
    "# Gráfico importância\r\n",
    "sns.set(font_scale=1)\r\n",
    "x_values = list(range(len(importances2)))\r\n",
    "plt.figure()\r\n",
    "plt.grid(axis='y')\r\n",
    "plt.bar(x_values, importances2, orientation='vertical')\r\n",
    "plt.xticks(x_values, header_red, rotation='vertical')\r\n",
    "plt.ylabel('Importância')\r\n",
    "plt.xlabel('Variável')\r\n",
    "plt.title('Importância das Variáveis - RF Reduzido', fontsize=15)\r\n",
    "plt.tight_layout()\r\n",
    "plt.savefig('RF_importance_reduced.png')\r\n",
    "plt.show()\r\n",
    "plt.close()"
   ],
   "outputs": [
    {
     "output_type": "stream",
     "name": "stdout",
     "text": [
      "Variável: ACG1P(t-1)           Importância: 0.1298\n",
      "Variável: ACG1P(t)             Importância: 0.1282\n",
      "Variável: SW5F(t)              Importância: 0.1014\n",
      "Variável: SW5F(t-1)            Importância: 0.0926\n",
      "Variável: C2SL(t)              Importância: 0.0915\n",
      "Variável: SW8T(t)              Importância: 0.0835\n",
      "Variável: C2SL(t-1)            Importância: 0.0804\n",
      "Variável: SW1F(t-1)            Importância: 0.0792\n",
      "Variável: SW1F(t)              Importância: 0.0738\n",
      "Variável: SW8T(t-1)            Importância: 0.0727\n",
      "Variável: AMG1P(t)             Importância: 0.0341\n",
      "Variável: AMG1P(t-1)           Importância: 0.0329\n"
     ]
    },
    {
     "output_type": "display_data",
     "data": {
      "image/png": "[encoded data removed]",
      "text/plain": [
       "<Figure size 640x480 with 1 Axes>"
      ]
     },
     "metadata": {}
    }
   ],
   "metadata": {}
  },
  {
   "cell_type": "code",
   "execution_count": null,
   "source": [
    "'''# Finaliza a contagem do tempo\r\n",
    "elapsed = time.time() - t\r\n",
    "print('Computing time:', elapsed)\r\n",
    "\r\n",
    "# Fecha o arquivo\r\n",
    "f.close()'''"
   ],
   "outputs": [],
   "metadata": {}
  }
 ]
}