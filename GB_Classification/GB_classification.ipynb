{
 "cells": [
  {
   "cell_type": "code",
   "execution_count": 1,
   "metadata": {},
   "outputs": [
    {
     "data": {
      "text/plain": [
       "'\\nCódigo criado por Júlia Nogueira em 24/10/2021\\nAtualizado pela última vez em 24/10/2021\\n\\nObjetivo: Aplicação de Gradient Boosting a um problema de classificação:\\nDetecção e diagnóstico de falhas em uma unidade de águas ácidas.\\n\\nUtiliza os dados do trabalho: \\n\"FAULT DETECTION AND DIAGNOSIS OF A TWO-COLUMN SOUR WATER TREATMENT UNIT BASED ON ARTIFICIAL INTELLIGENCE\\nALGORITHMS\"\\n\\n'"
      ]
     },
     "execution_count": 1,
     "metadata": {},
     "output_type": "execute_result"
    }
   ],
   "source": [
    "'''\n",
    "Código criado por Júlia Nogueira em 24/10/2021\n",
    "Atualizado pela última vez em 24/10/2021\n",
    "\n",
    "Objetivo: Aplicação de Gradient Boosting a um problema de classificação:\n",
    "Detecção e diagnóstico de falhas em uma unidade de águas ácidas.\n",
    "\n",
    "Utiliza os dados do trabalho: \n",
    "\"FAULT DETECTION AND DIAGNOSIS OF A TWO-COLUMN SOUR WATER TREATMENT UNIT BASED ON ARTIFICIAL INTELLIGENCE\n",
    "ALGORITHMS\"\n",
    "\n",
    "'''"
   ]
  },
  {
   "cell_type": "code",
   "execution_count": 2,
   "metadata": {},
   "outputs": [],
   "source": [
    "import numpy as np\n",
    "import matplotlib.pyplot as plt\n",
    "import seaborn as sns\n",
    "import optuna\n",
    "# import joblib\n",
    "\n",
    "import sklearn.model_selection\n",
    "import sklearn.metrics\n",
    "\n",
    "from sklearn.ensemble import GradientBoostingClassifier\n",
    "from sklearn.metrics import confusion_matrix\n",
    "from sklearn.metrics import classification_report\n",
    "from mlxtend.plotting import plot_confusion_matrix\n",
    "from sklearn.metrics import accuracy_score\n",
    "\n",
    "# import sys\n",
    "# import time"
   ]
  },
  {
   "cell_type": "code",
   "execution_count": 3,
   "metadata": {},
   "outputs": [
    {
     "data": {
      "text/plain": [
       "'# Começa a contar o tempo de processamento\\nt = time.time()\\n\\n# Salva a saída do terminal em um arquivo\\nf = open(\"GB_output\", \\'w\\')\\nsys.stdout = f'"
      ]
     },
     "execution_count": 3,
     "metadata": {},
     "output_type": "execute_result"
    }
   ],
   "source": [
    "'''# Começa a contar o tempo de processamento\n",
    "t = time.time()\n",
    "\n",
    "# Salva a saída do terminal em um arquivo\n",
    "f = open(\"GB_output\", 'w')\n",
    "sys.stdout = f'''"
   ]
  },
  {
   "cell_type": "code",
   "execution_count": 4,
   "metadata": {},
   "outputs": [
    {
     "name": "stdout",
     "output_type": "stream",
     "text": [
      "Formato dos dados de treinamento: (37519, 27)\n",
      "Formato dos dados de teste: (22525, 27)\n",
      "Header: ['ACG1P(t-1)', 'AMG1P(t-1)', 'C1SL(t-1)', 'C2DL(t-1)', 'C2SL(t-1)', 'SW8T(t-1)', 'C1S2T(t-1)', 'AMG1T(t-1)', 'SW1F(t-1)', 'SW5F(t-1)', 'CW5F(t-1)', 'CW8F(t-1)', 'C2HDI(t-1)', 'ACG1P(t)', 'AMG1P(t)', 'C1SL(t)', 'C2DL(t)', 'C2SL(t)', 'SW8T(t)', 'C1S2T(t)', 'AMG1T(t)', 'SW1F(t)', 'SW5F(t)', 'CW5F(t)', 'CW8F(t)', 'C2HDI(t)', 'CLASS']\n"
     ]
    }
   ],
   "source": [
    "# Leitura e conversão dos dados em array\n",
    "dados_train = np.genfromtxt('SWTU_FDD_standardized_train_data.txt', skip_header=1)\n",
    "print(\"Formato dos dados de treinamento:\", dados_train.shape)\n",
    "\n",
    "dados_test = np.genfromtxt('SWTU_FDD_standardized_test_data.txt', skip_header=1)\n",
    "print(\"Formato dos dados de teste:\", dados_test.shape)\n",
    "\n",
    "# header\n",
    "with open('SWTU_FDD_standardized_train_data.txt', 'r') as file:\n",
    "    header = file.readline().strip() # pegando a primeira linha\n",
    "header = header.split()\n",
    "print('Header:', header)"
   ]
  },
  {
   "cell_type": "code",
   "execution_count": 5,
   "metadata": {},
   "outputs": [
    {
     "name": "stdout",
     "output_type": "stream",
     "text": [
      "Formato dos dados de entrada de treinamento: (37519, 26)\n",
      "Formato dos dados de entrada de teste: (22525, 26)\n",
      "Formato dos dados de saída de treinamento: (37519,)\n",
      "Formato dos dados de saída teste: (22525,)\n"
     ]
    }
   ],
   "source": [
    "# Separação das entradas e saídas dos modelos\n",
    "train_data, train_output = dados_train[:, :-1], dados_train[:, -1]\n",
    "test_data, test_output = dados_test[:, :-1], dados_test[:, -1]\n",
    "\n",
    "print(\"Formato dos dados de entrada de treinamento:\", train_data.shape)\n",
    "print(\"Formato dos dados de entrada de teste:\", test_data.shape)\n",
    "print(\"Formato dos dados de saída de treinamento:\", train_output.shape)\n",
    "print(\"Formato dos dados de saída teste:\", test_output.shape)"
   ]
  },
  {
   "cell_type": "code",
   "execution_count": 6,
   "metadata": {},
   "outputs": [
    {
     "name": "stderr",
     "output_type": "stream",
     "text": [
      "\u001b[32m[I 2021-10-24 11:58:39,824]\u001b[0m A new study created in memory with name: no-name-3d4bc072-309a-4628-838a-bc7c6d7dc444\u001b[0m\n"
     ]
    },
    {
     "name": "stdout",
     "output_type": "stream",
     "text": [
      "Nº Iterações Otimização: 10\n"
     ]
    },
    {
     "name": "stderr",
     "output_type": "stream",
     "text": [
      "\u001b[32m[I 2021-10-24 12:04:33,783]\u001b[0m Trial 0 finished with value: 0.9526373920936246 and parameters: {'gb_min_samples_leaf': 10, 'gb_max_depth': 5, 'gb_n_estimators': 17}. Best is trial 0 with value: 0.9526373920936246.\u001b[0m\n",
      "\u001b[32m[I 2021-10-24 12:22:52,499]\u001b[0m Trial 1 finished with value: 0.9592473564945024 and parameters: {'gb_min_samples_leaf': 5, 'gb_max_depth': 8, 'gb_n_estimators': 31}. Best is trial 1 with value: 0.9592473564945024.\u001b[0m\n",
      "\u001b[32m[I 2021-10-24 13:02:10,628]\u001b[0m Trial 2 finished with value: 0.9614329037397124 and parameters: {'gb_min_samples_leaf': 10, 'gb_max_depth': 6, 'gb_n_estimators': 89}. Best is trial 2 with value: 0.9614329037397124.\u001b[0m\n",
      "\u001b[32m[I 2021-10-24 13:19:46,907]\u001b[0m Trial 3 finished with value: 0.9589542150446146 and parameters: {'gb_min_samples_leaf': 4, 'gb_max_depth': 5, 'gb_n_estimators': 48}. Best is trial 2 with value: 0.9614329037397124.\u001b[0m\n",
      "\u001b[32m[I 2021-10-24 13:24:11,152]\u001b[0m Trial 4 finished with value: 0.9497055548782619 and parameters: {'gb_min_samples_leaf': 5, 'gb_max_depth': 5, 'gb_n_estimators': 12}. Best is trial 2 with value: 0.9614329037397124.\u001b[0m\n",
      "\u001b[32m[I 2021-10-24 13:47:59,275]\u001b[0m Trial 5 finished with value: 0.9602335647119972 and parameters: {'gb_min_samples_leaf': 6, 'gb_max_depth': 7, 'gb_n_estimators': 48}. Best is trial 2 with value: 0.9614329037397124.\u001b[0m\n",
      "\u001b[32m[I 2021-10-24 13:53:31,078]\u001b[0m Trial 6 finished with value: 0.9515179713473529 and parameters: {'gb_min_samples_leaf': 5, 'gb_max_depth': 5, 'gb_n_estimators': 15}. Best is trial 2 with value: 0.9614329037397124.\u001b[0m\n",
      "\u001b[32m[I 2021-10-24 14:28:00,878]\u001b[0m Trial 7 finished with value: 0.9602868731682876 and parameters: {'gb_min_samples_leaf': 2, 'gb_max_depth': 5, 'gb_n_estimators': 94}. Best is trial 2 with value: 0.9614329037397124.\u001b[0m\n",
      "\u001b[32m[I 2021-10-24 14:32:04,690]\u001b[0m Trial 8 finished with value: 0.9489326089038442 and parameters: {'gb_min_samples_leaf': 1, 'gb_max_depth': 5, 'gb_n_estimators': 11}. Best is trial 2 with value: 0.9614329037397124.\u001b[0m\n",
      "\u001b[32m[I 2021-10-24 14:33:53,681]\u001b[0m Trial 9 finished with value: 0.9350462196073952 and parameters: {'gb_min_samples_leaf': 3, 'gb_max_depth': 5, 'gb_n_estimators': 5}. Best is trial 2 with value: 0.9614329037397124.\u001b[0m\n"
     ]
    },
    {
     "name": "stdout",
     "output_type": "stream",
     "text": [
      "Hiperparâmetros Otimizados: {'gb_min_samples_leaf': 10, 'gb_max_depth': 6, 'gb_n_estimators': 89}\n"
     ]
    }
   ],
   "source": [
    "# Otimização de Hiperparâmetros\n",
    "def objetivo_rc(trial):\n",
    "    # Hiperparâmetros de busca para GB\n",
    "    gb_min_samples_leaf = trial.suggest_int(\"gb_min_samples_leaf\", 1, 10)\n",
    "    gb_max_depth = trial.suggest_int(\"gb_max_depth\", 5, 10, log = True)\n",
    "    gb_n_estimators = trial.suggest_int(\"gb_n_estimators\", 1, 100)\n",
    "\n",
    "    # Criação do modelo GB\n",
    "    m = sklearn.ensemble.GradientBoostingClassifier(max_depth = gb_max_depth, \n",
    "    min_samples_leaf = gb_min_samples_leaf, n_estimators = gb_n_estimators)\n",
    "\n",
    "    # Retornando acurácia\n",
    "    acuracias = sklearn.model_selection.cross_val_score(m, train_data, train_output)\n",
    "    acuracia = acuracias.mean()\n",
    "\n",
    "    return acuracia\n",
    "\n",
    "# Resultados função objetivo\n",
    "study_rc = optuna.create_study(direction=\"maximize\")\n",
    "n_trials = 10\n",
    "print(\"Nº Iterações Otimização:\", n_trials)\n",
    "study_rc.optimize(objetivo_rc, n_trials=n_trials)\n",
    "print(\"Hiperparâmetros Otimizados:\", study_rc.best_params)"
   ]
  },
  {
   "cell_type": "code",
   "execution_count": 7,
   "metadata": {},
   "outputs": [
    {
     "data": {
      "application/vnd.plotly.v1+json": {
       "config": {
        "plotlyServerURL": "https://plot.ly"
       },
       "data": [
        {
         "mode": "markers",
         "name": "Objective Value",
         "type": "scatter",
         "x": [
          0,
          1,
          2,
          3,
          4,
          5,
          6,
          7,
          8,
          9
         ],
         "y": [
          0.9526373920936246,
          0.9592473564945024,
          0.9614329037397124,
          0.9589542150446146,
          0.9497055548782619,
          0.9602335647119972,
          0.9515179713473529,
          0.9602868731682876,
          0.9489326089038442,
          0.9350462196073952
         ]
        },
        {
         "name": "Best Value",
         "type": "scatter",
         "x": [
          0,
          1,
          2,
          3,
          4,
          5,
          6,
          7,
          8,
          9
         ],
         "y": [
          0.9526373920936246,
          0.9592473564945024,
          0.9614329037397124,
          0.9614329037397124,
          0.9614329037397124,
          0.9614329037397124,
          0.9614329037397124,
          0.9614329037397124,
          0.9614329037397124,
          0.9614329037397124
         ]
        }
       ],
       "layout": {
        "template": {
         "data": {
          "bar": [
           {
            "error_x": {
             "color": "#2a3f5f"
            },
            "error_y": {
             "color": "#2a3f5f"
            },
            "marker": {
             "line": {
              "color": "#E5ECF6",
              "width": 0.5
             }
            },
            "type": "bar"
           }
          ],
          "barpolar": [
           {
            "marker": {
             "line": {
              "color": "#E5ECF6",
              "width": 0.5
             }
            },
            "type": "barpolar"
           }
          ],
          "carpet": [
           {
            "aaxis": {
             "endlinecolor": "#2a3f5f",
             "gridcolor": "white",
             "linecolor": "white",
             "minorgridcolor": "white",
             "startlinecolor": "#2a3f5f"
            },
            "baxis": {
             "endlinecolor": "#2a3f5f",
             "gridcolor": "white",
             "linecolor": "white",
             "minorgridcolor": "white",
             "startlinecolor": "#2a3f5f"
            },
            "type": "carpet"
           }
          ],
          "choropleth": [
           {
            "colorbar": {
             "outlinewidth": 0,
             "ticks": ""
            },
            "type": "choropleth"
           }
          ],
          "contour": [
           {
            "colorbar": {
             "outlinewidth": 0,
             "ticks": ""
            },
            "colorscale": [
             [
              0,
              "#0d0887"
             ],
             [
              0.1111111111111111,
              "#46039f"
             ],
             [
              0.2222222222222222,
              "#7201a8"
             ],
             [
              0.3333333333333333,
              "#9c179e"
             ],
             [
              0.4444444444444444,
              "#bd3786"
             ],
             [
              0.5555555555555556,
              "#d8576b"
             ],
             [
              0.6666666666666666,
              "#ed7953"
             ],
             [
              0.7777777777777778,
              "#fb9f3a"
             ],
             [
              0.8888888888888888,
              "#fdca26"
             ],
             [
              1,
              "#f0f921"
             ]
            ],
            "type": "contour"
           }
          ],
          "contourcarpet": [
           {
            "colorbar": {
             "outlinewidth": 0,
             "ticks": ""
            },
            "type": "contourcarpet"
           }
          ],
          "heatmap": [
           {
            "colorbar": {
             "outlinewidth": 0,
             "ticks": ""
            },
            "colorscale": [
             [
              0,
              "#0d0887"
             ],
             [
              0.1111111111111111,
              "#46039f"
             ],
             [
              0.2222222222222222,
              "#7201a8"
             ],
             [
              0.3333333333333333,
              "#9c179e"
             ],
             [
              0.4444444444444444,
              "#bd3786"
             ],
             [
              0.5555555555555556,
              "#d8576b"
             ],
             [
              0.6666666666666666,
              "#ed7953"
             ],
             [
              0.7777777777777778,
              "#fb9f3a"
             ],
             [
              0.8888888888888888,
              "#fdca26"
             ],
             [
              1,
              "#f0f921"
             ]
            ],
            "type": "heatmap"
           }
          ],
          "heatmapgl": [
           {
            "colorbar": {
             "outlinewidth": 0,
             "ticks": ""
            },
            "colorscale": [
             [
              0,
              "#0d0887"
             ],
             [
              0.1111111111111111,
              "#46039f"
             ],
             [
              0.2222222222222222,
              "#7201a8"
             ],
             [
              0.3333333333333333,
              "#9c179e"
             ],
             [
              0.4444444444444444,
              "#bd3786"
             ],
             [
              0.5555555555555556,
              "#d8576b"
             ],
             [
              0.6666666666666666,
              "#ed7953"
             ],
             [
              0.7777777777777778,
              "#fb9f3a"
             ],
             [
              0.8888888888888888,
              "#fdca26"
             ],
             [
              1,
              "#f0f921"
             ]
            ],
            "type": "heatmapgl"
           }
          ],
          "histogram": [
           {
            "marker": {
             "colorbar": {
              "outlinewidth": 0,
              "ticks": ""
             }
            },
            "type": "histogram"
           }
          ],
          "histogram2d": [
           {
            "colorbar": {
             "outlinewidth": 0,
             "ticks": ""
            },
            "colorscale": [
             [
              0,
              "#0d0887"
             ],
             [
              0.1111111111111111,
              "#46039f"
             ],
             [
              0.2222222222222222,
              "#7201a8"
             ],
             [
              0.3333333333333333,
              "#9c179e"
             ],
             [
              0.4444444444444444,
              "#bd3786"
             ],
             [
              0.5555555555555556,
              "#d8576b"
             ],
             [
              0.6666666666666666,
              "#ed7953"
             ],
             [
              0.7777777777777778,
              "#fb9f3a"
             ],
             [
              0.8888888888888888,
              "#fdca26"
             ],
             [
              1,
              "#f0f921"
             ]
            ],
            "type": "histogram2d"
           }
          ],
          "histogram2dcontour": [
           {
            "colorbar": {
             "outlinewidth": 0,
             "ticks": ""
            },
            "colorscale": [
             [
              0,
              "#0d0887"
             ],
             [
              0.1111111111111111,
              "#46039f"
             ],
             [
              0.2222222222222222,
              "#7201a8"
             ],
             [
              0.3333333333333333,
              "#9c179e"
             ],
             [
              0.4444444444444444,
              "#bd3786"
             ],
             [
              0.5555555555555556,
              "#d8576b"
             ],
             [
              0.6666666666666666,
              "#ed7953"
             ],
             [
              0.7777777777777778,
              "#fb9f3a"
             ],
             [
              0.8888888888888888,
              "#fdca26"
             ],
             [
              1,
              "#f0f921"
             ]
            ],
            "type": "histogram2dcontour"
           }
          ],
          "mesh3d": [
           {
            "colorbar": {
             "outlinewidth": 0,
             "ticks": ""
            },
            "type": "mesh3d"
           }
          ],
          "parcoords": [
           {
            "line": {
             "colorbar": {
              "outlinewidth": 0,
              "ticks": ""
             }
            },
            "type": "parcoords"
           }
          ],
          "pie": [
           {
            "automargin": true,
            "type": "pie"
           }
          ],
          "scatter": [
           {
            "marker": {
             "colorbar": {
              "outlinewidth": 0,
              "ticks": ""
             }
            },
            "type": "scatter"
           }
          ],
          "scatter3d": [
           {
            "line": {
             "colorbar": {
              "outlinewidth": 0,
              "ticks": ""
             }
            },
            "marker": {
             "colorbar": {
              "outlinewidth": 0,
              "ticks": ""
             }
            },
            "type": "scatter3d"
           }
          ],
          "scattercarpet": [
           {
            "marker": {
             "colorbar": {
              "outlinewidth": 0,
              "ticks": ""
             }
            },
            "type": "scattercarpet"
           }
          ],
          "scattergeo": [
           {
            "marker": {
             "colorbar": {
              "outlinewidth": 0,
              "ticks": ""
             }
            },
            "type": "scattergeo"
           }
          ],
          "scattergl": [
           {
            "marker": {
             "colorbar": {
              "outlinewidth": 0,
              "ticks": ""
             }
            },
            "type": "scattergl"
           }
          ],
          "scattermapbox": [
           {
            "marker": {
             "colorbar": {
              "outlinewidth": 0,
              "ticks": ""
             }
            },
            "type": "scattermapbox"
           }
          ],
          "scatterpolar": [
           {
            "marker": {
             "colorbar": {
              "outlinewidth": 0,
              "ticks": ""
             }
            },
            "type": "scatterpolar"
           }
          ],
          "scatterpolargl": [
           {
            "marker": {
             "colorbar": {
              "outlinewidth": 0,
              "ticks": ""
             }
            },
            "type": "scatterpolargl"
           }
          ],
          "scatterternary": [
           {
            "marker": {
             "colorbar": {
              "outlinewidth": 0,
              "ticks": ""
             }
            },
            "type": "scatterternary"
           }
          ],
          "surface": [
           {
            "colorbar": {
             "outlinewidth": 0,
             "ticks": ""
            },
            "colorscale": [
             [
              0,
              "#0d0887"
             ],
             [
              0.1111111111111111,
              "#46039f"
             ],
             [
              0.2222222222222222,
              "#7201a8"
             ],
             [
              0.3333333333333333,
              "#9c179e"
             ],
             [
              0.4444444444444444,
              "#bd3786"
             ],
             [
              0.5555555555555556,
              "#d8576b"
             ],
             [
              0.6666666666666666,
              "#ed7953"
             ],
             [
              0.7777777777777778,
              "#fb9f3a"
             ],
             [
              0.8888888888888888,
              "#fdca26"
             ],
             [
              1,
              "#f0f921"
             ]
            ],
            "type": "surface"
           }
          ],
          "table": [
           {
            "cells": {
             "fill": {
              "color": "#EBF0F8"
             },
             "line": {
              "color": "white"
             }
            },
            "header": {
             "fill": {
              "color": "#C8D4E3"
             },
             "line": {
              "color": "white"
             }
            },
            "type": "table"
           }
          ]
         },
         "layout": {
          "annotationdefaults": {
           "arrowcolor": "#2a3f5f",
           "arrowhead": 0,
           "arrowwidth": 1
          },
          "autotypenumbers": "strict",
          "coloraxis": {
           "colorbar": {
            "outlinewidth": 0,
            "ticks": ""
           }
          },
          "colorscale": {
           "diverging": [
            [
             0,
             "#8e0152"
            ],
            [
             0.1,
             "#c51b7d"
            ],
            [
             0.2,
             "#de77ae"
            ],
            [
             0.3,
             "#f1b6da"
            ],
            [
             0.4,
             "#fde0ef"
            ],
            [
             0.5,
             "#f7f7f7"
            ],
            [
             0.6,
             "#e6f5d0"
            ],
            [
             0.7,
             "#b8e186"
            ],
            [
             0.8,
             "#7fbc41"
            ],
            [
             0.9,
             "#4d9221"
            ],
            [
             1,
             "#276419"
            ]
           ],
           "sequential": [
            [
             0,
             "#0d0887"
            ],
            [
             0.1111111111111111,
             "#46039f"
            ],
            [
             0.2222222222222222,
             "#7201a8"
            ],
            [
             0.3333333333333333,
             "#9c179e"
            ],
            [
             0.4444444444444444,
             "#bd3786"
            ],
            [
             0.5555555555555556,
             "#d8576b"
            ],
            [
             0.6666666666666666,
             "#ed7953"
            ],
            [
             0.7777777777777778,
             "#fb9f3a"
            ],
            [
             0.8888888888888888,
             "#fdca26"
            ],
            [
             1,
             "#f0f921"
            ]
           ],
           "sequentialminus": [
            [
             0,
             "#0d0887"
            ],
            [
             0.1111111111111111,
             "#46039f"
            ],
            [
             0.2222222222222222,
             "#7201a8"
            ],
            [
             0.3333333333333333,
             "#9c179e"
            ],
            [
             0.4444444444444444,
             "#bd3786"
            ],
            [
             0.5555555555555556,
             "#d8576b"
            ],
            [
             0.6666666666666666,
             "#ed7953"
            ],
            [
             0.7777777777777778,
             "#fb9f3a"
            ],
            [
             0.8888888888888888,
             "#fdca26"
            ],
            [
             1,
             "#f0f921"
            ]
           ]
          },
          "colorway": [
           "#636efa",
           "#EF553B",
           "#00cc96",
           "#ab63fa",
           "#FFA15A",
           "#19d3f3",
           "#FF6692",
           "#B6E880",
           "#FF97FF",
           "#FECB52"
          ],
          "font": {
           "color": "#2a3f5f"
          },
          "geo": {
           "bgcolor": "white",
           "lakecolor": "white",
           "landcolor": "#E5ECF6",
           "showlakes": true,
           "showland": true,
           "subunitcolor": "white"
          },
          "hoverlabel": {
           "align": "left"
          },
          "hovermode": "closest",
          "mapbox": {
           "style": "light"
          },
          "paper_bgcolor": "white",
          "plot_bgcolor": "#E5ECF6",
          "polar": {
           "angularaxis": {
            "gridcolor": "white",
            "linecolor": "white",
            "ticks": ""
           },
           "bgcolor": "#E5ECF6",
           "radialaxis": {
            "gridcolor": "white",
            "linecolor": "white",
            "ticks": ""
           }
          },
          "scene": {
           "xaxis": {
            "backgroundcolor": "#E5ECF6",
            "gridcolor": "white",
            "gridwidth": 2,
            "linecolor": "white",
            "showbackground": true,
            "ticks": "",
            "zerolinecolor": "white"
           },
           "yaxis": {
            "backgroundcolor": "#E5ECF6",
            "gridcolor": "white",
            "gridwidth": 2,
            "linecolor": "white",
            "showbackground": true,
            "ticks": "",
            "zerolinecolor": "white"
           },
           "zaxis": {
            "backgroundcolor": "#E5ECF6",
            "gridcolor": "white",
            "gridwidth": 2,
            "linecolor": "white",
            "showbackground": true,
            "ticks": "",
            "zerolinecolor": "white"
           }
          },
          "shapedefaults": {
           "line": {
            "color": "#2a3f5f"
           }
          },
          "ternary": {
           "aaxis": {
            "gridcolor": "white",
            "linecolor": "white",
            "ticks": ""
           },
           "baxis": {
            "gridcolor": "white",
            "linecolor": "white",
            "ticks": ""
           },
           "bgcolor": "#E5ECF6",
           "caxis": {
            "gridcolor": "white",
            "linecolor": "white",
            "ticks": ""
           }
          },
          "title": {
           "x": 0.05
          },
          "xaxis": {
           "automargin": true,
           "gridcolor": "white",
           "linecolor": "white",
           "ticks": "",
           "title": {
            "standoff": 15
           },
           "zerolinecolor": "white",
           "zerolinewidth": 2
          },
          "yaxis": {
           "automargin": true,
           "gridcolor": "white",
           "linecolor": "white",
           "ticks": "",
           "title": {
            "standoff": 15
           },
           "zerolinecolor": "white",
           "zerolinewidth": 2
          }
         }
        },
        "title": {
         "text": "Optimization History Plot"
        },
        "xaxis": {
         "title": {
          "text": "#Trials"
         }
        },
        "yaxis": {
         "title": {
          "text": "Objective Value"
         }
        }
       }
      }
     },
     "metadata": {},
     "output_type": "display_data"
    },
    {
     "data": {
      "application/vnd.plotly.v1+json": {
       "config": {
        "plotlyServerURL": "https://plot.ly"
       },
       "data": [
        {
         "marker": {
          "color": [
           0,
           1,
           2,
           3,
           4,
           5,
           6,
           7,
           8,
           9
          ],
          "colorbar": {
           "title": {
            "text": "#Trials"
           },
           "x": 1,
           "xpad": 40
          },
          "colorscale": [
           [
            0,
            "rgb(247,251,255)"
           ],
           [
            0.125,
            "rgb(222,235,247)"
           ],
           [
            0.25,
            "rgb(198,219,239)"
           ],
           [
            0.375,
            "rgb(158,202,225)"
           ],
           [
            0.5,
            "rgb(107,174,214)"
           ],
           [
            0.625,
            "rgb(66,146,198)"
           ],
           [
            0.75,
            "rgb(33,113,181)"
           ],
           [
            0.875,
            "rgb(8,81,156)"
           ],
           [
            1,
            "rgb(8,48,107)"
           ]
          ],
          "line": {
           "color": "Grey",
           "width": 0.5
          },
          "showscale": true
         },
         "mode": "markers",
         "showlegend": false,
         "type": "scatter",
         "x": [
          5,
          8,
          6,
          5,
          5,
          7,
          5,
          5,
          5,
          5
         ],
         "xaxis": "x",
         "y": [
          0.9526373920936246,
          0.9592473564945024,
          0.9614329037397124,
          0.9589542150446146,
          0.9497055548782619,
          0.9602335647119972,
          0.9515179713473529,
          0.9602868731682876,
          0.9489326089038442,
          0.9350462196073952
         ],
         "yaxis": "y"
        },
        {
         "marker": {
          "color": [
           0,
           1,
           2,
           3,
           4,
           5,
           6,
           7,
           8,
           9
          ],
          "colorbar": {
           "title": {
            "text": "#Trials"
           },
           "x": 1,
           "xpad": 40
          },
          "colorscale": [
           [
            0,
            "rgb(247,251,255)"
           ],
           [
            0.125,
            "rgb(222,235,247)"
           ],
           [
            0.25,
            "rgb(198,219,239)"
           ],
           [
            0.375,
            "rgb(158,202,225)"
           ],
           [
            0.5,
            "rgb(107,174,214)"
           ],
           [
            0.625,
            "rgb(66,146,198)"
           ],
           [
            0.75,
            "rgb(33,113,181)"
           ],
           [
            0.875,
            "rgb(8,81,156)"
           ],
           [
            1,
            "rgb(8,48,107)"
           ]
          ],
          "line": {
           "color": "Grey",
           "width": 0.5
          },
          "showscale": false
         },
         "mode": "markers",
         "showlegend": false,
         "type": "scatter",
         "x": [
          10,
          5,
          10,
          4,
          5,
          6,
          5,
          2,
          1,
          3
         ],
         "xaxis": "x2",
         "y": [
          0.9526373920936246,
          0.9592473564945024,
          0.9614329037397124,
          0.9589542150446146,
          0.9497055548782619,
          0.9602335647119972,
          0.9515179713473529,
          0.9602868731682876,
          0.9489326089038442,
          0.9350462196073952
         ],
         "yaxis": "y2"
        },
        {
         "marker": {
          "color": [
           0,
           1,
           2,
           3,
           4,
           5,
           6,
           7,
           8,
           9
          ],
          "colorbar": {
           "title": {
            "text": "#Trials"
           },
           "x": 1,
           "xpad": 40
          },
          "colorscale": [
           [
            0,
            "rgb(247,251,255)"
           ],
           [
            0.125,
            "rgb(222,235,247)"
           ],
           [
            0.25,
            "rgb(198,219,239)"
           ],
           [
            0.375,
            "rgb(158,202,225)"
           ],
           [
            0.5,
            "rgb(107,174,214)"
           ],
           [
            0.625,
            "rgb(66,146,198)"
           ],
           [
            0.75,
            "rgb(33,113,181)"
           ],
           [
            0.875,
            "rgb(8,81,156)"
           ],
           [
            1,
            "rgb(8,48,107)"
           ]
          ],
          "line": {
           "color": "Grey",
           "width": 0.5
          },
          "showscale": false
         },
         "mode": "markers",
         "showlegend": false,
         "type": "scatter",
         "x": [
          17,
          31,
          89,
          48,
          12,
          48,
          15,
          94,
          11,
          5
         ],
         "xaxis": "x3",
         "y": [
          0.9526373920936246,
          0.9592473564945024,
          0.9614329037397124,
          0.9589542150446146,
          0.9497055548782619,
          0.9602335647119972,
          0.9515179713473529,
          0.9602868731682876,
          0.9489326089038442,
          0.9350462196073952
         ],
         "yaxis": "y3"
        }
       ],
       "layout": {
        "template": {
         "data": {
          "bar": [
           {
            "error_x": {
             "color": "#2a3f5f"
            },
            "error_y": {
             "color": "#2a3f5f"
            },
            "marker": {
             "line": {
              "color": "#E5ECF6",
              "width": 0.5
             }
            },
            "type": "bar"
           }
          ],
          "barpolar": [
           {
            "marker": {
             "line": {
              "color": "#E5ECF6",
              "width": 0.5
             }
            },
            "type": "barpolar"
           }
          ],
          "carpet": [
           {
            "aaxis": {
             "endlinecolor": "#2a3f5f",
             "gridcolor": "white",
             "linecolor": "white",
             "minorgridcolor": "white",
             "startlinecolor": "#2a3f5f"
            },
            "baxis": {
             "endlinecolor": "#2a3f5f",
             "gridcolor": "white",
             "linecolor": "white",
             "minorgridcolor": "white",
             "startlinecolor": "#2a3f5f"
            },
            "type": "carpet"
           }
          ],
          "choropleth": [
           {
            "colorbar": {
             "outlinewidth": 0,
             "ticks": ""
            },
            "type": "choropleth"
           }
          ],
          "contour": [
           {
            "colorbar": {
             "outlinewidth": 0,
             "ticks": ""
            },
            "colorscale": [
             [
              0,
              "#0d0887"
             ],
             [
              0.1111111111111111,
              "#46039f"
             ],
             [
              0.2222222222222222,
              "#7201a8"
             ],
             [
              0.3333333333333333,
              "#9c179e"
             ],
             [
              0.4444444444444444,
              "#bd3786"
             ],
             [
              0.5555555555555556,
              "#d8576b"
             ],
             [
              0.6666666666666666,
              "#ed7953"
             ],
             [
              0.7777777777777778,
              "#fb9f3a"
             ],
             [
              0.8888888888888888,
              "#fdca26"
             ],
             [
              1,
              "#f0f921"
             ]
            ],
            "type": "contour"
           }
          ],
          "contourcarpet": [
           {
            "colorbar": {
             "outlinewidth": 0,
             "ticks": ""
            },
            "type": "contourcarpet"
           }
          ],
          "heatmap": [
           {
            "colorbar": {
             "outlinewidth": 0,
             "ticks": ""
            },
            "colorscale": [
             [
              0,
              "#0d0887"
             ],
             [
              0.1111111111111111,
              "#46039f"
             ],
             [
              0.2222222222222222,
              "#7201a8"
             ],
             [
              0.3333333333333333,
              "#9c179e"
             ],
             [
              0.4444444444444444,
              "#bd3786"
             ],
             [
              0.5555555555555556,
              "#d8576b"
             ],
             [
              0.6666666666666666,
              "#ed7953"
             ],
             [
              0.7777777777777778,
              "#fb9f3a"
             ],
             [
              0.8888888888888888,
              "#fdca26"
             ],
             [
              1,
              "#f0f921"
             ]
            ],
            "type": "heatmap"
           }
          ],
          "heatmapgl": [
           {
            "colorbar": {
             "outlinewidth": 0,
             "ticks": ""
            },
            "colorscale": [
             [
              0,
              "#0d0887"
             ],
             [
              0.1111111111111111,
              "#46039f"
             ],
             [
              0.2222222222222222,
              "#7201a8"
             ],
             [
              0.3333333333333333,
              "#9c179e"
             ],
             [
              0.4444444444444444,
              "#bd3786"
             ],
             [
              0.5555555555555556,
              "#d8576b"
             ],
             [
              0.6666666666666666,
              "#ed7953"
             ],
             [
              0.7777777777777778,
              "#fb9f3a"
             ],
             [
              0.8888888888888888,
              "#fdca26"
             ],
             [
              1,
              "#f0f921"
             ]
            ],
            "type": "heatmapgl"
           }
          ],
          "histogram": [
           {
            "marker": {
             "colorbar": {
              "outlinewidth": 0,
              "ticks": ""
             }
            },
            "type": "histogram"
           }
          ],
          "histogram2d": [
           {
            "colorbar": {
             "outlinewidth": 0,
             "ticks": ""
            },
            "colorscale": [
             [
              0,
              "#0d0887"
             ],
             [
              0.1111111111111111,
              "#46039f"
             ],
             [
              0.2222222222222222,
              "#7201a8"
             ],
             [
              0.3333333333333333,
              "#9c179e"
             ],
             [
              0.4444444444444444,
              "#bd3786"
             ],
             [
              0.5555555555555556,
              "#d8576b"
             ],
             [
              0.6666666666666666,
              "#ed7953"
             ],
             [
              0.7777777777777778,
              "#fb9f3a"
             ],
             [
              0.8888888888888888,
              "#fdca26"
             ],
             [
              1,
              "#f0f921"
             ]
            ],
            "type": "histogram2d"
           }
          ],
          "histogram2dcontour": [
           {
            "colorbar": {
             "outlinewidth": 0,
             "ticks": ""
            },
            "colorscale": [
             [
              0,
              "#0d0887"
             ],
             [
              0.1111111111111111,
              "#46039f"
             ],
             [
              0.2222222222222222,
              "#7201a8"
             ],
             [
              0.3333333333333333,
              "#9c179e"
             ],
             [
              0.4444444444444444,
              "#bd3786"
             ],
             [
              0.5555555555555556,
              "#d8576b"
             ],
             [
              0.6666666666666666,
              "#ed7953"
             ],
             [
              0.7777777777777778,
              "#fb9f3a"
             ],
             [
              0.8888888888888888,
              "#fdca26"
             ],
             [
              1,
              "#f0f921"
             ]
            ],
            "type": "histogram2dcontour"
           }
          ],
          "mesh3d": [
           {
            "colorbar": {
             "outlinewidth": 0,
             "ticks": ""
            },
            "type": "mesh3d"
           }
          ],
          "parcoords": [
           {
            "line": {
             "colorbar": {
              "outlinewidth": 0,
              "ticks": ""
             }
            },
            "type": "parcoords"
           }
          ],
          "pie": [
           {
            "automargin": true,
            "type": "pie"
           }
          ],
          "scatter": [
           {
            "marker": {
             "colorbar": {
              "outlinewidth": 0,
              "ticks": ""
             }
            },
            "type": "scatter"
           }
          ],
          "scatter3d": [
           {
            "line": {
             "colorbar": {
              "outlinewidth": 0,
              "ticks": ""
             }
            },
            "marker": {
             "colorbar": {
              "outlinewidth": 0,
              "ticks": ""
             }
            },
            "type": "scatter3d"
           }
          ],
          "scattercarpet": [
           {
            "marker": {
             "colorbar": {
              "outlinewidth": 0,
              "ticks": ""
             }
            },
            "type": "scattercarpet"
           }
          ],
          "scattergeo": [
           {
            "marker": {
             "colorbar": {
              "outlinewidth": 0,
              "ticks": ""
             }
            },
            "type": "scattergeo"
           }
          ],
          "scattergl": [
           {
            "marker": {
             "colorbar": {
              "outlinewidth": 0,
              "ticks": ""
             }
            },
            "type": "scattergl"
           }
          ],
          "scattermapbox": [
           {
            "marker": {
             "colorbar": {
              "outlinewidth": 0,
              "ticks": ""
             }
            },
            "type": "scattermapbox"
           }
          ],
          "scatterpolar": [
           {
            "marker": {
             "colorbar": {
              "outlinewidth": 0,
              "ticks": ""
             }
            },
            "type": "scatterpolar"
           }
          ],
          "scatterpolargl": [
           {
            "marker": {
             "colorbar": {
              "outlinewidth": 0,
              "ticks": ""
             }
            },
            "type": "scatterpolargl"
           }
          ],
          "scatterternary": [
           {
            "marker": {
             "colorbar": {
              "outlinewidth": 0,
              "ticks": ""
             }
            },
            "type": "scatterternary"
           }
          ],
          "surface": [
           {
            "colorbar": {
             "outlinewidth": 0,
             "ticks": ""
            },
            "colorscale": [
             [
              0,
              "#0d0887"
             ],
             [
              0.1111111111111111,
              "#46039f"
             ],
             [
              0.2222222222222222,
              "#7201a8"
             ],
             [
              0.3333333333333333,
              "#9c179e"
             ],
             [
              0.4444444444444444,
              "#bd3786"
             ],
             [
              0.5555555555555556,
              "#d8576b"
             ],
             [
              0.6666666666666666,
              "#ed7953"
             ],
             [
              0.7777777777777778,
              "#fb9f3a"
             ],
             [
              0.8888888888888888,
              "#fdca26"
             ],
             [
              1,
              "#f0f921"
             ]
            ],
            "type": "surface"
           }
          ],
          "table": [
           {
            "cells": {
             "fill": {
              "color": "#EBF0F8"
             },
             "line": {
              "color": "white"
             }
            },
            "header": {
             "fill": {
              "color": "#C8D4E3"
             },
             "line": {
              "color": "white"
             }
            },
            "type": "table"
           }
          ]
         },
         "layout": {
          "annotationdefaults": {
           "arrowcolor": "#2a3f5f",
           "arrowhead": 0,
           "arrowwidth": 1
          },
          "autotypenumbers": "strict",
          "coloraxis": {
           "colorbar": {
            "outlinewidth": 0,
            "ticks": ""
           }
          },
          "colorscale": {
           "diverging": [
            [
             0,
             "#8e0152"
            ],
            [
             0.1,
             "#c51b7d"
            ],
            [
             0.2,
             "#de77ae"
            ],
            [
             0.3,
             "#f1b6da"
            ],
            [
             0.4,
             "#fde0ef"
            ],
            [
             0.5,
             "#f7f7f7"
            ],
            [
             0.6,
             "#e6f5d0"
            ],
            [
             0.7,
             "#b8e186"
            ],
            [
             0.8,
             "#7fbc41"
            ],
            [
             0.9,
             "#4d9221"
            ],
            [
             1,
             "#276419"
            ]
           ],
           "sequential": [
            [
             0,
             "#0d0887"
            ],
            [
             0.1111111111111111,
             "#46039f"
            ],
            [
             0.2222222222222222,
             "#7201a8"
            ],
            [
             0.3333333333333333,
             "#9c179e"
            ],
            [
             0.4444444444444444,
             "#bd3786"
            ],
            [
             0.5555555555555556,
             "#d8576b"
            ],
            [
             0.6666666666666666,
             "#ed7953"
            ],
            [
             0.7777777777777778,
             "#fb9f3a"
            ],
            [
             0.8888888888888888,
             "#fdca26"
            ],
            [
             1,
             "#f0f921"
            ]
           ],
           "sequentialminus": [
            [
             0,
             "#0d0887"
            ],
            [
             0.1111111111111111,
             "#46039f"
            ],
            [
             0.2222222222222222,
             "#7201a8"
            ],
            [
             0.3333333333333333,
             "#9c179e"
            ],
            [
             0.4444444444444444,
             "#bd3786"
            ],
            [
             0.5555555555555556,
             "#d8576b"
            ],
            [
             0.6666666666666666,
             "#ed7953"
            ],
            [
             0.7777777777777778,
             "#fb9f3a"
            ],
            [
             0.8888888888888888,
             "#fdca26"
            ],
            [
             1,
             "#f0f921"
            ]
           ]
          },
          "colorway": [
           "#636efa",
           "#EF553B",
           "#00cc96",
           "#ab63fa",
           "#FFA15A",
           "#19d3f3",
           "#FF6692",
           "#B6E880",
           "#FF97FF",
           "#FECB52"
          ],
          "font": {
           "color": "#2a3f5f"
          },
          "geo": {
           "bgcolor": "white",
           "lakecolor": "white",
           "landcolor": "#E5ECF6",
           "showlakes": true,
           "showland": true,
           "subunitcolor": "white"
          },
          "hoverlabel": {
           "align": "left"
          },
          "hovermode": "closest",
          "mapbox": {
           "style": "light"
          },
          "paper_bgcolor": "white",
          "plot_bgcolor": "#E5ECF6",
          "polar": {
           "angularaxis": {
            "gridcolor": "white",
            "linecolor": "white",
            "ticks": ""
           },
           "bgcolor": "#E5ECF6",
           "radialaxis": {
            "gridcolor": "white",
            "linecolor": "white",
            "ticks": ""
           }
          },
          "scene": {
           "xaxis": {
            "backgroundcolor": "#E5ECF6",
            "gridcolor": "white",
            "gridwidth": 2,
            "linecolor": "white",
            "showbackground": true,
            "ticks": "",
            "zerolinecolor": "white"
           },
           "yaxis": {
            "backgroundcolor": "#E5ECF6",
            "gridcolor": "white",
            "gridwidth": 2,
            "linecolor": "white",
            "showbackground": true,
            "ticks": "",
            "zerolinecolor": "white"
           },
           "zaxis": {
            "backgroundcolor": "#E5ECF6",
            "gridcolor": "white",
            "gridwidth": 2,
            "linecolor": "white",
            "showbackground": true,
            "ticks": "",
            "zerolinecolor": "white"
           }
          },
          "shapedefaults": {
           "line": {
            "color": "#2a3f5f"
           }
          },
          "ternary": {
           "aaxis": {
            "gridcolor": "white",
            "linecolor": "white",
            "ticks": ""
           },
           "baxis": {
            "gridcolor": "white",
            "linecolor": "white",
            "ticks": ""
           },
           "bgcolor": "#E5ECF6",
           "caxis": {
            "gridcolor": "white",
            "linecolor": "white",
            "ticks": ""
           }
          },
          "title": {
           "x": 0.05
          },
          "xaxis": {
           "automargin": true,
           "gridcolor": "white",
           "linecolor": "white",
           "ticks": "",
           "title": {
            "standoff": 15
           },
           "zerolinecolor": "white",
           "zerolinewidth": 2
          },
          "yaxis": {
           "automargin": true,
           "gridcolor": "white",
           "linecolor": "white",
           "ticks": "",
           "title": {
            "standoff": 15
           },
           "zerolinecolor": "white",
           "zerolinewidth": 2
          }
         }
        },
        "title": {
         "text": "Slice Plot"
        },
        "xaxis": {
         "anchor": "y",
         "domain": [
          0,
          0.2888888888888889
         ],
         "title": {
          "text": "gb_max_depth"
         }
        },
        "xaxis2": {
         "anchor": "y2",
         "domain": [
          0.35555555555555557,
          0.6444444444444445
         ],
         "title": {
          "text": "gb_min_samples_leaf"
         }
        },
        "xaxis3": {
         "anchor": "y3",
         "domain": [
          0.7111111111111111,
          1
         ],
         "title": {
          "text": "gb_n_estimators"
         }
        },
        "yaxis": {
         "anchor": "x",
         "domain": [
          0,
          1
         ],
         "title": {
          "text": "Objective Value"
         }
        },
        "yaxis2": {
         "anchor": "x2",
         "domain": [
          0,
          1
         ],
         "matches": "y",
         "showticklabels": false
        },
        "yaxis3": {
         "anchor": "x3",
         "domain": [
          0,
          1
         ],
         "matches": "y",
         "showticklabels": false
        }
       }
      }
     },
     "metadata": {},
     "output_type": "display_data"
    },
    {
     "data": {
      "application/vnd.plotly.v1+json": {
       "config": {
        "plotlyServerURL": "https://plot.ly"
       },
       "data": [
        {
         "dimensions": [
          {
           "label": "Objective Value",
           "range": [
            0.9350462196073952,
            0.9614329037397124
           ],
           "values": [
            0.9526373920936246,
            0.9592473564945024,
            0.9614329037397124,
            0.9589542150446146,
            0.9497055548782619,
            0.9602335647119972,
            0.9515179713473529,
            0.9602868731682876,
            0.9489326089038442,
            0.9350462196073952
           ]
          },
          {
           "label": "gb_max_depth",
           "range": [
            5,
            8
           ],
           "values": [
            5,
            8,
            6,
            5,
            5,
            7,
            5,
            5,
            5,
            5
           ]
          },
          {
           "label": "gb_min_samples_leaf",
           "range": [
            1,
            10
           ],
           "values": [
            10,
            5,
            10,
            4,
            5,
            6,
            5,
            2,
            1,
            3
           ]
          },
          {
           "label": "gb_n_estimators",
           "range": [
            5,
            94
           ],
           "values": [
            17,
            31,
            89,
            48,
            12,
            48,
            15,
            94,
            11,
            5
           ]
          }
         ],
         "labelangle": 30,
         "labelside": "bottom",
         "line": {
          "color": [
           0.9526373920936246,
           0.9592473564945024,
           0.9614329037397124,
           0.9589542150446146,
           0.9497055548782619,
           0.9602335647119972,
           0.9515179713473529,
           0.9602868731682876,
           0.9489326089038442,
           0.9350462196073952
          ],
          "colorbar": {
           "title": {
            "text": "Objective Value"
           }
          },
          "colorscale": [
           [
            0,
            "rgb(247,251,255)"
           ],
           [
            0.125,
            "rgb(222,235,247)"
           ],
           [
            0.25,
            "rgb(198,219,239)"
           ],
           [
            0.375,
            "rgb(158,202,225)"
           ],
           [
            0.5,
            "rgb(107,174,214)"
           ],
           [
            0.625,
            "rgb(66,146,198)"
           ],
           [
            0.75,
            "rgb(33,113,181)"
           ],
           [
            0.875,
            "rgb(8,81,156)"
           ],
           [
            1,
            "rgb(8,48,107)"
           ]
          ],
          "reversescale": false,
          "showscale": true
         },
         "type": "parcoords"
        }
       ],
       "layout": {
        "template": {
         "data": {
          "bar": [
           {
            "error_x": {
             "color": "#2a3f5f"
            },
            "error_y": {
             "color": "#2a3f5f"
            },
            "marker": {
             "line": {
              "color": "#E5ECF6",
              "width": 0.5
             }
            },
            "type": "bar"
           }
          ],
          "barpolar": [
           {
            "marker": {
             "line": {
              "color": "#E5ECF6",
              "width": 0.5
             }
            },
            "type": "barpolar"
           }
          ],
          "carpet": [
           {
            "aaxis": {
             "endlinecolor": "#2a3f5f",
             "gridcolor": "white",
             "linecolor": "white",
             "minorgridcolor": "white",
             "startlinecolor": "#2a3f5f"
            },
            "baxis": {
             "endlinecolor": "#2a3f5f",
             "gridcolor": "white",
             "linecolor": "white",
             "minorgridcolor": "white",
             "startlinecolor": "#2a3f5f"
            },
            "type": "carpet"
           }
          ],
          "choropleth": [
           {
            "colorbar": {
             "outlinewidth": 0,
             "ticks": ""
            },
            "type": "choropleth"
           }
          ],
          "contour": [
           {
            "colorbar": {
             "outlinewidth": 0,
             "ticks": ""
            },
            "colorscale": [
             [
              0,
              "#0d0887"
             ],
             [
              0.1111111111111111,
              "#46039f"
             ],
             [
              0.2222222222222222,
              "#7201a8"
             ],
             [
              0.3333333333333333,
              "#9c179e"
             ],
             [
              0.4444444444444444,
              "#bd3786"
             ],
             [
              0.5555555555555556,
              "#d8576b"
             ],
             [
              0.6666666666666666,
              "#ed7953"
             ],
             [
              0.7777777777777778,
              "#fb9f3a"
             ],
             [
              0.8888888888888888,
              "#fdca26"
             ],
             [
              1,
              "#f0f921"
             ]
            ],
            "type": "contour"
           }
          ],
          "contourcarpet": [
           {
            "colorbar": {
             "outlinewidth": 0,
             "ticks": ""
            },
            "type": "contourcarpet"
           }
          ],
          "heatmap": [
           {
            "colorbar": {
             "outlinewidth": 0,
             "ticks": ""
            },
            "colorscale": [
             [
              0,
              "#0d0887"
             ],
             [
              0.1111111111111111,
              "#46039f"
             ],
             [
              0.2222222222222222,
              "#7201a8"
             ],
             [
              0.3333333333333333,
              "#9c179e"
             ],
             [
              0.4444444444444444,
              "#bd3786"
             ],
             [
              0.5555555555555556,
              "#d8576b"
             ],
             [
              0.6666666666666666,
              "#ed7953"
             ],
             [
              0.7777777777777778,
              "#fb9f3a"
             ],
             [
              0.8888888888888888,
              "#fdca26"
             ],
             [
              1,
              "#f0f921"
             ]
            ],
            "type": "heatmap"
           }
          ],
          "heatmapgl": [
           {
            "colorbar": {
             "outlinewidth": 0,
             "ticks": ""
            },
            "colorscale": [
             [
              0,
              "#0d0887"
             ],
             [
              0.1111111111111111,
              "#46039f"
             ],
             [
              0.2222222222222222,
              "#7201a8"
             ],
             [
              0.3333333333333333,
              "#9c179e"
             ],
             [
              0.4444444444444444,
              "#bd3786"
             ],
             [
              0.5555555555555556,
              "#d8576b"
             ],
             [
              0.6666666666666666,
              "#ed7953"
             ],
             [
              0.7777777777777778,
              "#fb9f3a"
             ],
             [
              0.8888888888888888,
              "#fdca26"
             ],
             [
              1,
              "#f0f921"
             ]
            ],
            "type": "heatmapgl"
           }
          ],
          "histogram": [
           {
            "marker": {
             "colorbar": {
              "outlinewidth": 0,
              "ticks": ""
             }
            },
            "type": "histogram"
           }
          ],
          "histogram2d": [
           {
            "colorbar": {
             "outlinewidth": 0,
             "ticks": ""
            },
            "colorscale": [
             [
              0,
              "#0d0887"
             ],
             [
              0.1111111111111111,
              "#46039f"
             ],
             [
              0.2222222222222222,
              "#7201a8"
             ],
             [
              0.3333333333333333,
              "#9c179e"
             ],
             [
              0.4444444444444444,
              "#bd3786"
             ],
             [
              0.5555555555555556,
              "#d8576b"
             ],
             [
              0.6666666666666666,
              "#ed7953"
             ],
             [
              0.7777777777777778,
              "#fb9f3a"
             ],
             [
              0.8888888888888888,
              "#fdca26"
             ],
             [
              1,
              "#f0f921"
             ]
            ],
            "type": "histogram2d"
           }
          ],
          "histogram2dcontour": [
           {
            "colorbar": {
             "outlinewidth": 0,
             "ticks": ""
            },
            "colorscale": [
             [
              0,
              "#0d0887"
             ],
             [
              0.1111111111111111,
              "#46039f"
             ],
             [
              0.2222222222222222,
              "#7201a8"
             ],
             [
              0.3333333333333333,
              "#9c179e"
             ],
             [
              0.4444444444444444,
              "#bd3786"
             ],
             [
              0.5555555555555556,
              "#d8576b"
             ],
             [
              0.6666666666666666,
              "#ed7953"
             ],
             [
              0.7777777777777778,
              "#fb9f3a"
             ],
             [
              0.8888888888888888,
              "#fdca26"
             ],
             [
              1,
              "#f0f921"
             ]
            ],
            "type": "histogram2dcontour"
           }
          ],
          "mesh3d": [
           {
            "colorbar": {
             "outlinewidth": 0,
             "ticks": ""
            },
            "type": "mesh3d"
           }
          ],
          "parcoords": [
           {
            "line": {
             "colorbar": {
              "outlinewidth": 0,
              "ticks": ""
             }
            },
            "type": "parcoords"
           }
          ],
          "pie": [
           {
            "automargin": true,
            "type": "pie"
           }
          ],
          "scatter": [
           {
            "marker": {
             "colorbar": {
              "outlinewidth": 0,
              "ticks": ""
             }
            },
            "type": "scatter"
           }
          ],
          "scatter3d": [
           {
            "line": {
             "colorbar": {
              "outlinewidth": 0,
              "ticks": ""
             }
            },
            "marker": {
             "colorbar": {
              "outlinewidth": 0,
              "ticks": ""
             }
            },
            "type": "scatter3d"
           }
          ],
          "scattercarpet": [
           {
            "marker": {
             "colorbar": {
              "outlinewidth": 0,
              "ticks": ""
             }
            },
            "type": "scattercarpet"
           }
          ],
          "scattergeo": [
           {
            "marker": {
             "colorbar": {
              "outlinewidth": 0,
              "ticks": ""
             }
            },
            "type": "scattergeo"
           }
          ],
          "scattergl": [
           {
            "marker": {
             "colorbar": {
              "outlinewidth": 0,
              "ticks": ""
             }
            },
            "type": "scattergl"
           }
          ],
          "scattermapbox": [
           {
            "marker": {
             "colorbar": {
              "outlinewidth": 0,
              "ticks": ""
             }
            },
            "type": "scattermapbox"
           }
          ],
          "scatterpolar": [
           {
            "marker": {
             "colorbar": {
              "outlinewidth": 0,
              "ticks": ""
             }
            },
            "type": "scatterpolar"
           }
          ],
          "scatterpolargl": [
           {
            "marker": {
             "colorbar": {
              "outlinewidth": 0,
              "ticks": ""
             }
            },
            "type": "scatterpolargl"
           }
          ],
          "scatterternary": [
           {
            "marker": {
             "colorbar": {
              "outlinewidth": 0,
              "ticks": ""
             }
            },
            "type": "scatterternary"
           }
          ],
          "surface": [
           {
            "colorbar": {
             "outlinewidth": 0,
             "ticks": ""
            },
            "colorscale": [
             [
              0,
              "#0d0887"
             ],
             [
              0.1111111111111111,
              "#46039f"
             ],
             [
              0.2222222222222222,
              "#7201a8"
             ],
             [
              0.3333333333333333,
              "#9c179e"
             ],
             [
              0.4444444444444444,
              "#bd3786"
             ],
             [
              0.5555555555555556,
              "#d8576b"
             ],
             [
              0.6666666666666666,
              "#ed7953"
             ],
             [
              0.7777777777777778,
              "#fb9f3a"
             ],
             [
              0.8888888888888888,
              "#fdca26"
             ],
             [
              1,
              "#f0f921"
             ]
            ],
            "type": "surface"
           }
          ],
          "table": [
           {
            "cells": {
             "fill": {
              "color": "#EBF0F8"
             },
             "line": {
              "color": "white"
             }
            },
            "header": {
             "fill": {
              "color": "#C8D4E3"
             },
             "line": {
              "color": "white"
             }
            },
            "type": "table"
           }
          ]
         },
         "layout": {
          "annotationdefaults": {
           "arrowcolor": "#2a3f5f",
           "arrowhead": 0,
           "arrowwidth": 1
          },
          "autotypenumbers": "strict",
          "coloraxis": {
           "colorbar": {
            "outlinewidth": 0,
            "ticks": ""
           }
          },
          "colorscale": {
           "diverging": [
            [
             0,
             "#8e0152"
            ],
            [
             0.1,
             "#c51b7d"
            ],
            [
             0.2,
             "#de77ae"
            ],
            [
             0.3,
             "#f1b6da"
            ],
            [
             0.4,
             "#fde0ef"
            ],
            [
             0.5,
             "#f7f7f7"
            ],
            [
             0.6,
             "#e6f5d0"
            ],
            [
             0.7,
             "#b8e186"
            ],
            [
             0.8,
             "#7fbc41"
            ],
            [
             0.9,
             "#4d9221"
            ],
            [
             1,
             "#276419"
            ]
           ],
           "sequential": [
            [
             0,
             "#0d0887"
            ],
            [
             0.1111111111111111,
             "#46039f"
            ],
            [
             0.2222222222222222,
             "#7201a8"
            ],
            [
             0.3333333333333333,
             "#9c179e"
            ],
            [
             0.4444444444444444,
             "#bd3786"
            ],
            [
             0.5555555555555556,
             "#d8576b"
            ],
            [
             0.6666666666666666,
             "#ed7953"
            ],
            [
             0.7777777777777778,
             "#fb9f3a"
            ],
            [
             0.8888888888888888,
             "#fdca26"
            ],
            [
             1,
             "#f0f921"
            ]
           ],
           "sequentialminus": [
            [
             0,
             "#0d0887"
            ],
            [
             0.1111111111111111,
             "#46039f"
            ],
            [
             0.2222222222222222,
             "#7201a8"
            ],
            [
             0.3333333333333333,
             "#9c179e"
            ],
            [
             0.4444444444444444,
             "#bd3786"
            ],
            [
             0.5555555555555556,
             "#d8576b"
            ],
            [
             0.6666666666666666,
             "#ed7953"
            ],
            [
             0.7777777777777778,
             "#fb9f3a"
            ],
            [
             0.8888888888888888,
             "#fdca26"
            ],
            [
             1,
             "#f0f921"
            ]
           ]
          },
          "colorway": [
           "#636efa",
           "#EF553B",
           "#00cc96",
           "#ab63fa",
           "#FFA15A",
           "#19d3f3",
           "#FF6692",
           "#B6E880",
           "#FF97FF",
           "#FECB52"
          ],
          "font": {
           "color": "#2a3f5f"
          },
          "geo": {
           "bgcolor": "white",
           "lakecolor": "white",
           "landcolor": "#E5ECF6",
           "showlakes": true,
           "showland": true,
           "subunitcolor": "white"
          },
          "hoverlabel": {
           "align": "left"
          },
          "hovermode": "closest",
          "mapbox": {
           "style": "light"
          },
          "paper_bgcolor": "white",
          "plot_bgcolor": "#E5ECF6",
          "polar": {
           "angularaxis": {
            "gridcolor": "white",
            "linecolor": "white",
            "ticks": ""
           },
           "bgcolor": "#E5ECF6",
           "radialaxis": {
            "gridcolor": "white",
            "linecolor": "white",
            "ticks": ""
           }
          },
          "scene": {
           "xaxis": {
            "backgroundcolor": "#E5ECF6",
            "gridcolor": "white",
            "gridwidth": 2,
            "linecolor": "white",
            "showbackground": true,
            "ticks": "",
            "zerolinecolor": "white"
           },
           "yaxis": {
            "backgroundcolor": "#E5ECF6",
            "gridcolor": "white",
            "gridwidth": 2,
            "linecolor": "white",
            "showbackground": true,
            "ticks": "",
            "zerolinecolor": "white"
           },
           "zaxis": {
            "backgroundcolor": "#E5ECF6",
            "gridcolor": "white",
            "gridwidth": 2,
            "linecolor": "white",
            "showbackground": true,
            "ticks": "",
            "zerolinecolor": "white"
           }
          },
          "shapedefaults": {
           "line": {
            "color": "#2a3f5f"
           }
          },
          "ternary": {
           "aaxis": {
            "gridcolor": "white",
            "linecolor": "white",
            "ticks": ""
           },
           "baxis": {
            "gridcolor": "white",
            "linecolor": "white",
            "ticks": ""
           },
           "bgcolor": "#E5ECF6",
           "caxis": {
            "gridcolor": "white",
            "linecolor": "white",
            "ticks": ""
           }
          },
          "title": {
           "x": 0.05
          },
          "xaxis": {
           "automargin": true,
           "gridcolor": "white",
           "linecolor": "white",
           "ticks": "",
           "title": {
            "standoff": 15
           },
           "zerolinecolor": "white",
           "zerolinewidth": 2
          },
          "yaxis": {
           "automargin": true,
           "gridcolor": "white",
           "linecolor": "white",
           "ticks": "",
           "title": {
            "standoff": 15
           },
           "zerolinecolor": "white",
           "zerolinewidth": 2
          }
         }
        },
        "title": {
         "text": "Parallel Coordinate Plot"
        }
       }
      }
     },
     "metadata": {},
     "output_type": "display_data"
    }
   ],
   "source": [
    "# Gráficos otimização de hiperparâmetros\n",
    "fig1 = optuna.visualization.plot_optimization_history(study_rc)\n",
    "fig1.show()\n",
    "\n",
    "fig2 = optuna.visualization.plot_slice(study_rc)\n",
    "fig2.show()\n",
    "\n",
    "fig3 = optuna.visualization.plot_parallel_coordinate(study_rc)\n",
    "fig3.show() "
   ]
  },
  {
   "cell_type": "code",
   "execution_count": 8,
   "metadata": {},
   "outputs": [],
   "source": [
    "# Criação, treinamento e teste do modelo GB com hiperparâmetros otimizados\n",
    "m2 = sklearn.ensemble.GradientBoostingClassifier(max_depth = study_rc.best_params['gb_max_depth'],\n",
    "min_samples_leaf = study_rc.best_params['gb_min_samples_leaf'],\n",
    "n_estimators = study_rc.best_params['gb_n_estimators'])\n",
    "\n",
    "m2.fit(train_data, train_output)  # treinamento\n",
    "predictions = m2.predict(test_data)  # teste"
   ]
  },
  {
   "cell_type": "code",
   "execution_count": 9,
   "metadata": {},
   "outputs": [
    {
     "data": {
      "text/plain": [
       "'# Célula alternativa a anterior, que salva o modelo em um arquivo joblib\\n\\n# Criação, treinamento e teste do modelo GB com hiperparâmetros otimizados\\nm2 = sklearn.ensemble.GradientBoostingClassifier(max_depth = study_rc.best_params[\\'gb_max_depth\\'],\\nmin_samples_leaf = study_rc.best_params[\\'gb_min_samples_leaf\\'],\\nn_estimators = study_rc.best_params[\\'gb_n_estimators\\'])\\n\\nm2.fit(train_data, train_output)  # treinamento\\n\\njoblib.dump(m2, \"GB_model.joblib\")\\nloaded_model = joblib.load(\"GB_model.joblib\")\\npredictions = loaded_model.predict(test_data)  # teste '"
      ]
     },
     "execution_count": 9,
     "metadata": {},
     "output_type": "execute_result"
    }
   ],
   "source": [
    "'''# Célula alternativa a anterior, que salva o modelo em um arquivo joblib\n",
    "\n",
    "# Criação, treinamento e teste do modelo GB com hiperparâmetros otimizados\n",
    "m2 = sklearn.ensemble.GradientBoostingClassifier(max_depth = study_rc.best_params['gb_max_depth'],\n",
    "min_samples_leaf = study_rc.best_params['gb_min_samples_leaf'],\n",
    "n_estimators = study_rc.best_params['gb_n_estimators'])\n",
    "\n",
    "m2.fit(train_data, train_output)  # treinamento\n",
    "\n",
    "joblib.dump(m2, \"GB_model.joblib\")\n",
    "loaded_model = joblib.load(\"GB_model.joblib\")\n",
    "predictions = loaded_model.predict(test_data)  # teste '''"
   ]
  },
  {
   "cell_type": "code",
   "execution_count": 10,
   "metadata": {},
   "outputs": [
    {
     "name": "stdout",
     "output_type": "stream",
     "text": [
      "Relatório de classificação:\n",
      "               precision    recall  f1-score   support\n",
      "\n",
      "         0.0       0.94      0.98      0.96     14657\n",
      "         1.0       0.89      0.84      0.87      2742\n",
      "         2.0       0.98      0.84      0.91      2659\n",
      "         3.0       0.96      0.92      0.94       663\n",
      "         4.0       0.97      1.00      0.98       470\n",
      "         5.0       1.00      0.99      0.99       719\n",
      "         6.0       0.99      0.91      0.95       615\n",
      "\n",
      "    accuracy                           0.94     22525\n",
      "   macro avg       0.96      0.92      0.94     22525\n",
      "weighted avg       0.94      0.94      0.94     22525\n",
      "\n",
      "Matriz de confusão:\n",
      " [[14293   281    37    25    14     3     4]\n",
      " [  426  2316     0     0     0     0     0]\n",
      " [  430     0  2229     0     0     0     0]\n",
      " [   56     0     0   607     0     0     0]\n",
      " [    0     0     0     1   469     0     0]\n",
      " [    8     0     0     0     0   711     0]\n",
      " [   57     0     0     0     0     0   558]]\n"
     ]
    },
    {
     "data": {
      "image/png": "[encoded data removed]",
      "text/plain": [
       "<Figure size 640x480 with 2 Axes>"
      ]
     },
     "metadata": {},
     "output_type": "display_data"
    }
   ],
   "source": [
    "# Matriz de confusão e relatório de classificação\n",
    "class_report = classification_report(test_output, predictions)\n",
    "print('Relatório de classificação:\\n', class_report)\n",
    "conf_mat = confusion_matrix(\n",
    "    test_output, predictions, labels=[0, 1, 2, 3, 4, 5, 6])\n",
    "print('Matriz de confusão:\\n', conf_mat)\n",
    "\n",
    "# Gráfico matriz de confusão\n",
    "plt.rcParams.update(plt.rcParamsDefault)\n",
    "LABELS = [\"Op. Normal\", \"Falha 1\", \"Falha 2\",\n",
    "          \"Falha 3\", \"Falha 4\", \"Falha 5\", \"Falha 6\"]\n",
    "acc = accuracy_score(test_output, predictions)\n",
    "plot_confusion_matrix(conf_mat=conf_mat, colorbar=True, show_absolute=False,\n",
    "show_normed=True, class_names=LABELS, cmap=plt.cm.Blues)\n",
    "\n",
    "plt.title(\"Matriz de confusão - GB\\nAcurácia: %1.4f\" % acc, fontsize=15)\n",
    "plt.ylabel('Classe Verdadeira', fontsize=15)\n",
    "plt.xlabel('Classe Predita', fontsize=15)\n",
    "plt.savefig('GB_confmat.png')\n",
    "plt.show()\n",
    "plt.close()"
   ]
  },
  {
   "cell_type": "code",
   "execution_count": 11,
   "metadata": {},
   "outputs": [
    {
     "name": "stdout",
     "output_type": "stream",
     "text": [
      "Variável: ACG1P(t)             Importância: 0.1757\n",
      "Variável: SW5F(t)              Importância: 0.1706\n",
      "Variável: ACG1P(t-1)           Importância: 0.117\n",
      "Variável: SW1F(t)              Importância: 0.0972\n",
      "Variável: SW1F(t-1)            Importância: 0.0782\n",
      "Variável: AMG1P(t-1)           Importância: 0.0765\n",
      "Variável: C2SL(t-1)            Importância: 0.0732\n",
      "Variável: SW8T(t)              Importância: 0.0645\n",
      "Variável: C2SL(t)              Importância: 0.0596\n",
      "Variável: SW8T(t-1)            Importância: 0.0367\n",
      "Variável: AMG1T(t-1)           Importância: 0.0075\n",
      "Variável: AMG1P(t)             Importância: 0.0075\n",
      "Variável: AMG1T(t)             Importância: 0.0072\n",
      "Variável: SW5F(t-1)            Importância: 0.005\n",
      "Variável: CW5F(t)              Importância: 0.0038\n",
      "Variável: C1S2T(t-1)           Importância: 0.0036\n",
      "Variável: C1S2T(t)             Importância: 0.0034\n",
      "Variável: C2DL(t-1)            Importância: 0.0029\n",
      "Variável: C2DL(t)              Importância: 0.0027\n",
      "Variável: CW5F(t-1)            Importância: 0.0024\n",
      "Variável: CW8F(t-1)            Importância: 0.0011\n",
      "Variável: C1SL(t-1)            Importância: 0.0009\n",
      "Variável: CW8F(t)              Importância: 0.0009\n",
      "Variável: C1SL(t)              Importância: 0.0008\n",
      "Variável: C2HDI(t-1)           Importância: 0.0005\n",
      "Variável: C2HDI(t)             Importância: 0.0005\n"
     ]
    },
    {
     "data": {
      "image/png": "[encoded data removed]",
      "text/plain": [
       "<Figure size 640x480 with 1 Axes>"
      ]
     },
     "metadata": {},
     "output_type": "display_data"
    }
   ],
   "source": [
    "# Importancia das variáveis\n",
    "importances = list(m2.feature_importances_)\n",
    "feature_importances = [(feature, round(importance, 4)) for feature, importance in zip(header, importances)]\n",
    "feature_importances = sorted(feature_importances, key=lambda x: x[1], reverse=True)\n",
    "[print('Variável: {:20} Importância: {}'.format(*pair)) for pair in feature_importances]\n",
    "\n",
    "# Gráfico importância\n",
    "sns.set(font_scale=1)\n",
    "x_values = list(range(len(importances)))\n",
    "plt.figure()\n",
    "plt.grid(axis='y')\n",
    "plt.bar(x_values, importances, orientation='vertical')\n",
    "plt.xticks(x_values, header, rotation='vertical')\n",
    "plt.ylabel('Importância')\n",
    "plt.xlabel('Variável')\n",
    "plt.title('Importância das Variáveis - GB', fontsize=15)\n",
    "plt.tight_layout()\n",
    "plt.savefig('GB_importance.png')\n",
    "plt.show()\n",
    "plt.close()"
   ]
  },
  {
   "cell_type": "code",
   "execution_count": 12,
   "metadata": {},
   "outputs": [
    {
     "name": "stdout",
     "output_type": "stream",
     "text": [
      "------------------ REDUÇÃO DE VARIÁVEIS -------------------\n",
      "\n",
      "Importância total da versão reduzida: 0.9492323173581121\n",
      "Formato dos dados de entrada de treinamento reduzidos: (37519, 10)\n",
      "Formato dos dados de de entrada de teste reduzidos: (22525, 10)\n",
      "Formato do header reduzido: 10\n",
      "Header reduzido: ['ACG1P(t-1)', 'AMG1P(t-1)', 'C2SL(t-1)', 'SW8T(t-1)', 'SW1F(t-1)', 'ACG1P(t)', 'C2SL(t)', 'SW8T(t)', 'SW1F(t)', 'SW5F(t)']\n"
     ]
    }
   ],
   "source": [
    "# ----------------- Redução variáveis pela importância -----------------\n",
    "print(\"------------------ REDUÇÃO DE VARIÁVEIS -------------------\\n\")\n",
    "# Quantidade de variáveis que serão utilizadas na redução\n",
    "columns = sum(big > 0.02 for big in importances)\n",
    "# Criando vetor reduzido dados treino\n",
    "train_data_red = np.zeros((train_data.shape[0], columns))\n",
    "# Criando vetor reduzido dados teste\n",
    "test_data_red = np.zeros((test_data.shape[0], columns))\n",
    "# Criando vetor reduzido header\n",
    "header_red = []\n",
    "fix_pos = 0  # Contador dos dados reduzidos\n",
    "total_importance = 0  # Soma da importância total das variáveis reduzidas\n",
    "for pos, item in enumerate(importances):\n",
    "    if item > 0.02:  # Critério para redução\n",
    "        train_data_red[:, fix_pos] = train_data[:, pos]\n",
    "        test_data_red[:, fix_pos] = test_data[:, pos]\n",
    "        header_red.append(header[pos])\n",
    "        fix_pos = fix_pos + 1\n",
    "        total_importance = total_importance + item\n",
    "\n",
    "print(\"Importância total da versão reduzida:\", total_importance)\n",
    "print(\"Formato dos dados de entrada de treinamento reduzidos:\", train_data_red.shape)\n",
    "print(\"Formato dos dados de de entrada de teste reduzidos:\", test_data_red.shape)\n",
    "print(\"Formato do header reduzido:\", len(header_red))\n",
    "print(\"Header reduzido:\", header_red)"
   ]
  },
  {
   "cell_type": "code",
   "execution_count": 13,
   "metadata": {},
   "outputs": [],
   "source": [
    "# Criação, treinamento e teste do modelo GB com hiperparâmetros otimizados\n",
    "m3 = sklearn.ensemble.GradientBoostingClassifier(max_depth = study_rc.best_params['gb_max_depth'],\n",
    "min_samples_leaf = study_rc.best_params['gb_min_samples_leaf'],\n",
    "n_estimators = study_rc.best_params['gb_n_estimators'])\n",
    "\n",
    "m3.fit(train_data_red, train_output)  # treinamento\n",
    "predictions2 = m3.predict(test_data_red)  # teste"
   ]
  },
  {
   "cell_type": "code",
   "execution_count": 14,
   "metadata": {},
   "outputs": [
    {
     "name": "stdout",
     "output_type": "stream",
     "text": [
      "Relatório de classificação:\n",
      "               precision    recall  f1-score   support\n",
      "\n",
      "         0.0       0.94      0.98      0.96     14657\n",
      "         1.0       0.93      0.85      0.89      2742\n",
      "         2.0       0.98      0.88      0.93      2659\n",
      "         3.0       0.95      0.93      0.94       663\n",
      "         4.0       0.98      1.00      0.99       470\n",
      "         5.0       0.99      0.99      0.99       719\n",
      "         6.0       0.99      0.91      0.95       615\n",
      "\n",
      "    accuracy                           0.95     22525\n",
      "   macro avg       0.97      0.93      0.95     22525\n",
      "weighted avg       0.95      0.95      0.95     22525\n",
      "\n",
      "Matriz de confusão:\n",
      " [[14372   178    54    33     9     5     6]\n",
      " [  403  2339     0     0     0     0     0]\n",
      " [  323     0  2336     0     0     0     0]\n",
      " [   48     0     1   614     0     0     0]\n",
      " [    0     0     0     1   469     0     0]\n",
      " [    8     0     0     0     0   711     0]\n",
      " [   57     0     0     0     0     0   558]]\n"
     ]
    },
    {
     "data": {
      "image/png": "[encoded data removed]",
      "text/plain": [
       "<Figure size 640x480 with 2 Axes>"
      ]
     },
     "metadata": {},
     "output_type": "display_data"
    }
   ],
   "source": [
    "# Matriz de confusão e relatório de classificação\n",
    "class_report = classification_report(test_output, predictions2)\n",
    "print('Relatório de classificação:\\n', class_report)\n",
    "conf_mat = confusion_matrix(\n",
    "    test_output, predictions2, labels=[0, 1, 2, 3, 4, 5, 6])\n",
    "print('Matriz de confusão:\\n', conf_mat)\n",
    "\n",
    "# Gráfico matriz de confusão\n",
    "plt.rcParams.update(plt.rcParamsDefault)\n",
    "LABELS = [\"Op. Normal\", \"Falha 1\", \"Falha 2\",\n",
    "          \"Falha 3\", \"Falha 4\", \"Falha 5\", \"Falha 6\"]\n",
    "acc = accuracy_score(test_output, predictions2)\n",
    "plot_confusion_matrix(conf_mat=conf_mat, colorbar=True, show_absolute=False,\n",
    "show_normed=True, class_names=LABELS, cmap=plt.cm.Blues)\n",
    "\n",
    "plt.title(\"Matriz de confusão - GB Reduzido\\nAcurácia: %1.4f\" % acc, fontsize=15)\n",
    "plt.ylabel('Classe Verdadeira', fontsize=15)\n",
    "plt.xlabel('Classe Predita', fontsize=15)\n",
    "plt.savefig('GB_confmat_reduced.png')\n",
    "plt.show()\n",
    "plt.close()"
   ]
  },
  {
   "cell_type": "code",
   "execution_count": 15,
   "metadata": {},
   "outputs": [
    {
     "name": "stdout",
     "output_type": "stream",
     "text": [
      "Variável: SW5F(t)              Importância: 0.1808\n",
      "Variável: ACG1P(t)             Importância: 0.1747\n",
      "Variável: ACG1P(t-1)           Importância: 0.1262\n",
      "Variável: SW1F(t)              Importância: 0.1058\n",
      "Variável: AMG1P(t-1)           Importância: 0.0867\n",
      "Variável: SW1F(t-1)            Importância: 0.0783\n",
      "Variável: SW8T(t)              Importância: 0.0769\n",
      "Variável: C2SL(t)              Importância: 0.07\n",
      "Variável: C2SL(t-1)            Importância: 0.0693\n",
      "Variável: SW8T(t-1)            Importância: 0.0313\n"
     ]
    },
    {
     "data": {
      "image/png": "[encoded data removed]",
      "text/plain": [
       "<Figure size 640x480 with 1 Axes>"
      ]
     },
     "metadata": {},
     "output_type": "display_data"
    }
   ],
   "source": [
    "# Importancia das variáveis\n",
    "importances2 = list(m3.feature_importances_)\n",
    "feature_importances = [(feature, round(importance, 4)) for feature, importance in zip(header_red, importances2)]\n",
    "feature_importances = sorted(feature_importances, key=lambda x: x[1], reverse=True)\n",
    "[print('Variável: {:20} Importância: {}'.format(*pair)) for pair in feature_importances]\n",
    "\n",
    "# Gráfico importância\n",
    "sns.set(font_scale=1)\n",
    "x_values = list(range(len(importances2)))\n",
    "plt.figure()\n",
    "plt.grid(axis='y')\n",
    "plt.bar(x_values, importances2, orientation='vertical')\n",
    "plt.xticks(x_values, header_red, rotation='vertical')\n",
    "plt.ylabel('Importância')\n",
    "plt.xlabel('Variável')\n",
    "plt.title('Importância das Variáveis - GB Reduzido', fontsize=15)\n",
    "plt.tight_layout()\n",
    "plt.savefig('GB_importance_reduced.png')\n",
    "plt.show()\n",
    "plt.close()"
   ]
  },
  {
   "cell_type": "code",
   "execution_count": 16,
   "metadata": {},
   "outputs": [
    {
     "data": {
      "text/plain": [
       "\"# Finaliza a contagem do tempo\\nelapsed = time.time() - t\\nprint('Computing time:', elapsed)\\n\\n# Fecha o arquivo\\nf.close()\""
      ]
     },
     "execution_count": 16,
     "metadata": {},
     "output_type": "execute_result"
    }
   ],
   "source": [
    "'''# Finaliza a contagem do tempo\n",
    "elapsed = time.time() - t\n",
    "print('Computing time:', elapsed)\n",
    "\n",
    "# Fecha o arquivo\n",
    "f.close()'''"
   ]
  }
 ],
 "metadata": {
  "interpreter": {
   "hash": "7c2b341bc3b18b2f0f6420bb99536e5c4cfa1181094719b122fae93675793f92"
  },
  "kernelspec": {
   "display_name": "Python 3.7.5 64-bit (system)",
   "name": "python3"
  },
  "language_info": {
   "codemirror_mode": {
    "name": "ipython",
    "version": 3
   },
   "file_extension": ".py",
   "mimetype": "text/x-python",
   "name": "python",
   "nbconvert_exporter": "python",
   "pygments_lexer": "ipython3",
   "version": "3.7.5"
  },
  "orig_nbformat": 2
 },
 "nbformat": 4,
 "nbformat_minor": 2
}
