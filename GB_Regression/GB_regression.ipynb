{
 "cells": [
  {
   "cell_type": "code",
   "execution_count": 1,
   "metadata": {},
   "outputs": [
    {
     "data": {
      "text/plain": [
       "'\\nCódigo criado por Júlia Nogueira em 24/10/2021\\nAtualizado pela última vez em 24/10/2021\\n\\nObjetivo: Aplicação de Gradient Boosting a um problema de regressão:\\nPredição da quantidade de ácido adsorvido.\\n\\nUtiliza os dados do trabalho: \\n\"Deep neural networks in chemical engineering classrooms to accurately model adsorption equilibrium data\"\\n\\n'"
      ]
     },
     "execution_count": 1,
     "metadata": {},
     "output_type": "execute_result"
    }
   ],
   "source": [
    "'''\n",
    "Código criado por Júlia Nogueira em 24/10/2021\n",
    "Atualizado pela última vez em 24/10/2021\n",
    "\n",
    "Objetivo: Aplicação de Gradient Boosting a um problema de regressão:\n",
    "Predição da quantidade de ácido adsorvido.\n",
    "\n",
    "Utiliza os dados do trabalho: \n",
    "\"Deep neural networks in chemical engineering classrooms to accurately model adsorption equilibrium data\"\n",
    "\n",
    "'''"
   ]
  },
  {
   "cell_type": "code",
   "execution_count": 2,
   "metadata": {},
   "outputs": [],
   "source": [
    "import numpy as np\n",
    "import matplotlib.pyplot as plt\n",
    "import seaborn as sns\n",
    "import optuna\n",
    "# import joblib\n",
    "\n",
    "import sklearn.model_selection\n",
    "import sklearn.metrics\n",
    "from sklearn.model_selection import train_test_split\n",
    "from sklearn.ensemble import GradientBoostingRegressor\n",
    "\n",
    "# import sys\n",
    "# import time"
   ]
  },
  {
   "cell_type": "code",
   "execution_count": 3,
   "metadata": {},
   "outputs": [
    {
     "data": {
      "text/plain": [
       "'# Começa a contar o tempo de processamento\\nt = time.time()\\n\\n# Salva a saída do terminal em um arquivo\\nf = open(\"GB_output\", \\'w\\')\\nsys.stdout = f'"
      ]
     },
     "execution_count": 3,
     "metadata": {},
     "output_type": "execute_result"
    }
   ],
   "source": [
    "'''# Começa a contar o tempo de processamento\n",
    "t = time.time()\n",
    "\n",
    "# Salva a saída do terminal em um arquivo\n",
    "f = open(\"GB_output\", 'w')\n",
    "sys.stdout = f'''"
   ]
  },
  {
   "cell_type": "code",
   "execution_count": 4,
   "metadata": {},
   "outputs": [
    {
     "name": "stdout",
     "output_type": "stream",
     "text": [
      "Formato dos dados de treinamento: (63, 5)\n",
      "Formato dos dados de teste: (32, 5)\n",
      "Header: ['Co', 'T', 'Mol.SA', 'MolV', 'g/g']\n"
     ]
    }
   ],
   "source": [
    "# Leitura e conversão dos dados em array\n",
    "dados_train = np.genfromtxt('Adsorption_Equilibrium_standardized_train_data.txt', skip_header=1)\n",
    "print(\"Formato dos dados de treinamento:\", dados_train.shape)\n",
    "\n",
    "dados_test = np.genfromtxt('Adsorption_Equilibrium_standardized_test_data.txt', skip_header=1)\n",
    "print(\"Formato dos dados de teste:\", dados_test.shape)\n",
    "\n",
    "# header\n",
    "with open('Adsorption_Equilibrium_standardized_train_data.txt', 'r') as file:\n",
    "    header = file.readline().strip() # pegando a primeira linha\n",
    "header = header.split()\n",
    "print('Header:', header)"
   ]
  },
  {
   "cell_type": "code",
   "execution_count": 5,
   "metadata": {},
   "outputs": [
    {
     "name": "stdout",
     "output_type": "stream",
     "text": [
      "Formato dos dados de entrada de treinamento: (63, 4)\n",
      "Formato dos dados de entrada de teste: (32, 4)\n",
      "Formato dos dados de saída de treinamento: (63,)\n",
      "Formato dos dados de saída teste: (32,)\n"
     ]
    }
   ],
   "source": [
    "# Embaralhando os dados e separação das entradas e saídas dos modelos\n",
    "np.random.shuffle(dados_train)\n",
    "np.random.shuffle(dados_test)\n",
    "\n",
    "train_data, train_output = dados_train[:, :-1], dados_train[:, -1]\n",
    "test_data, test_output = dados_test[:, :-1], dados_test[:, -1]\n",
    "\n",
    "print(\"Formato dos dados de entrada de treinamento:\", train_data.shape)\n",
    "print(\"Formato dos dados de entrada de teste:\", test_data.shape)\n",
    "print(\"Formato dos dados de saída de treinamento:\", train_output.shape)\n",
    "print(\"Formato dos dados de saída teste:\", test_output.shape)"
   ]
  },
  {
   "cell_type": "code",
   "execution_count": 6,
   "metadata": {},
   "outputs": [
    {
     "name": "stderr",
     "output_type": "stream",
     "text": [
      "\u001b[32m[I 2021-10-24 10:20:02,656]\u001b[0m A new study created in memory with name: no-name-a9b2ba64-97c0-4e9d-bd06-9039a394d50a\u001b[0m\n"
     ]
    },
    {
     "name": "stdout",
     "output_type": "stream",
     "text": [
      "Nº Iterações Otimização: 40\n"
     ]
    },
    {
     "name": "stderr",
     "output_type": "stream",
     "text": [
      "\u001b[32m[I 2021-10-24 10:20:03,387]\u001b[0m Trial 0 finished with value: 0.8734844083532725 and parameters: {'gb_min_samples_leaf': 2, 'gb_max_depth': 7, 'gb_n_estimators': 44}. Best is trial 0 with value: 0.8734844083532725.\u001b[0m\n",
      "\u001b[32m[I 2021-10-24 10:20:03,394]\u001b[0m Trial 1 finished with value: 0.4176050031743368 and parameters: {'gb_min_samples_leaf': 1, 'gb_max_depth': 5, 'gb_n_estimators': 3}. Best is trial 0 with value: 0.8734844083532725.\u001b[0m\n",
      "\u001b[32m[I 2021-10-24 10:20:03,408]\u001b[0m Trial 2 finished with value: 0.7763500726906817 and parameters: {'gb_min_samples_leaf': 9, 'gb_max_depth': 9, 'gb_n_estimators': 12}. Best is trial 0 with value: 0.8734844083532725.\u001b[0m\n",
      "\u001b[32m[I 2021-10-24 10:20:03,436]\u001b[0m Trial 3 finished with value: 0.8982233668195068 and parameters: {'gb_min_samples_leaf': 7, 'gb_max_depth': 6, 'gb_n_estimators': 37}. Best is trial 3 with value: 0.8982233668195068.\u001b[0m\n",
      "\u001b[32m[I 2021-10-24 10:20:03,458]\u001b[0m Trial 4 finished with value: 0.8875751762016973 and parameters: {'gb_min_samples_leaf': 6, 'gb_max_depth': 5, 'gb_n_estimators': 37}. Best is trial 3 with value: 0.8982233668195068.\u001b[0m\n",
      "\u001b[32m[I 2021-10-24 10:20:03,471]\u001b[0m Trial 5 finished with value: 0.7441635726612426 and parameters: {'gb_min_samples_leaf': 10, 'gb_max_depth': 8, 'gb_n_estimators': 10}. Best is trial 3 with value: 0.8982233668195068.\u001b[0m\n",
      "\u001b[32m[I 2021-10-24 10:20:03,494]\u001b[0m Trial 6 finished with value: 0.9000775261017321 and parameters: {'gb_min_samples_leaf': 7, 'gb_max_depth': 5, 'gb_n_estimators': 41}. Best is trial 6 with value: 0.9000775261017321.\u001b[0m\n",
      "\u001b[32m[I 2021-10-24 10:20:03,512]\u001b[0m Trial 7 finished with value: 0.8600536293848947 and parameters: {'gb_min_samples_leaf': 1, 'gb_max_depth': 8, 'gb_n_estimators': 15}. Best is trial 6 with value: 0.9000775261017321.\u001b[0m\n",
      "\u001b[32m[I 2021-10-24 10:20:03,526]\u001b[0m Trial 8 finished with value: 0.6835952266199663 and parameters: {'gb_min_samples_leaf': 10, 'gb_max_depth': 8, 'gb_n_estimators': 8}. Best is trial 6 with value: 0.9000775261017321.\u001b[0m\n",
      "\u001b[32m[I 2021-10-24 10:20:03,548]\u001b[0m Trial 9 finished with value: 0.861365942678785 and parameters: {'gb_min_samples_leaf': 5, 'gb_max_depth': 5, 'gb_n_estimators': 35}. Best is trial 6 with value: 0.9000775261017321.\u001b[0m\n",
      "\u001b[32m[I 2021-10-24 10:20:03,913]\u001b[0m Trial 10 finished with value: 0.8608093323463707 and parameters: {'gb_min_samples_leaf': 4, 'gb_max_depth': 6, 'gb_n_estimators': 49}. Best is trial 6 with value: 0.9000775261017321.\u001b[0m\n",
      "\u001b[32m[I 2021-10-24 10:20:03,936]\u001b[0m Trial 11 finished with value: 0.8906026913790982 and parameters: {'gb_min_samples_leaf': 7, 'gb_max_depth': 6, 'gb_n_estimators': 27}. Best is trial 6 with value: 0.9000775261017321.\u001b[0m\n",
      "\u001b[32m[I 2021-10-24 10:20:03,964]\u001b[0m Trial 12 finished with value: 0.8994248732179219 and parameters: {'gb_min_samples_leaf': 8, 'gb_max_depth': 6, 'gb_n_estimators': 38}. Best is trial 6 with value: 0.9000775261017321.\u001b[0m\n",
      "\u001b[32m[I 2021-10-24 10:20:03,997]\u001b[0m Trial 13 finished with value: 0.8980049510221201 and parameters: {'gb_min_samples_leaf': 8, 'gb_max_depth': 5, 'gb_n_estimators': 50}. Best is trial 6 with value: 0.9000775261017321.\u001b[0m\n",
      "\u001b[32m[I 2021-10-24 10:20:04,018]\u001b[0m Trial 14 finished with value: 0.8900230634175444 and parameters: {'gb_min_samples_leaf': 8, 'gb_max_depth': 5, 'gb_n_estimators': 27}. Best is trial 6 with value: 0.9000775261017321.\u001b[0m\n",
      "\u001b[32m[I 2021-10-24 10:20:04,048]\u001b[0m Trial 15 finished with value: 0.8562766475903634 and parameters: {'gb_min_samples_leaf': 4, 'gb_max_depth': 7, 'gb_n_estimators': 43}. Best is trial 6 with value: 0.9000775261017321.\u001b[0m\n",
      "\u001b[32m[I 2021-10-24 10:20:04,073]\u001b[0m Trial 16 finished with value: 0.885473767221456 and parameters: {'gb_min_samples_leaf': 6, 'gb_max_depth': 6, 'gb_n_estimators': 32}. Best is trial 6 with value: 0.9000775261017321.\u001b[0m\n",
      "\u001b[32m[I 2021-10-24 10:20:04,092]\u001b[0m Trial 17 finished with value: 0.8576926519857665 and parameters: {'gb_min_samples_leaf': 9, 'gb_max_depth': 5, 'gb_n_estimators': 20}. Best is trial 6 with value: 0.9000775261017321.\u001b[0m\n",
      "\u001b[32m[I 2021-10-24 10:20:04,121]\u001b[0m Trial 18 finished with value: 0.8998857060840774 and parameters: {'gb_min_samples_leaf': 8, 'gb_max_depth': 5, 'gb_n_estimators': 43}. Best is trial 6 with value: 0.9000775261017321.\u001b[0m\n",
      "\u001b[32m[I 2021-10-24 10:20:04,150]\u001b[0m Trial 19 finished with value: 0.8985199763040091 and parameters: {'gb_min_samples_leaf': 7, 'gb_max_depth': 5, 'gb_n_estimators': 45}. Best is trial 6 with value: 0.9000775261017321.\u001b[0m\n",
      "\u001b[32m[I 2021-10-24 10:20:04,179]\u001b[0m Trial 20 finished with value: 0.8670649164189 and parameters: {'gb_min_samples_leaf': 5, 'gb_max_depth': 6, 'gb_n_estimators': 42}. Best is trial 6 with value: 0.9000775261017321.\u001b[0m\n",
      "\u001b[32m[I 2021-10-24 10:20:04,206]\u001b[0m Trial 21 finished with value: 0.8996450860298313 and parameters: {'gb_min_samples_leaf': 8, 'gb_max_depth': 5, 'gb_n_estimators': 39}. Best is trial 6 with value: 0.9000775261017321.\u001b[0m\n",
      "\u001b[32m[I 2021-10-24 10:20:04,239]\u001b[0m Trial 22 finished with value: 0.9101929756426221 and parameters: {'gb_min_samples_leaf': 9, 'gb_max_depth': 5, 'gb_n_estimators': 50}. Best is trial 22 with value: 0.9101929756426221.\u001b[0m\n",
      "\u001b[32m[I 2021-10-24 10:20:04,271]\u001b[0m Trial 23 finished with value: 0.9101929756426221 and parameters: {'gb_min_samples_leaf': 9, 'gb_max_depth': 6, 'gb_n_estimators': 50}. Best is trial 22 with value: 0.9101929756426221.\u001b[0m\n",
      "\u001b[32m[I 2021-10-24 10:20:04,302]\u001b[0m Trial 24 finished with value: 0.9101929756426221 and parameters: {'gb_min_samples_leaf': 9, 'gb_max_depth': 6, 'gb_n_estimators': 50}. Best is trial 22 with value: 0.9101929756426221.\u001b[0m\n",
      "\u001b[32m[I 2021-10-24 10:20:04,333]\u001b[0m Trial 25 finished with value: 0.8702433940731349 and parameters: {'gb_min_samples_leaf': 10, 'gb_max_depth': 7, 'gb_n_estimators': 50}. Best is trial 22 with value: 0.9101929756426221.\u001b[0m\n",
      "\u001b[32m[I 2021-10-24 10:20:04,363]\u001b[0m Trial 26 finished with value: 0.9095371075130104 and parameters: {'gb_min_samples_leaf': 9, 'gb_max_depth': 6, 'gb_n_estimators': 47}. Best is trial 22 with value: 0.9101929756426221.\u001b[0m\n",
      "\u001b[32m[I 2021-10-24 10:20:04,394]\u001b[0m Trial 27 finished with value: 0.9101929756426221 and parameters: {'gb_min_samples_leaf': 9, 'gb_max_depth': 5, 'gb_n_estimators': 50}. Best is trial 22 with value: 0.9101929756426221.\u001b[0m\n",
      "\u001b[32m[I 2021-10-24 10:20:04,420]\u001b[0m Trial 28 finished with value: 0.8737934040489648 and parameters: {'gb_min_samples_leaf': 10, 'gb_max_depth': 5, 'gb_n_estimators': 32}. Best is trial 22 with value: 0.9101929756426221.\u001b[0m\n",
      "\u001b[32m[I 2021-10-24 10:20:04,451]\u001b[0m Trial 29 finished with value: 0.9095895283219754 and parameters: {'gb_min_samples_leaf': 9, 'gb_max_depth': 5, 'gb_n_estimators': 46}. Best is trial 22 with value: 0.9101929756426221.\u001b[0m\n",
      "\u001b[32m[I 2021-10-24 10:20:04,485]\u001b[0m Trial 30 finished with value: 0.8706694394102406 and parameters: {'gb_min_samples_leaf': 10, 'gb_max_depth': 5, 'gb_n_estimators': 47}. Best is trial 22 with value: 0.9101929756426221.\u001b[0m\n",
      "\u001b[32m[I 2021-10-24 10:20:04,526]\u001b[0m Trial 31 finished with value: 0.9101929756426221 and parameters: {'gb_min_samples_leaf': 9, 'gb_max_depth': 5, 'gb_n_estimators': 50}. Best is trial 22 with value: 0.9101929756426221.\u001b[0m\n",
      "\u001b[32m[I 2021-10-24 10:20:04,565]\u001b[0m Trial 32 finished with value: 0.9101929756426221 and parameters: {'gb_min_samples_leaf': 9, 'gb_max_depth': 5, 'gb_n_estimators': 50}. Best is trial 22 with value: 0.9101929756426221.\u001b[0m\n",
      "\u001b[32m[I 2021-10-24 10:20:04,596]\u001b[0m Trial 33 finished with value: 0.9095371075130104 and parameters: {'gb_min_samples_leaf': 9, 'gb_max_depth': 6, 'gb_n_estimators': 47}. Best is trial 22 with value: 0.9101929756426221.\u001b[0m\n",
      "\u001b[32m[I 2021-10-24 10:20:04,628]\u001b[0m Trial 34 finished with value: 0.8719401240373912 and parameters: {'gb_min_samples_leaf': 10, 'gb_max_depth': 5, 'gb_n_estimators': 46}. Best is trial 22 with value: 0.9101929756426221.\u001b[0m\n",
      "\u001b[32m[I 2021-10-24 10:20:04,659]\u001b[0m Trial 35 finished with value: 0.8980049510221201 and parameters: {'gb_min_samples_leaf': 8, 'gb_max_depth': 5, 'gb_n_estimators': 50}. Best is trial 22 with value: 0.9101929756426221.\u001b[0m\n",
      "\u001b[32m[I 2021-10-24 10:20:04,691]\u001b[0m Trial 36 finished with value: 0.9081149024776892 and parameters: {'gb_min_samples_leaf': 9, 'gb_max_depth': 5, 'gb_n_estimators': 40}. Best is trial 22 with value: 0.9101929756426221.\u001b[0m\n",
      "\u001b[32m[I 2021-10-24 10:20:04,722]\u001b[0m Trial 37 finished with value: 0.9001386082238905 and parameters: {'gb_min_samples_leaf': 7, 'gb_max_depth': 5, 'gb_n_estimators': 44}. Best is trial 22 with value: 0.9101929756426221.\u001b[0m\n",
      "\u001b[32m[I 2021-10-24 10:20:04,755]\u001b[0m Trial 38 finished with value: 0.8703497933894682 and parameters: {'gb_min_samples_leaf': 10, 'gb_max_depth': 5, 'gb_n_estimators': 48}. Best is trial 22 with value: 0.9101929756426221.\u001b[0m\n",
      "\u001b[32m[I 2021-10-24 10:20:04,770]\u001b[0m Trial 39 finished with value: 0.15992939495759806 and parameters: {'gb_min_samples_leaf': 8, 'gb_max_depth': 5, 'gb_n_estimators': 1}. Best is trial 22 with value: 0.9101929756426221.\u001b[0m\n"
     ]
    },
    {
     "name": "stdout",
     "output_type": "stream",
     "text": [
      "Hiperparâmetros Otimizados: {'gb_min_samples_leaf': 9, 'gb_max_depth': 5, 'gb_n_estimators': 50}\n"
     ]
    }
   ],
   "source": [
    "# Otimização de Hiperparâmetros\n",
    "def objetivo_rc(trial):\n",
    "    # Hiperparâmetros de busca para GB\n",
    "    gb_min_samples_leaf = trial.suggest_int(\"gb_min_samples_leaf\", 1, 10)\n",
    "    gb_max_depth = trial.suggest_int(\"gb_max_depth\", 5, 10, log = True)\n",
    "    gb_n_estimators = trial.suggest_int(\"gb_n_estimators\", 1, 50)\n",
    "\n",
    "    # Criação do modelo GB\n",
    "    m = sklearn.ensemble.GradientBoostingRegressor(max_depth = gb_max_depth, \n",
    "    min_samples_leaf = gb_min_samples_leaf, n_estimators = gb_n_estimators)\n",
    "\n",
    "    # Retornando R² de validação, 20% dos dados de treino\n",
    "    train__data, val_data, train__output, val_output = sklearn.model_selection.train_test_split(train_data, train_output, test_size=0.2, random_state=101) \n",
    "    \n",
    "    m.fit(train__data, train__output)\n",
    "    predictions_optimization = m.predict(val_data)\n",
    "    r2 = sklearn.metrics.r2_score(val_output, predictions_optimization)\n",
    "\n",
    "    return r2\n",
    "\n",
    "# Resultados função objetivo\n",
    "study_rc = optuna.create_study(direction=\"maximize\")\n",
    "n_trials = 40\n",
    "print(\"Nº Iterações Otimização:\", n_trials)\n",
    "study_rc.optimize(objetivo_rc, n_trials=n_trials)\n",
    "print(\"Hiperparâmetros Otimizados:\", study_rc.best_params)"
   ]
  },
  {
   "cell_type": "code",
   "execution_count": 7,
   "metadata": {},
   "outputs": [
    {
     "data": {
      "application/vnd.plotly.v1+json": {
       "config": {
        "plotlyServerURL": "https://plot.ly"
       },
       "data": [
        {
         "mode": "markers",
         "name": "Objective Value",
         "type": "scatter",
         "x": [
          0,
          1,
          2,
          3,
          4,
          5,
          6,
          7,
          8,
          9,
          10,
          11,
          12,
          13,
          14,
          15,
          16,
          17,
          18,
          19,
          20,
          21,
          22,
          23,
          24,
          25,
          26,
          27,
          28,
          29,
          30,
          31,
          32,
          33,
          34,
          35,
          36,
          37,
          38,
          39
         ],
         "y": [
          0.8734844083532725,
          0.4176050031743368,
          0.7763500726906817,
          0.8982233668195068,
          0.8875751762016973,
          0.7441635726612426,
          0.9000775261017321,
          0.8600536293848947,
          0.6835952266199663,
          0.861365942678785,
          0.8608093323463707,
          0.8906026913790982,
          0.8994248732179219,
          0.8980049510221201,
          0.8900230634175444,
          0.8562766475903634,
          0.885473767221456,
          0.8576926519857665,
          0.8998857060840774,
          0.8985199763040091,
          0.8670649164189,
          0.8996450860298313,
          0.9101929756426221,
          0.9101929756426221,
          0.9101929756426221,
          0.8702433940731349,
          0.9095371075130104,
          0.9101929756426221,
          0.8737934040489648,
          0.9095895283219754,
          0.8706694394102406,
          0.9101929756426221,
          0.9101929756426221,
          0.9095371075130104,
          0.8719401240373912,
          0.8980049510221201,
          0.9081149024776892,
          0.9001386082238905,
          0.8703497933894682,
          0.15992939495759806
         ]
        },
        {
         "name": "Best Value",
         "type": "scatter",
         "x": [
          0,
          1,
          2,
          3,
          4,
          5,
          6,
          7,
          8,
          9,
          10,
          11,
          12,
          13,
          14,
          15,
          16,
          17,
          18,
          19,
          20,
          21,
          22,
          23,
          24,
          25,
          26,
          27,
          28,
          29,
          30,
          31,
          32,
          33,
          34,
          35,
          36,
          37,
          38,
          39
         ],
         "y": [
          0.8734844083532725,
          0.8734844083532725,
          0.8734844083532725,
          0.8982233668195068,
          0.8982233668195068,
          0.8982233668195068,
          0.9000775261017321,
          0.9000775261017321,
          0.9000775261017321,
          0.9000775261017321,
          0.9000775261017321,
          0.9000775261017321,
          0.9000775261017321,
          0.9000775261017321,
          0.9000775261017321,
          0.9000775261017321,
          0.9000775261017321,
          0.9000775261017321,
          0.9000775261017321,
          0.9000775261017321,
          0.9000775261017321,
          0.9000775261017321,
          0.9101929756426221,
          0.9101929756426221,
          0.9101929756426221,
          0.9101929756426221,
          0.9101929756426221,
          0.9101929756426221,
          0.9101929756426221,
          0.9101929756426221,
          0.9101929756426221,
          0.9101929756426221,
          0.9101929756426221,
          0.9101929756426221,
          0.9101929756426221,
          0.9101929756426221,
          0.9101929756426221,
          0.9101929756426221,
          0.9101929756426221,
          0.9101929756426221
         ]
        }
       ],
       "layout": {
        "template": {
         "data": {
          "bar": [
           {
            "error_x": {
             "color": "#2a3f5f"
            },
            "error_y": {
             "color": "#2a3f5f"
            },
            "marker": {
             "line": {
              "color": "#E5ECF6",
              "width": 0.5
             }
            },
            "type": "bar"
           }
          ],
          "barpolar": [
           {
            "marker": {
             "line": {
              "color": "#E5ECF6",
              "width": 0.5
             }
            },
            "type": "barpolar"
           }
          ],
          "carpet": [
           {
            "aaxis": {
             "endlinecolor": "#2a3f5f",
             "gridcolor": "white",
             "linecolor": "white",
             "minorgridcolor": "white",
             "startlinecolor": "#2a3f5f"
            },
            "baxis": {
             "endlinecolor": "#2a3f5f",
             "gridcolor": "white",
             "linecolor": "white",
             "minorgridcolor": "white",
             "startlinecolor": "#2a3f5f"
            },
            "type": "carpet"
           }
          ],
          "choropleth": [
           {
            "colorbar": {
             "outlinewidth": 0,
             "ticks": ""
            },
            "type": "choropleth"
           }
          ],
          "contour": [
           {
            "colorbar": {
             "outlinewidth": 0,
             "ticks": ""
            },
            "colorscale": [
             [
              0,
              "#0d0887"
             ],
             [
              0.1111111111111111,
              "#46039f"
             ],
             [
              0.2222222222222222,
              "#7201a8"
             ],
             [
              0.3333333333333333,
              "#9c179e"
             ],
             [
              0.4444444444444444,
              "#bd3786"
             ],
             [
              0.5555555555555556,
              "#d8576b"
             ],
             [
              0.6666666666666666,
              "#ed7953"
             ],
             [
              0.7777777777777778,
              "#fb9f3a"
             ],
             [
              0.8888888888888888,
              "#fdca26"
             ],
             [
              1,
              "#f0f921"
             ]
            ],
            "type": "contour"
           }
          ],
          "contourcarpet": [
           {
            "colorbar": {
             "outlinewidth": 0,
             "ticks": ""
            },
            "type": "contourcarpet"
           }
          ],
          "heatmap": [
           {
            "colorbar": {
             "outlinewidth": 0,
             "ticks": ""
            },
            "colorscale": [
             [
              0,
              "#0d0887"
             ],
             [
              0.1111111111111111,
              "#46039f"
             ],
             [
              0.2222222222222222,
              "#7201a8"
             ],
             [
              0.3333333333333333,
              "#9c179e"
             ],
             [
              0.4444444444444444,
              "#bd3786"
             ],
             [
              0.5555555555555556,
              "#d8576b"
             ],
             [
              0.6666666666666666,
              "#ed7953"
             ],
             [
              0.7777777777777778,
              "#fb9f3a"
             ],
             [
              0.8888888888888888,
              "#fdca26"
             ],
             [
              1,
              "#f0f921"
             ]
            ],
            "type": "heatmap"
           }
          ],
          "heatmapgl": [
           {
            "colorbar": {
             "outlinewidth": 0,
             "ticks": ""
            },
            "colorscale": [
             [
              0,
              "#0d0887"
             ],
             [
              0.1111111111111111,
              "#46039f"
             ],
             [
              0.2222222222222222,
              "#7201a8"
             ],
             [
              0.3333333333333333,
              "#9c179e"
             ],
             [
              0.4444444444444444,
              "#bd3786"
             ],
             [
              0.5555555555555556,
              "#d8576b"
             ],
             [
              0.6666666666666666,
              "#ed7953"
             ],
             [
              0.7777777777777778,
              "#fb9f3a"
             ],
             [
              0.8888888888888888,
              "#fdca26"
             ],
             [
              1,
              "#f0f921"
             ]
            ],
            "type": "heatmapgl"
           }
          ],
          "histogram": [
           {
            "marker": {
             "colorbar": {
              "outlinewidth": 0,
              "ticks": ""
             }
            },
            "type": "histogram"
           }
          ],
          "histogram2d": [
           {
            "colorbar": {
             "outlinewidth": 0,
             "ticks": ""
            },
            "colorscale": [
             [
              0,
              "#0d0887"
             ],
             [
              0.1111111111111111,
              "#46039f"
             ],
             [
              0.2222222222222222,
              "#7201a8"
             ],
             [
              0.3333333333333333,
              "#9c179e"
             ],
             [
              0.4444444444444444,
              "#bd3786"
             ],
             [
              0.5555555555555556,
              "#d8576b"
             ],
             [
              0.6666666666666666,
              "#ed7953"
             ],
             [
              0.7777777777777778,
              "#fb9f3a"
             ],
             [
              0.8888888888888888,
              "#fdca26"
             ],
             [
              1,
              "#f0f921"
             ]
            ],
            "type": "histogram2d"
           }
          ],
          "histogram2dcontour": [
           {
            "colorbar": {
             "outlinewidth": 0,
             "ticks": ""
            },
            "colorscale": [
             [
              0,
              "#0d0887"
             ],
             [
              0.1111111111111111,
              "#46039f"
             ],
             [
              0.2222222222222222,
              "#7201a8"
             ],
             [
              0.3333333333333333,
              "#9c179e"
             ],
             [
              0.4444444444444444,
              "#bd3786"
             ],
             [
              0.5555555555555556,
              "#d8576b"
             ],
             [
              0.6666666666666666,
              "#ed7953"
             ],
             [
              0.7777777777777778,
              "#fb9f3a"
             ],
             [
              0.8888888888888888,
              "#fdca26"
             ],
             [
              1,
              "#f0f921"
             ]
            ],
            "type": "histogram2dcontour"
           }
          ],
          "mesh3d": [
           {
            "colorbar": {
             "outlinewidth": 0,
             "ticks": ""
            },
            "type": "mesh3d"
           }
          ],
          "parcoords": [
           {
            "line": {
             "colorbar": {
              "outlinewidth": 0,
              "ticks": ""
             }
            },
            "type": "parcoords"
           }
          ],
          "pie": [
           {
            "automargin": true,
            "type": "pie"
           }
          ],
          "scatter": [
           {
            "marker": {
             "colorbar": {
              "outlinewidth": 0,
              "ticks": ""
             }
            },
            "type": "scatter"
           }
          ],
          "scatter3d": [
           {
            "line": {
             "colorbar": {
              "outlinewidth": 0,
              "ticks": ""
             }
            },
            "marker": {
             "colorbar": {
              "outlinewidth": 0,
              "ticks": ""
             }
            },
            "type": "scatter3d"
           }
          ],
          "scattercarpet": [
           {
            "marker": {
             "colorbar": {
              "outlinewidth": 0,
              "ticks": ""
             }
            },
            "type": "scattercarpet"
           }
          ],
          "scattergeo": [
           {
            "marker": {
             "colorbar": {
              "outlinewidth": 0,
              "ticks": ""
             }
            },
            "type": "scattergeo"
           }
          ],
          "scattergl": [
           {
            "marker": {
             "colorbar": {
              "outlinewidth": 0,
              "ticks": ""
             }
            },
            "type": "scattergl"
           }
          ],
          "scattermapbox": [
           {
            "marker": {
             "colorbar": {
              "outlinewidth": 0,
              "ticks": ""
             }
            },
            "type": "scattermapbox"
           }
          ],
          "scatterpolar": [
           {
            "marker": {
             "colorbar": {
              "outlinewidth": 0,
              "ticks": ""
             }
            },
            "type": "scatterpolar"
           }
          ],
          "scatterpolargl": [
           {
            "marker": {
             "colorbar": {
              "outlinewidth": 0,
              "ticks": ""
             }
            },
            "type": "scatterpolargl"
           }
          ],
          "scatterternary": [
           {
            "marker": {
             "colorbar": {
              "outlinewidth": 0,
              "ticks": ""
             }
            },
            "type": "scatterternary"
           }
          ],
          "surface": [
           {
            "colorbar": {
             "outlinewidth": 0,
             "ticks": ""
            },
            "colorscale": [
             [
              0,
              "#0d0887"
             ],
             [
              0.1111111111111111,
              "#46039f"
             ],
             [
              0.2222222222222222,
              "#7201a8"
             ],
             [
              0.3333333333333333,
              "#9c179e"
             ],
             [
              0.4444444444444444,
              "#bd3786"
             ],
             [
              0.5555555555555556,
              "#d8576b"
             ],
             [
              0.6666666666666666,
              "#ed7953"
             ],
             [
              0.7777777777777778,
              "#fb9f3a"
             ],
             [
              0.8888888888888888,
              "#fdca26"
             ],
             [
              1,
              "#f0f921"
             ]
            ],
            "type": "surface"
           }
          ],
          "table": [
           {
            "cells": {
             "fill": {
              "color": "#EBF0F8"
             },
             "line": {
              "color": "white"
             }
            },
            "header": {
             "fill": {
              "color": "#C8D4E3"
             },
             "line": {
              "color": "white"
             }
            },
            "type": "table"
           }
          ]
         },
         "layout": {
          "annotationdefaults": {
           "arrowcolor": "#2a3f5f",
           "arrowhead": 0,
           "arrowwidth": 1
          },
          "autotypenumbers": "strict",
          "coloraxis": {
           "colorbar": {
            "outlinewidth": 0,
            "ticks": ""
           }
          },
          "colorscale": {
           "diverging": [
            [
             0,
             "#8e0152"
            ],
            [
             0.1,
             "#c51b7d"
            ],
            [
             0.2,
             "#de77ae"
            ],
            [
             0.3,
             "#f1b6da"
            ],
            [
             0.4,
             "#fde0ef"
            ],
            [
             0.5,
             "#f7f7f7"
            ],
            [
             0.6,
             "#e6f5d0"
            ],
            [
             0.7,
             "#b8e186"
            ],
            [
             0.8,
             "#7fbc41"
            ],
            [
             0.9,
             "#4d9221"
            ],
            [
             1,
             "#276419"
            ]
           ],
           "sequential": [
            [
             0,
             "#0d0887"
            ],
            [
             0.1111111111111111,
             "#46039f"
            ],
            [
             0.2222222222222222,
             "#7201a8"
            ],
            [
             0.3333333333333333,
             "#9c179e"
            ],
            [
             0.4444444444444444,
             "#bd3786"
            ],
            [
             0.5555555555555556,
             "#d8576b"
            ],
            [
             0.6666666666666666,
             "#ed7953"
            ],
            [
             0.7777777777777778,
             "#fb9f3a"
            ],
            [
             0.8888888888888888,
             "#fdca26"
            ],
            [
             1,
             "#f0f921"
            ]
           ],
           "sequentialminus": [
            [
             0,
             "#0d0887"
            ],
            [
             0.1111111111111111,
             "#46039f"
            ],
            [
             0.2222222222222222,
             "#7201a8"
            ],
            [
             0.3333333333333333,
             "#9c179e"
            ],
            [
             0.4444444444444444,
             "#bd3786"
            ],
            [
             0.5555555555555556,
             "#d8576b"
            ],
            [
             0.6666666666666666,
             "#ed7953"
            ],
            [
             0.7777777777777778,
             "#fb9f3a"
            ],
            [
             0.8888888888888888,
             "#fdca26"
            ],
            [
             1,
             "#f0f921"
            ]
           ]
          },
          "colorway": [
           "#636efa",
           "#EF553B",
           "#00cc96",
           "#ab63fa",
           "#FFA15A",
           "#19d3f3",
           "#FF6692",
           "#B6E880",
           "#FF97FF",
           "#FECB52"
          ],
          "font": {
           "color": "#2a3f5f"
          },
          "geo": {
           "bgcolor": "white",
           "lakecolor": "white",
           "landcolor": "#E5ECF6",
           "showlakes": true,
           "showland": true,
           "subunitcolor": "white"
          },
          "hoverlabel": {
           "align": "left"
          },
          "hovermode": "closest",
          "mapbox": {
           "style": "light"
          },
          "paper_bgcolor": "white",
          "plot_bgcolor": "#E5ECF6",
          "polar": {
           "angularaxis": {
            "gridcolor": "white",
            "linecolor": "white",
            "ticks": ""
           },
           "bgcolor": "#E5ECF6",
           "radialaxis": {
            "gridcolor": "white",
            "linecolor": "white",
            "ticks": ""
           }
          },
          "scene": {
           "xaxis": {
            "backgroundcolor": "#E5ECF6",
            "gridcolor": "white",
            "gridwidth": 2,
            "linecolor": "white",
            "showbackground": true,
            "ticks": "",
            "zerolinecolor": "white"
           },
           "yaxis": {
            "backgroundcolor": "#E5ECF6",
            "gridcolor": "white",
            "gridwidth": 2,
            "linecolor": "white",
            "showbackground": true,
            "ticks": "",
            "zerolinecolor": "white"
           },
           "zaxis": {
            "backgroundcolor": "#E5ECF6",
            "gridcolor": "white",
            "gridwidth": 2,
            "linecolor": "white",
            "showbackground": true,
            "ticks": "",
            "zerolinecolor": "white"
           }
          },
          "shapedefaults": {
           "line": {
            "color": "#2a3f5f"
           }
          },
          "ternary": {
           "aaxis": {
            "gridcolor": "white",
            "linecolor": "white",
            "ticks": ""
           },
           "baxis": {
            "gridcolor": "white",
            "linecolor": "white",
            "ticks": ""
           },
           "bgcolor": "#E5ECF6",
           "caxis": {
            "gridcolor": "white",
            "linecolor": "white",
            "ticks": ""
           }
          },
          "title": {
           "x": 0.05
          },
          "xaxis": {
           "automargin": true,
           "gridcolor": "white",
           "linecolor": "white",
           "ticks": "",
           "title": {
            "standoff": 15
           },
           "zerolinecolor": "white",
           "zerolinewidth": 2
          },
          "yaxis": {
           "automargin": true,
           "gridcolor": "white",
           "linecolor": "white",
           "ticks": "",
           "title": {
            "standoff": 15
           },
           "zerolinecolor": "white",
           "zerolinewidth": 2
          }
         }
        },
        "title": {
         "text": "Optimization History Plot"
        },
        "xaxis": {
         "title": {
          "text": "#Trials"
         }
        },
        "yaxis": {
         "title": {
          "text": "Objective Value"
         }
        }
       }
      }
     },
     "metadata": {},
     "output_type": "display_data"
    },
    {
     "data": {
      "application/vnd.plotly.v1+json": {
       "config": {
        "plotlyServerURL": "https://plot.ly"
       },
       "data": [
        {
         "marker": {
          "color": [
           0,
           1,
           2,
           3,
           4,
           5,
           6,
           7,
           8,
           9,
           10,
           11,
           12,
           13,
           14,
           15,
           16,
           17,
           18,
           19,
           20,
           21,
           22,
           23,
           24,
           25,
           26,
           27,
           28,
           29,
           30,
           31,
           32,
           33,
           34,
           35,
           36,
           37,
           38,
           39
          ],
          "colorbar": {
           "title": {
            "text": "#Trials"
           },
           "x": 1,
           "xpad": 40
          },
          "colorscale": [
           [
            0,
            "rgb(247,251,255)"
           ],
           [
            0.125,
            "rgb(222,235,247)"
           ],
           [
            0.25,
            "rgb(198,219,239)"
           ],
           [
            0.375,
            "rgb(158,202,225)"
           ],
           [
            0.5,
            "rgb(107,174,214)"
           ],
           [
            0.625,
            "rgb(66,146,198)"
           ],
           [
            0.75,
            "rgb(33,113,181)"
           ],
           [
            0.875,
            "rgb(8,81,156)"
           ],
           [
            1,
            "rgb(8,48,107)"
           ]
          ],
          "line": {
           "color": "Grey",
           "width": 0.5
          },
          "showscale": true
         },
         "mode": "markers",
         "showlegend": false,
         "type": "scatter",
         "x": [
          7,
          5,
          9,
          6,
          5,
          8,
          5,
          8,
          8,
          5,
          6,
          6,
          6,
          5,
          5,
          7,
          6,
          5,
          5,
          5,
          6,
          5,
          5,
          6,
          6,
          7,
          6,
          5,
          5,
          5,
          5,
          5,
          5,
          6,
          5,
          5,
          5,
          5,
          5,
          5
         ],
         "xaxis": "x",
         "y": [
          0.8734844083532725,
          0.4176050031743368,
          0.7763500726906817,
          0.8982233668195068,
          0.8875751762016973,
          0.7441635726612426,
          0.9000775261017321,
          0.8600536293848947,
          0.6835952266199663,
          0.861365942678785,
          0.8608093323463707,
          0.8906026913790982,
          0.8994248732179219,
          0.8980049510221201,
          0.8900230634175444,
          0.8562766475903634,
          0.885473767221456,
          0.8576926519857665,
          0.8998857060840774,
          0.8985199763040091,
          0.8670649164189,
          0.8996450860298313,
          0.9101929756426221,
          0.9101929756426221,
          0.9101929756426221,
          0.8702433940731349,
          0.9095371075130104,
          0.9101929756426221,
          0.8737934040489648,
          0.9095895283219754,
          0.8706694394102406,
          0.9101929756426221,
          0.9101929756426221,
          0.9095371075130104,
          0.8719401240373912,
          0.8980049510221201,
          0.9081149024776892,
          0.9001386082238905,
          0.8703497933894682,
          0.15992939495759806
         ],
         "yaxis": "y"
        },
        {
         "marker": {
          "color": [
           0,
           1,
           2,
           3,
           4,
           5,
           6,
           7,
           8,
           9,
           10,
           11,
           12,
           13,
           14,
           15,
           16,
           17,
           18,
           19,
           20,
           21,
           22,
           23,
           24,
           25,
           26,
           27,
           28,
           29,
           30,
           31,
           32,
           33,
           34,
           35,
           36,
           37,
           38,
           39
          ],
          "colorbar": {
           "title": {
            "text": "#Trials"
           },
           "x": 1,
           "xpad": 40
          },
          "colorscale": [
           [
            0,
            "rgb(247,251,255)"
           ],
           [
            0.125,
            "rgb(222,235,247)"
           ],
           [
            0.25,
            "rgb(198,219,239)"
           ],
           [
            0.375,
            "rgb(158,202,225)"
           ],
           [
            0.5,
            "rgb(107,174,214)"
           ],
           [
            0.625,
            "rgb(66,146,198)"
           ],
           [
            0.75,
            "rgb(33,113,181)"
           ],
           [
            0.875,
            "rgb(8,81,156)"
           ],
           [
            1,
            "rgb(8,48,107)"
           ]
          ],
          "line": {
           "color": "Grey",
           "width": 0.5
          },
          "showscale": false
         },
         "mode": "markers",
         "showlegend": false,
         "type": "scatter",
         "x": [
          2,
          1,
          9,
          7,
          6,
          10,
          7,
          1,
          10,
          5,
          4,
          7,
          8,
          8,
          8,
          4,
          6,
          9,
          8,
          7,
          5,
          8,
          9,
          9,
          9,
          10,
          9,
          9,
          10,
          9,
          10,
          9,
          9,
          9,
          10,
          8,
          9,
          7,
          10,
          8
         ],
         "xaxis": "x2",
         "y": [
          0.8734844083532725,
          0.4176050031743368,
          0.7763500726906817,
          0.8982233668195068,
          0.8875751762016973,
          0.7441635726612426,
          0.9000775261017321,
          0.8600536293848947,
          0.6835952266199663,
          0.861365942678785,
          0.8608093323463707,
          0.8906026913790982,
          0.8994248732179219,
          0.8980049510221201,
          0.8900230634175444,
          0.8562766475903634,
          0.885473767221456,
          0.8576926519857665,
          0.8998857060840774,
          0.8985199763040091,
          0.8670649164189,
          0.8996450860298313,
          0.9101929756426221,
          0.9101929756426221,
          0.9101929756426221,
          0.8702433940731349,
          0.9095371075130104,
          0.9101929756426221,
          0.8737934040489648,
          0.9095895283219754,
          0.8706694394102406,
          0.9101929756426221,
          0.9101929756426221,
          0.9095371075130104,
          0.8719401240373912,
          0.8980049510221201,
          0.9081149024776892,
          0.9001386082238905,
          0.8703497933894682,
          0.15992939495759806
         ],
         "yaxis": "y2"
        },
        {
         "marker": {
          "color": [
           0,
           1,
           2,
           3,
           4,
           5,
           6,
           7,
           8,
           9,
           10,
           11,
           12,
           13,
           14,
           15,
           16,
           17,
           18,
           19,
           20,
           21,
           22,
           23,
           24,
           25,
           26,
           27,
           28,
           29,
           30,
           31,
           32,
           33,
           34,
           35,
           36,
           37,
           38,
           39
          ],
          "colorbar": {
           "title": {
            "text": "#Trials"
           },
           "x": 1,
           "xpad": 40
          },
          "colorscale": [
           [
            0,
            "rgb(247,251,255)"
           ],
           [
            0.125,
            "rgb(222,235,247)"
           ],
           [
            0.25,
            "rgb(198,219,239)"
           ],
           [
            0.375,
            "rgb(158,202,225)"
           ],
           [
            0.5,
            "rgb(107,174,214)"
           ],
           [
            0.625,
            "rgb(66,146,198)"
           ],
           [
            0.75,
            "rgb(33,113,181)"
           ],
           [
            0.875,
            "rgb(8,81,156)"
           ],
           [
            1,
            "rgb(8,48,107)"
           ]
          ],
          "line": {
           "color": "Grey",
           "width": 0.5
          },
          "showscale": false
         },
         "mode": "markers",
         "showlegend": false,
         "type": "scatter",
         "x": [
          44,
          3,
          12,
          37,
          37,
          10,
          41,
          15,
          8,
          35,
          49,
          27,
          38,
          50,
          27,
          43,
          32,
          20,
          43,
          45,
          42,
          39,
          50,
          50,
          50,
          50,
          47,
          50,
          32,
          46,
          47,
          50,
          50,
          47,
          46,
          50,
          40,
          44,
          48,
          1
         ],
         "xaxis": "x3",
         "y": [
          0.8734844083532725,
          0.4176050031743368,
          0.7763500726906817,
          0.8982233668195068,
          0.8875751762016973,
          0.7441635726612426,
          0.9000775261017321,
          0.8600536293848947,
          0.6835952266199663,
          0.861365942678785,
          0.8608093323463707,
          0.8906026913790982,
          0.8994248732179219,
          0.8980049510221201,
          0.8900230634175444,
          0.8562766475903634,
          0.885473767221456,
          0.8576926519857665,
          0.8998857060840774,
          0.8985199763040091,
          0.8670649164189,
          0.8996450860298313,
          0.9101929756426221,
          0.9101929756426221,
          0.9101929756426221,
          0.8702433940731349,
          0.9095371075130104,
          0.9101929756426221,
          0.8737934040489648,
          0.9095895283219754,
          0.8706694394102406,
          0.9101929756426221,
          0.9101929756426221,
          0.9095371075130104,
          0.8719401240373912,
          0.8980049510221201,
          0.9081149024776892,
          0.9001386082238905,
          0.8703497933894682,
          0.15992939495759806
         ],
         "yaxis": "y3"
        }
       ],
       "layout": {
        "template": {
         "data": {
          "bar": [
           {
            "error_x": {
             "color": "#2a3f5f"
            },
            "error_y": {
             "color": "#2a3f5f"
            },
            "marker": {
             "line": {
              "color": "#E5ECF6",
              "width": 0.5
             }
            },
            "type": "bar"
           }
          ],
          "barpolar": [
           {
            "marker": {
             "line": {
              "color": "#E5ECF6",
              "width": 0.5
             }
            },
            "type": "barpolar"
           }
          ],
          "carpet": [
           {
            "aaxis": {
             "endlinecolor": "#2a3f5f",
             "gridcolor": "white",
             "linecolor": "white",
             "minorgridcolor": "white",
             "startlinecolor": "#2a3f5f"
            },
            "baxis": {
             "endlinecolor": "#2a3f5f",
             "gridcolor": "white",
             "linecolor": "white",
             "minorgridcolor": "white",
             "startlinecolor": "#2a3f5f"
            },
            "type": "carpet"
           }
          ],
          "choropleth": [
           {
            "colorbar": {
             "outlinewidth": 0,
             "ticks": ""
            },
            "type": "choropleth"
           }
          ],
          "contour": [
           {
            "colorbar": {
             "outlinewidth": 0,
             "ticks": ""
            },
            "colorscale": [
             [
              0,
              "#0d0887"
             ],
             [
              0.1111111111111111,
              "#46039f"
             ],
             [
              0.2222222222222222,
              "#7201a8"
             ],
             [
              0.3333333333333333,
              "#9c179e"
             ],
             [
              0.4444444444444444,
              "#bd3786"
             ],
             [
              0.5555555555555556,
              "#d8576b"
             ],
             [
              0.6666666666666666,
              "#ed7953"
             ],
             [
              0.7777777777777778,
              "#fb9f3a"
             ],
             [
              0.8888888888888888,
              "#fdca26"
             ],
             [
              1,
              "#f0f921"
             ]
            ],
            "type": "contour"
           }
          ],
          "contourcarpet": [
           {
            "colorbar": {
             "outlinewidth": 0,
             "ticks": ""
            },
            "type": "contourcarpet"
           }
          ],
          "heatmap": [
           {
            "colorbar": {
             "outlinewidth": 0,
             "ticks": ""
            },
            "colorscale": [
             [
              0,
              "#0d0887"
             ],
             [
              0.1111111111111111,
              "#46039f"
             ],
             [
              0.2222222222222222,
              "#7201a8"
             ],
             [
              0.3333333333333333,
              "#9c179e"
             ],
             [
              0.4444444444444444,
              "#bd3786"
             ],
             [
              0.5555555555555556,
              "#d8576b"
             ],
             [
              0.6666666666666666,
              "#ed7953"
             ],
             [
              0.7777777777777778,
              "#fb9f3a"
             ],
             [
              0.8888888888888888,
              "#fdca26"
             ],
             [
              1,
              "#f0f921"
             ]
            ],
            "type": "heatmap"
           }
          ],
          "heatmapgl": [
           {
            "colorbar": {
             "outlinewidth": 0,
             "ticks": ""
            },
            "colorscale": [
             [
              0,
              "#0d0887"
             ],
             [
              0.1111111111111111,
              "#46039f"
             ],
             [
              0.2222222222222222,
              "#7201a8"
             ],
             [
              0.3333333333333333,
              "#9c179e"
             ],
             [
              0.4444444444444444,
              "#bd3786"
             ],
             [
              0.5555555555555556,
              "#d8576b"
             ],
             [
              0.6666666666666666,
              "#ed7953"
             ],
             [
              0.7777777777777778,
              "#fb9f3a"
             ],
             [
              0.8888888888888888,
              "#fdca26"
             ],
             [
              1,
              "#f0f921"
             ]
            ],
            "type": "heatmapgl"
           }
          ],
          "histogram": [
           {
            "marker": {
             "colorbar": {
              "outlinewidth": 0,
              "ticks": ""
             }
            },
            "type": "histogram"
           }
          ],
          "histogram2d": [
           {
            "colorbar": {
             "outlinewidth": 0,
             "ticks": ""
            },
            "colorscale": [
             [
              0,
              "#0d0887"
             ],
             [
              0.1111111111111111,
              "#46039f"
             ],
             [
              0.2222222222222222,
              "#7201a8"
             ],
             [
              0.3333333333333333,
              "#9c179e"
             ],
             [
              0.4444444444444444,
              "#bd3786"
             ],
             [
              0.5555555555555556,
              "#d8576b"
             ],
             [
              0.6666666666666666,
              "#ed7953"
             ],
             [
              0.7777777777777778,
              "#fb9f3a"
             ],
             [
              0.8888888888888888,
              "#fdca26"
             ],
             [
              1,
              "#f0f921"
             ]
            ],
            "type": "histogram2d"
           }
          ],
          "histogram2dcontour": [
           {
            "colorbar": {
             "outlinewidth": 0,
             "ticks": ""
            },
            "colorscale": [
             [
              0,
              "#0d0887"
             ],
             [
              0.1111111111111111,
              "#46039f"
             ],
             [
              0.2222222222222222,
              "#7201a8"
             ],
             [
              0.3333333333333333,
              "#9c179e"
             ],
             [
              0.4444444444444444,
              "#bd3786"
             ],
             [
              0.5555555555555556,
              "#d8576b"
             ],
             [
              0.6666666666666666,
              "#ed7953"
             ],
             [
              0.7777777777777778,
              "#fb9f3a"
             ],
             [
              0.8888888888888888,
              "#fdca26"
             ],
             [
              1,
              "#f0f921"
             ]
            ],
            "type": "histogram2dcontour"
           }
          ],
          "mesh3d": [
           {
            "colorbar": {
             "outlinewidth": 0,
             "ticks": ""
            },
            "type": "mesh3d"
           }
          ],
          "parcoords": [
           {
            "line": {
             "colorbar": {
              "outlinewidth": 0,
              "ticks": ""
             }
            },
            "type": "parcoords"
           }
          ],
          "pie": [
           {
            "automargin": true,
            "type": "pie"
           }
          ],
          "scatter": [
           {
            "marker": {
             "colorbar": {
              "outlinewidth": 0,
              "ticks": ""
             }
            },
            "type": "scatter"
           }
          ],
          "scatter3d": [
           {
            "line": {
             "colorbar": {
              "outlinewidth": 0,
              "ticks": ""
             }
            },
            "marker": {
             "colorbar": {
              "outlinewidth": 0,
              "ticks": ""
             }
            },
            "type": "scatter3d"
           }
          ],
          "scattercarpet": [
           {
            "marker": {
             "colorbar": {
              "outlinewidth": 0,
              "ticks": ""
             }
            },
            "type": "scattercarpet"
           }
          ],
          "scattergeo": [
           {
            "marker": {
             "colorbar": {
              "outlinewidth": 0,
              "ticks": ""
             }
            },
            "type": "scattergeo"
           }
          ],
          "scattergl": [
           {
            "marker": {
             "colorbar": {
              "outlinewidth": 0,
              "ticks": ""
             }
            },
            "type": "scattergl"
           }
          ],
          "scattermapbox": [
           {
            "marker": {
             "colorbar": {
              "outlinewidth": 0,
              "ticks": ""
             }
            },
            "type": "scattermapbox"
           }
          ],
          "scatterpolar": [
           {
            "marker": {
             "colorbar": {
              "outlinewidth": 0,
              "ticks": ""
             }
            },
            "type": "scatterpolar"
           }
          ],
          "scatterpolargl": [
           {
            "marker": {
             "colorbar": {
              "outlinewidth": 0,
              "ticks": ""
             }
            },
            "type": "scatterpolargl"
           }
          ],
          "scatterternary": [
           {
            "marker": {
             "colorbar": {
              "outlinewidth": 0,
              "ticks": ""
             }
            },
            "type": "scatterternary"
           }
          ],
          "surface": [
           {
            "colorbar": {
             "outlinewidth": 0,
             "ticks": ""
            },
            "colorscale": [
             [
              0,
              "#0d0887"
             ],
             [
              0.1111111111111111,
              "#46039f"
             ],
             [
              0.2222222222222222,
              "#7201a8"
             ],
             [
              0.3333333333333333,
              "#9c179e"
             ],
             [
              0.4444444444444444,
              "#bd3786"
             ],
             [
              0.5555555555555556,
              "#d8576b"
             ],
             [
              0.6666666666666666,
              "#ed7953"
             ],
             [
              0.7777777777777778,
              "#fb9f3a"
             ],
             [
              0.8888888888888888,
              "#fdca26"
             ],
             [
              1,
              "#f0f921"
             ]
            ],
            "type": "surface"
           }
          ],
          "table": [
           {
            "cells": {
             "fill": {
              "color": "#EBF0F8"
             },
             "line": {
              "color": "white"
             }
            },
            "header": {
             "fill": {
              "color": "#C8D4E3"
             },
             "line": {
              "color": "white"
             }
            },
            "type": "table"
           }
          ]
         },
         "layout": {
          "annotationdefaults": {
           "arrowcolor": "#2a3f5f",
           "arrowhead": 0,
           "arrowwidth": 1
          },
          "autotypenumbers": "strict",
          "coloraxis": {
           "colorbar": {
            "outlinewidth": 0,
            "ticks": ""
           }
          },
          "colorscale": {
           "diverging": [
            [
             0,
             "#8e0152"
            ],
            [
             0.1,
             "#c51b7d"
            ],
            [
             0.2,
             "#de77ae"
            ],
            [
             0.3,
             "#f1b6da"
            ],
            [
             0.4,
             "#fde0ef"
            ],
            [
             0.5,
             "#f7f7f7"
            ],
            [
             0.6,
             "#e6f5d0"
            ],
            [
             0.7,
             "#b8e186"
            ],
            [
             0.8,
             "#7fbc41"
            ],
            [
             0.9,
             "#4d9221"
            ],
            [
             1,
             "#276419"
            ]
           ],
           "sequential": [
            [
             0,
             "#0d0887"
            ],
            [
             0.1111111111111111,
             "#46039f"
            ],
            [
             0.2222222222222222,
             "#7201a8"
            ],
            [
             0.3333333333333333,
             "#9c179e"
            ],
            [
             0.4444444444444444,
             "#bd3786"
            ],
            [
             0.5555555555555556,
             "#d8576b"
            ],
            [
             0.6666666666666666,
             "#ed7953"
            ],
            [
             0.7777777777777778,
             "#fb9f3a"
            ],
            [
             0.8888888888888888,
             "#fdca26"
            ],
            [
             1,
             "#f0f921"
            ]
           ],
           "sequentialminus": [
            [
             0,
             "#0d0887"
            ],
            [
             0.1111111111111111,
             "#46039f"
            ],
            [
             0.2222222222222222,
             "#7201a8"
            ],
            [
             0.3333333333333333,
             "#9c179e"
            ],
            [
             0.4444444444444444,
             "#bd3786"
            ],
            [
             0.5555555555555556,
             "#d8576b"
            ],
            [
             0.6666666666666666,
             "#ed7953"
            ],
            [
             0.7777777777777778,
             "#fb9f3a"
            ],
            [
             0.8888888888888888,
             "#fdca26"
            ],
            [
             1,
             "#f0f921"
            ]
           ]
          },
          "colorway": [
           "#636efa",
           "#EF553B",
           "#00cc96",
           "#ab63fa",
           "#FFA15A",
           "#19d3f3",
           "#FF6692",
           "#B6E880",
           "#FF97FF",
           "#FECB52"
          ],
          "font": {
           "color": "#2a3f5f"
          },
          "geo": {
           "bgcolor": "white",
           "lakecolor": "white",
           "landcolor": "#E5ECF6",
           "showlakes": true,
           "showland": true,
           "subunitcolor": "white"
          },
          "hoverlabel": {
           "align": "left"
          },
          "hovermode": "closest",
          "mapbox": {
           "style": "light"
          },
          "paper_bgcolor": "white",
          "plot_bgcolor": "#E5ECF6",
          "polar": {
           "angularaxis": {
            "gridcolor": "white",
            "linecolor": "white",
            "ticks": ""
           },
           "bgcolor": "#E5ECF6",
           "radialaxis": {
            "gridcolor": "white",
            "linecolor": "white",
            "ticks": ""
           }
          },
          "scene": {
           "xaxis": {
            "backgroundcolor": "#E5ECF6",
            "gridcolor": "white",
            "gridwidth": 2,
            "linecolor": "white",
            "showbackground": true,
            "ticks": "",
            "zerolinecolor": "white"
           },
           "yaxis": {
            "backgroundcolor": "#E5ECF6",
            "gridcolor": "white",
            "gridwidth": 2,
            "linecolor": "white",
            "showbackground": true,
            "ticks": "",
            "zerolinecolor": "white"
           },
           "zaxis": {
            "backgroundcolor": "#E5ECF6",
            "gridcolor": "white",
            "gridwidth": 2,
            "linecolor": "white",
            "showbackground": true,
            "ticks": "",
            "zerolinecolor": "white"
           }
          },
          "shapedefaults": {
           "line": {
            "color": "#2a3f5f"
           }
          },
          "ternary": {
           "aaxis": {
            "gridcolor": "white",
            "linecolor": "white",
            "ticks": ""
           },
           "baxis": {
            "gridcolor": "white",
            "linecolor": "white",
            "ticks": ""
           },
           "bgcolor": "#E5ECF6",
           "caxis": {
            "gridcolor": "white",
            "linecolor": "white",
            "ticks": ""
           }
          },
          "title": {
           "x": 0.05
          },
          "xaxis": {
           "automargin": true,
           "gridcolor": "white",
           "linecolor": "white",
           "ticks": "",
           "title": {
            "standoff": 15
           },
           "zerolinecolor": "white",
           "zerolinewidth": 2
          },
          "yaxis": {
           "automargin": true,
           "gridcolor": "white",
           "linecolor": "white",
           "ticks": "",
           "title": {
            "standoff": 15
           },
           "zerolinecolor": "white",
           "zerolinewidth": 2
          }
         }
        },
        "title": {
         "text": "Slice Plot"
        },
        "xaxis": {
         "anchor": "y",
         "domain": [
          0,
          0.2888888888888889
         ],
         "title": {
          "text": "gb_max_depth"
         }
        },
        "xaxis2": {
         "anchor": "y2",
         "domain": [
          0.35555555555555557,
          0.6444444444444445
         ],
         "title": {
          "text": "gb_min_samples_leaf"
         }
        },
        "xaxis3": {
         "anchor": "y3",
         "domain": [
          0.7111111111111111,
          1
         ],
         "title": {
          "text": "gb_n_estimators"
         }
        },
        "yaxis": {
         "anchor": "x",
         "domain": [
          0,
          1
         ],
         "title": {
          "text": "Objective Value"
         }
        },
        "yaxis2": {
         "anchor": "x2",
         "domain": [
          0,
          1
         ],
         "matches": "y",
         "showticklabels": false
        },
        "yaxis3": {
         "anchor": "x3",
         "domain": [
          0,
          1
         ],
         "matches": "y",
         "showticklabels": false
        }
       }
      }
     },
     "metadata": {},
     "output_type": "display_data"
    },
    {
     "data": {
      "application/vnd.plotly.v1+json": {
       "config": {
        "plotlyServerURL": "https://plot.ly"
       },
       "data": [
        {
         "dimensions": [
          {
           "label": "Objective Value",
           "range": [
            0.15992939495759806,
            0.9101929756426221
           ],
           "values": [
            0.8734844083532725,
            0.4176050031743368,
            0.7763500726906817,
            0.8982233668195068,
            0.8875751762016973,
            0.7441635726612426,
            0.9000775261017321,
            0.8600536293848947,
            0.6835952266199663,
            0.861365942678785,
            0.8608093323463707,
            0.8906026913790982,
            0.8994248732179219,
            0.8980049510221201,
            0.8900230634175444,
            0.8562766475903634,
            0.885473767221456,
            0.8576926519857665,
            0.8998857060840774,
            0.8985199763040091,
            0.8670649164189,
            0.8996450860298313,
            0.9101929756426221,
            0.9101929756426221,
            0.9101929756426221,
            0.8702433940731349,
            0.9095371075130104,
            0.9101929756426221,
            0.8737934040489648,
            0.9095895283219754,
            0.8706694394102406,
            0.9101929756426221,
            0.9101929756426221,
            0.9095371075130104,
            0.8719401240373912,
            0.8980049510221201,
            0.9081149024776892,
            0.9001386082238905,
            0.8703497933894682,
            0.15992939495759806
           ]
          },
          {
           "label": "gb_max_depth",
           "range": [
            5,
            9
           ],
           "values": [
            7,
            5,
            9,
            6,
            5,
            8,
            5,
            8,
            8,
            5,
            6,
            6,
            6,
            5,
            5,
            7,
            6,
            5,
            5,
            5,
            6,
            5,
            5,
            6,
            6,
            7,
            6,
            5,
            5,
            5,
            5,
            5,
            5,
            6,
            5,
            5,
            5,
            5,
            5,
            5
           ]
          },
          {
           "label": "gb_min_samples_leaf",
           "range": [
            1,
            10
           ],
           "values": [
            2,
            1,
            9,
            7,
            6,
            10,
            7,
            1,
            10,
            5,
            4,
            7,
            8,
            8,
            8,
            4,
            6,
            9,
            8,
            7,
            5,
            8,
            9,
            9,
            9,
            10,
            9,
            9,
            10,
            9,
            10,
            9,
            9,
            9,
            10,
            8,
            9,
            7,
            10,
            8
           ]
          },
          {
           "label": "gb_n_estimators",
           "range": [
            1,
            50
           ],
           "values": [
            44,
            3,
            12,
            37,
            37,
            10,
            41,
            15,
            8,
            35,
            49,
            27,
            38,
            50,
            27,
            43,
            32,
            20,
            43,
            45,
            42,
            39,
            50,
            50,
            50,
            50,
            47,
            50,
            32,
            46,
            47,
            50,
            50,
            47,
            46,
            50,
            40,
            44,
            48,
            1
           ]
          }
         ],
         "labelangle": 30,
         "labelside": "bottom",
         "line": {
          "color": [
           0.8734844083532725,
           0.4176050031743368,
           0.7763500726906817,
           0.8982233668195068,
           0.8875751762016973,
           0.7441635726612426,
           0.9000775261017321,
           0.8600536293848947,
           0.6835952266199663,
           0.861365942678785,
           0.8608093323463707,
           0.8906026913790982,
           0.8994248732179219,
           0.8980049510221201,
           0.8900230634175444,
           0.8562766475903634,
           0.885473767221456,
           0.8576926519857665,
           0.8998857060840774,
           0.8985199763040091,
           0.8670649164189,
           0.8996450860298313,
           0.9101929756426221,
           0.9101929756426221,
           0.9101929756426221,
           0.8702433940731349,
           0.9095371075130104,
           0.9101929756426221,
           0.8737934040489648,
           0.9095895283219754,
           0.8706694394102406,
           0.9101929756426221,
           0.9101929756426221,
           0.9095371075130104,
           0.8719401240373912,
           0.8980049510221201,
           0.9081149024776892,
           0.9001386082238905,
           0.8703497933894682,
           0.15992939495759806
          ],
          "colorbar": {
           "title": {
            "text": "Objective Value"
           }
          },
          "colorscale": [
           [
            0,
            "rgb(247,251,255)"
           ],
           [
            0.125,
            "rgb(222,235,247)"
           ],
           [
            0.25,
            "rgb(198,219,239)"
           ],
           [
            0.375,
            "rgb(158,202,225)"
           ],
           [
            0.5,
            "rgb(107,174,214)"
           ],
           [
            0.625,
            "rgb(66,146,198)"
           ],
           [
            0.75,
            "rgb(33,113,181)"
           ],
           [
            0.875,
            "rgb(8,81,156)"
           ],
           [
            1,
            "rgb(8,48,107)"
           ]
          ],
          "reversescale": false,
          "showscale": true
         },
         "type": "parcoords"
        }
       ],
       "layout": {
        "template": {
         "data": {
          "bar": [
           {
            "error_x": {
             "color": "#2a3f5f"
            },
            "error_y": {
             "color": "#2a3f5f"
            },
            "marker": {
             "line": {
              "color": "#E5ECF6",
              "width": 0.5
             }
            },
            "type": "bar"
           }
          ],
          "barpolar": [
           {
            "marker": {
             "line": {
              "color": "#E5ECF6",
              "width": 0.5
             }
            },
            "type": "barpolar"
           }
          ],
          "carpet": [
           {
            "aaxis": {
             "endlinecolor": "#2a3f5f",
             "gridcolor": "white",
             "linecolor": "white",
             "minorgridcolor": "white",
             "startlinecolor": "#2a3f5f"
            },
            "baxis": {
             "endlinecolor": "#2a3f5f",
             "gridcolor": "white",
             "linecolor": "white",
             "minorgridcolor": "white",
             "startlinecolor": "#2a3f5f"
            },
            "type": "carpet"
           }
          ],
          "choropleth": [
           {
            "colorbar": {
             "outlinewidth": 0,
             "ticks": ""
            },
            "type": "choropleth"
           }
          ],
          "contour": [
           {
            "colorbar": {
             "outlinewidth": 0,
             "ticks": ""
            },
            "colorscale": [
             [
              0,
              "#0d0887"
             ],
             [
              0.1111111111111111,
              "#46039f"
             ],
             [
              0.2222222222222222,
              "#7201a8"
             ],
             [
              0.3333333333333333,
              "#9c179e"
             ],
             [
              0.4444444444444444,
              "#bd3786"
             ],
             [
              0.5555555555555556,
              "#d8576b"
             ],
             [
              0.6666666666666666,
              "#ed7953"
             ],
             [
              0.7777777777777778,
              "#fb9f3a"
             ],
             [
              0.8888888888888888,
              "#fdca26"
             ],
             [
              1,
              "#f0f921"
             ]
            ],
            "type": "contour"
           }
          ],
          "contourcarpet": [
           {
            "colorbar": {
             "outlinewidth": 0,
             "ticks": ""
            },
            "type": "contourcarpet"
           }
          ],
          "heatmap": [
           {
            "colorbar": {
             "outlinewidth": 0,
             "ticks": ""
            },
            "colorscale": [
             [
              0,
              "#0d0887"
             ],
             [
              0.1111111111111111,
              "#46039f"
             ],
             [
              0.2222222222222222,
              "#7201a8"
             ],
             [
              0.3333333333333333,
              "#9c179e"
             ],
             [
              0.4444444444444444,
              "#bd3786"
             ],
             [
              0.5555555555555556,
              "#d8576b"
             ],
             [
              0.6666666666666666,
              "#ed7953"
             ],
             [
              0.7777777777777778,
              "#fb9f3a"
             ],
             [
              0.8888888888888888,
              "#fdca26"
             ],
             [
              1,
              "#f0f921"
             ]
            ],
            "type": "heatmap"
           }
          ],
          "heatmapgl": [
           {
            "colorbar": {
             "outlinewidth": 0,
             "ticks": ""
            },
            "colorscale": [
             [
              0,
              "#0d0887"
             ],
             [
              0.1111111111111111,
              "#46039f"
             ],
             [
              0.2222222222222222,
              "#7201a8"
             ],
             [
              0.3333333333333333,
              "#9c179e"
             ],
             [
              0.4444444444444444,
              "#bd3786"
             ],
             [
              0.5555555555555556,
              "#d8576b"
             ],
             [
              0.6666666666666666,
              "#ed7953"
             ],
             [
              0.7777777777777778,
              "#fb9f3a"
             ],
             [
              0.8888888888888888,
              "#fdca26"
             ],
             [
              1,
              "#f0f921"
             ]
            ],
            "type": "heatmapgl"
           }
          ],
          "histogram": [
           {
            "marker": {
             "colorbar": {
              "outlinewidth": 0,
              "ticks": ""
             }
            },
            "type": "histogram"
           }
          ],
          "histogram2d": [
           {
            "colorbar": {
             "outlinewidth": 0,
             "ticks": ""
            },
            "colorscale": [
             [
              0,
              "#0d0887"
             ],
             [
              0.1111111111111111,
              "#46039f"
             ],
             [
              0.2222222222222222,
              "#7201a8"
             ],
             [
              0.3333333333333333,
              "#9c179e"
             ],
             [
              0.4444444444444444,
              "#bd3786"
             ],
             [
              0.5555555555555556,
              "#d8576b"
             ],
             [
              0.6666666666666666,
              "#ed7953"
             ],
             [
              0.7777777777777778,
              "#fb9f3a"
             ],
             [
              0.8888888888888888,
              "#fdca26"
             ],
             [
              1,
              "#f0f921"
             ]
            ],
            "type": "histogram2d"
           }
          ],
          "histogram2dcontour": [
           {
            "colorbar": {
             "outlinewidth": 0,
             "ticks": ""
            },
            "colorscale": [
             [
              0,
              "#0d0887"
             ],
             [
              0.1111111111111111,
              "#46039f"
             ],
             [
              0.2222222222222222,
              "#7201a8"
             ],
             [
              0.3333333333333333,
              "#9c179e"
             ],
             [
              0.4444444444444444,
              "#bd3786"
             ],
             [
              0.5555555555555556,
              "#d8576b"
             ],
             [
              0.6666666666666666,
              "#ed7953"
             ],
             [
              0.7777777777777778,
              "#fb9f3a"
             ],
             [
              0.8888888888888888,
              "#fdca26"
             ],
             [
              1,
              "#f0f921"
             ]
            ],
            "type": "histogram2dcontour"
           }
          ],
          "mesh3d": [
           {
            "colorbar": {
             "outlinewidth": 0,
             "ticks": ""
            },
            "type": "mesh3d"
           }
          ],
          "parcoords": [
           {
            "line": {
             "colorbar": {
              "outlinewidth": 0,
              "ticks": ""
             }
            },
            "type": "parcoords"
           }
          ],
          "pie": [
           {
            "automargin": true,
            "type": "pie"
           }
          ],
          "scatter": [
           {
            "marker": {
             "colorbar": {
              "outlinewidth": 0,
              "ticks": ""
             }
            },
            "type": "scatter"
           }
          ],
          "scatter3d": [
           {
            "line": {
             "colorbar": {
              "outlinewidth": 0,
              "ticks": ""
             }
            },
            "marker": {
             "colorbar": {
              "outlinewidth": 0,
              "ticks": ""
             }
            },
            "type": "scatter3d"
           }
          ],
          "scattercarpet": [
           {
            "marker": {
             "colorbar": {
              "outlinewidth": 0,
              "ticks": ""
             }
            },
            "type": "scattercarpet"
           }
          ],
          "scattergeo": [
           {
            "marker": {
             "colorbar": {
              "outlinewidth": 0,
              "ticks": ""
             }
            },
            "type": "scattergeo"
           }
          ],
          "scattergl": [
           {
            "marker": {
             "colorbar": {
              "outlinewidth": 0,
              "ticks": ""
             }
            },
            "type": "scattergl"
           }
          ],
          "scattermapbox": [
           {
            "marker": {
             "colorbar": {
              "outlinewidth": 0,
              "ticks": ""
             }
            },
            "type": "scattermapbox"
           }
          ],
          "scatterpolar": [
           {
            "marker": {
             "colorbar": {
              "outlinewidth": 0,
              "ticks": ""
             }
            },
            "type": "scatterpolar"
           }
          ],
          "scatterpolargl": [
           {
            "marker": {
             "colorbar": {
              "outlinewidth": 0,
              "ticks": ""
             }
            },
            "type": "scatterpolargl"
           }
          ],
          "scatterternary": [
           {
            "marker": {
             "colorbar": {
              "outlinewidth": 0,
              "ticks": ""
             }
            },
            "type": "scatterternary"
           }
          ],
          "surface": [
           {
            "colorbar": {
             "outlinewidth": 0,
             "ticks": ""
            },
            "colorscale": [
             [
              0,
              "#0d0887"
             ],
             [
              0.1111111111111111,
              "#46039f"
             ],
             [
              0.2222222222222222,
              "#7201a8"
             ],
             [
              0.3333333333333333,
              "#9c179e"
             ],
             [
              0.4444444444444444,
              "#bd3786"
             ],
             [
              0.5555555555555556,
              "#d8576b"
             ],
             [
              0.6666666666666666,
              "#ed7953"
             ],
             [
              0.7777777777777778,
              "#fb9f3a"
             ],
             [
              0.8888888888888888,
              "#fdca26"
             ],
             [
              1,
              "#f0f921"
             ]
            ],
            "type": "surface"
           }
          ],
          "table": [
           {
            "cells": {
             "fill": {
              "color": "#EBF0F8"
             },
             "line": {
              "color": "white"
             }
            },
            "header": {
             "fill": {
              "color": "#C8D4E3"
             },
             "line": {
              "color": "white"
             }
            },
            "type": "table"
           }
          ]
         },
         "layout": {
          "annotationdefaults": {
           "arrowcolor": "#2a3f5f",
           "arrowhead": 0,
           "arrowwidth": 1
          },
          "autotypenumbers": "strict",
          "coloraxis": {
           "colorbar": {
            "outlinewidth": 0,
            "ticks": ""
           }
          },
          "colorscale": {
           "diverging": [
            [
             0,
             "#8e0152"
            ],
            [
             0.1,
             "#c51b7d"
            ],
            [
             0.2,
             "#de77ae"
            ],
            [
             0.3,
             "#f1b6da"
            ],
            [
             0.4,
             "#fde0ef"
            ],
            [
             0.5,
             "#f7f7f7"
            ],
            [
             0.6,
             "#e6f5d0"
            ],
            [
             0.7,
             "#b8e186"
            ],
            [
             0.8,
             "#7fbc41"
            ],
            [
             0.9,
             "#4d9221"
            ],
            [
             1,
             "#276419"
            ]
           ],
           "sequential": [
            [
             0,
             "#0d0887"
            ],
            [
             0.1111111111111111,
             "#46039f"
            ],
            [
             0.2222222222222222,
             "#7201a8"
            ],
            [
             0.3333333333333333,
             "#9c179e"
            ],
            [
             0.4444444444444444,
             "#bd3786"
            ],
            [
             0.5555555555555556,
             "#d8576b"
            ],
            [
             0.6666666666666666,
             "#ed7953"
            ],
            [
             0.7777777777777778,
             "#fb9f3a"
            ],
            [
             0.8888888888888888,
             "#fdca26"
            ],
            [
             1,
             "#f0f921"
            ]
           ],
           "sequentialminus": [
            [
             0,
             "#0d0887"
            ],
            [
             0.1111111111111111,
             "#46039f"
            ],
            [
             0.2222222222222222,
             "#7201a8"
            ],
            [
             0.3333333333333333,
             "#9c179e"
            ],
            [
             0.4444444444444444,
             "#bd3786"
            ],
            [
             0.5555555555555556,
             "#d8576b"
            ],
            [
             0.6666666666666666,
             "#ed7953"
            ],
            [
             0.7777777777777778,
             "#fb9f3a"
            ],
            [
             0.8888888888888888,
             "#fdca26"
            ],
            [
             1,
             "#f0f921"
            ]
           ]
          },
          "colorway": [
           "#636efa",
           "#EF553B",
           "#00cc96",
           "#ab63fa",
           "#FFA15A",
           "#19d3f3",
           "#FF6692",
           "#B6E880",
           "#FF97FF",
           "#FECB52"
          ],
          "font": {
           "color": "#2a3f5f"
          },
          "geo": {
           "bgcolor": "white",
           "lakecolor": "white",
           "landcolor": "#E5ECF6",
           "showlakes": true,
           "showland": true,
           "subunitcolor": "white"
          },
          "hoverlabel": {
           "align": "left"
          },
          "hovermode": "closest",
          "mapbox": {
           "style": "light"
          },
          "paper_bgcolor": "white",
          "plot_bgcolor": "#E5ECF6",
          "polar": {
           "angularaxis": {
            "gridcolor": "white",
            "linecolor": "white",
            "ticks": ""
           },
           "bgcolor": "#E5ECF6",
           "radialaxis": {
            "gridcolor": "white",
            "linecolor": "white",
            "ticks": ""
           }
          },
          "scene": {
           "xaxis": {
            "backgroundcolor": "#E5ECF6",
            "gridcolor": "white",
            "gridwidth": 2,
            "linecolor": "white",
            "showbackground": true,
            "ticks": "",
            "zerolinecolor": "white"
           },
           "yaxis": {
            "backgroundcolor": "#E5ECF6",
            "gridcolor": "white",
            "gridwidth": 2,
            "linecolor": "white",
            "showbackground": true,
            "ticks": "",
            "zerolinecolor": "white"
           },
           "zaxis": {
            "backgroundcolor": "#E5ECF6",
            "gridcolor": "white",
            "gridwidth": 2,
            "linecolor": "white",
            "showbackground": true,
            "ticks": "",
            "zerolinecolor": "white"
           }
          },
          "shapedefaults": {
           "line": {
            "color": "#2a3f5f"
           }
          },
          "ternary": {
           "aaxis": {
            "gridcolor": "white",
            "linecolor": "white",
            "ticks": ""
           },
           "baxis": {
            "gridcolor": "white",
            "linecolor": "white",
            "ticks": ""
           },
           "bgcolor": "#E5ECF6",
           "caxis": {
            "gridcolor": "white",
            "linecolor": "white",
            "ticks": ""
           }
          },
          "title": {
           "x": 0.05
          },
          "xaxis": {
           "automargin": true,
           "gridcolor": "white",
           "linecolor": "white",
           "ticks": "",
           "title": {
            "standoff": 15
           },
           "zerolinecolor": "white",
           "zerolinewidth": 2
          },
          "yaxis": {
           "automargin": true,
           "gridcolor": "white",
           "linecolor": "white",
           "ticks": "",
           "title": {
            "standoff": 15
           },
           "zerolinecolor": "white",
           "zerolinewidth": 2
          }
         }
        },
        "title": {
         "text": "Parallel Coordinate Plot"
        }
       }
      }
     },
     "metadata": {},
     "output_type": "display_data"
    }
   ],
   "source": [
    "# Gráficos otimização de hiperparâmetros\n",
    "fig1 = optuna.visualization.plot_optimization_history(study_rc)\n",
    "fig1.show()\n",
    "\n",
    "fig2 = optuna.visualization.plot_slice(study_rc)\n",
    "fig2.show()\n",
    "\n",
    "fig3 = optuna.visualization.plot_parallel_coordinate(study_rc)\n",
    "fig3.show() "
   ]
  },
  {
   "cell_type": "code",
   "execution_count": 8,
   "metadata": {},
   "outputs": [],
   "source": [
    "# Criação, treinamento e teste do modelo GB com hiperparâmetros otimizados\n",
    "m2 = sklearn.ensemble.GradientBoostingRegressor(max_depth = study_rc.best_params['gb_max_depth'],\n",
    "min_samples_leaf = study_rc.best_params['gb_min_samples_leaf'],\n",
    "n_estimators = study_rc.best_params['gb_n_estimators'])\n",
    "\n",
    "m2.fit(train_data, train_output)  # treinamento\n",
    "predictions = m2.predict(test_data)  # teste"
   ]
  },
  {
   "cell_type": "code",
   "execution_count": 9,
   "metadata": {},
   "outputs": [
    {
     "data": {
      "text/plain": [
       "'# Célula alternativa a anterior, que salva o modelo em um arquivo joblib\\n\\n# Criação, treinamento e teste do modelo GB com hiperparâmetros otimizados\\nm2 = sklearn.ensemble.GradientBoostingRegressor(max_depth = study_rc.best_params[\\'gb_max_depth\\'],\\nmin_samples_leaf = study_rc.best_params[\\'gb_min_samples_leaf\\'],\\nn_estimators = study_rc.best_params[\\'gb_n_estimators\\'])\\n\\nm2.fit(train_data, train_output)  # treinamento\\n\\njoblib.dump(m2, \"GB_model.joblib\")\\nloaded_model = joblib.load(\"GB_model.joblib\")\\npredictions = loaded_model.predict(test_data)  # teste '"
      ]
     },
     "execution_count": 9,
     "metadata": {},
     "output_type": "execute_result"
    }
   ],
   "source": [
    "'''# Célula alternativa a anterior, que salva o modelo em um arquivo joblib\n",
    "\n",
    "# Criação, treinamento e teste do modelo GB com hiperparâmetros otimizados\n",
    "m2 = sklearn.ensemble.GradientBoostingRegressor(max_depth = study_rc.best_params['gb_max_depth'],\n",
    "min_samples_leaf = study_rc.best_params['gb_min_samples_leaf'],\n",
    "n_estimators = study_rc.best_params['gb_n_estimators'])\n",
    "\n",
    "m2.fit(train_data, train_output)  # treinamento\n",
    "\n",
    "joblib.dump(m2, \"GB_model.joblib\")\n",
    "loaded_model = joblib.load(\"GB_model.joblib\")\n",
    "predictions = loaded_model.predict(test_data)  # teste '''"
   ]
  },
  {
   "cell_type": "code",
   "execution_count": 10,
   "metadata": {},
   "outputs": [
    {
     "name": "stdout",
     "output_type": "stream",
     "text": [
      "Mean Absolute Error: 0.022048517724607905\n",
      "Mean Squared Error: 0.0006602766989324515\n",
      "Root Mean Squared Error: 0.025695849838688962\n",
      "R^2: 0.7943263732876796\n"
     ]
    }
   ],
   "source": [
    "# Métricas avaliação modelo\n",
    "print('Mean Absolute Error:', sklearn.metrics.mean_absolute_error(test_output, predictions))\n",
    "print('Mean Squared Error:', sklearn.metrics.mean_squared_error(test_output, predictions))\n",
    "print('Root Mean Squared Error:', np.sqrt(sklearn.metrics.mean_squared_error(test_output, predictions)))\n",
    "print('R^2:', sklearn.metrics.r2_score(test_output, predictions))"
   ]
  },
  {
   "cell_type": "code",
   "execution_count": 11,
   "metadata": {},
   "outputs": [
    {
     "data": {
      "image/png": "[encoded data removed]",
      "text/plain": [
       "<Figure size 432x288 with 1 Axes>"
      ]
     },
     "metadata": {
      "needs_background": "light"
     },
     "output_type": "display_data"
    }
   ],
   "source": [
    "# Gráfico predição\n",
    "plt.figure()\n",
    "reta = np.random.uniform(low=0.017, high=0.24, size=(50,))\n",
    "plt.plot(reta,reta, color='black', label='x = y') #plot reta x = y\n",
    "plt.scatter(test_output, predictions, color='blue', marker='x')\n",
    "plt.legend(fontsize=15, loc='best')\n",
    "plt.xlabel('Valores Verdadeiros do Teste', fontsize=15)\n",
    "plt.ylabel('Valores Preditos', fontsize=15)\n",
    "plt.title('Predição - GB', fontsize=15)\n",
    "plt.tight_layout()\n",
    "plt.savefig('GB_testpredictions.png')\n",
    "plt.show()\n",
    "plt.close()"
   ]
  },
  {
   "cell_type": "code",
   "execution_count": 12,
   "metadata": {},
   "outputs": [
    {
     "data": {
      "image/png": "[encoded data removed]",
      "text/plain": [
       "<Figure size 432x288 with 1 Axes>"
      ]
     },
     "metadata": {
      "needs_background": "light"
     },
     "output_type": "display_data"
    }
   ],
   "source": [
    "# Gráfico Resíduos\n",
    "residue = test_output - predictions\n",
    "plt.figure()\n",
    "plt.grid(axis='y')\n",
    "plt.hist(x=residue, bins='auto', ec='black')\n",
    "plt.ylabel('Frequencia', fontsize=15)\n",
    "plt.xlabel('Resíduo', fontsize=15)\n",
    "plt.title('Resíduo - GB', fontsize=15)\n",
    "plt.tight_layout()\n",
    "plt.savefig('GB_residue.png')\n",
    "plt.show()\n",
    "plt.close()"
   ]
  },
  {
   "cell_type": "code",
   "execution_count": 13,
   "metadata": {},
   "outputs": [
    {
     "name": "stdout",
     "output_type": "stream",
     "text": [
      "Variável: Co                   Importância: 0.8552\n",
      "Variável: Mol.SA               Importância: 0.0621\n",
      "Variável: MolV                 Importância: 0.0597\n",
      "Variável: T                    Importância: 0.023\n"
     ]
    },
    {
     "data": {
      "image/png": "[encoded data removed]",
      "text/plain": [
       "<Figure size 432x288 with 1 Axes>"
      ]
     },
     "metadata": {},
     "output_type": "display_data"
    }
   ],
   "source": [
    "# Importancia das variáveis\n",
    "importances = list(m2.feature_importances_)\n",
    "feature_importances = [(feature, round(importance, 4)) for feature, importance in zip(header, importances)]\n",
    "feature_importances = sorted(feature_importances, key=lambda x: x[1], reverse=True)\n",
    "[print('Variável: {:20} Importância: {}'.format(*pair)) for pair in feature_importances]\n",
    "\n",
    "# Gráfico importância\n",
    "sns.set(font_scale=1)\n",
    "x_values = list(range(len(importances)))\n",
    "plt.figure()\n",
    "plt.grid(axis='y')\n",
    "plt.bar(x_values, importances, orientation='vertical')\n",
    "plt.xticks(x_values, header, rotation='vertical')\n",
    "plt.ylabel('Importância')\n",
    "plt.xlabel('Variável')\n",
    "plt.title('Importância das Variáveis - GB', fontsize=15)\n",
    "plt.tight_layout()\n",
    "plt.savefig('GB_importance.png')\n",
    "plt.show()\n",
    "plt.close()"
   ]
  },
  {
   "cell_type": "code",
   "execution_count": 14,
   "metadata": {},
   "outputs": [
    {
     "name": "stdout",
     "output_type": "stream",
     "text": [
      "------------------ REDUÇÃO DE VARIÁVEIS -------------------\n",
      "\n",
      "Importância total da versão reduzida: 1.0\n",
      "Formato dos dados de entrada de treinamento reduzidos: (63, 4)\n",
      "Formato dos dados de de entrada de teste reduzidos: (32, 4)\n",
      "Formato do header reduzido: 4\n",
      "Header reduzido: ['Co', 'T', 'Mol.SA', 'MolV']\n"
     ]
    }
   ],
   "source": [
    "# ----------------- Redução variáveis pela importância -----------------\n",
    "print(\"------------------ REDUÇÃO DE VARIÁVEIS -------------------\\n\")\n",
    "# Quantidade de variáveis que serão utilizadas na redução\n",
    "columns = sum(big > 0.02 for big in importances)\n",
    "# Criando vetor reduzido dados treino\n",
    "train_data_red = np.zeros((train_data.shape[0], columns))\n",
    "# Criando vetor reduzido dados teste\n",
    "test_data_red = np.zeros((test_data.shape[0], columns))\n",
    "# Criando vetor reduzido header\n",
    "header_red = []\n",
    "fix_pos = 0  # Contador dos dados reduzidos\n",
    "total_importance = 0  # Soma da importância total das variáveis reduzidas\n",
    "for pos, item in enumerate(importances):\n",
    "    if item > 0.02:  # Critério para redução\n",
    "        train_data_red[:, fix_pos] = train_data[:, pos]\n",
    "        test_data_red[:, fix_pos] = test_data[:, pos]\n",
    "        header_red.append(header[pos])\n",
    "        fix_pos = fix_pos + 1\n",
    "        total_importance = total_importance + item\n",
    "\n",
    "print(\"Importância total da versão reduzida:\", total_importance)\n",
    "print(\"Formato dos dados de entrada de treinamento reduzidos:\", train_data_red.shape)\n",
    "print(\"Formato dos dados de de entrada de teste reduzidos:\", test_data_red.shape)\n",
    "print(\"Formato do header reduzido:\", len(header_red))\n",
    "print(\"Header reduzido:\", header_red)"
   ]
  },
  {
   "cell_type": "code",
   "execution_count": 15,
   "metadata": {},
   "outputs": [],
   "source": [
    "# Criação, treinamento e teste do modelo GB com hiperparâmetros otimizados\n",
    "m3 = sklearn.ensemble.GradientBoostingRegressor(max_depth = study_rc.best_params['gb_max_depth'],\n",
    "min_samples_leaf = study_rc.best_params['gb_min_samples_leaf'],\n",
    "n_estimators = study_rc.best_params['gb_n_estimators'])\n",
    "\n",
    "m3.fit(train_data_red, train_output)  # treinamento\n",
    "predictions2 = m3.predict(test_data_red)  # teste"
   ]
  },
  {
   "cell_type": "code",
   "execution_count": 16,
   "metadata": {},
   "outputs": [
    {
     "name": "stdout",
     "output_type": "stream",
     "text": [
      "Mean Absolute Error: 0.022048517724607905\n",
      "Mean Squared Error: 0.0006602766989324516\n",
      "Root Mean Squared Error: 0.025695849838688965\n",
      "R^2: 0.7943263732876796\n"
     ]
    }
   ],
   "source": [
    "# Métricas avaliação modelo\n",
    "print('Mean Absolute Error:', sklearn.metrics.mean_absolute_error(test_output, predictions2))\n",
    "print('Mean Squared Error:', sklearn.metrics.mean_squared_error(test_output, predictions2))\n",
    "print('Root Mean Squared Error:', np.sqrt(sklearn.metrics.mean_squared_error(test_output, predictions2)))\n",
    "print('R^2:', sklearn.metrics.r2_score(test_output, predictions2))"
   ]
  },
  {
   "cell_type": "code",
   "execution_count": 17,
   "metadata": {},
   "outputs": [
    {
     "data": {
      "image/png": "[encoded data removed]",
      "text/plain": [
       "<Figure size 432x288 with 1 Axes>"
      ]
     },
     "metadata": {},
     "output_type": "display_data"
    }
   ],
   "source": [
    "# Gráfico predição\n",
    "plt.figure()\n",
    "reta = np.random.uniform(low=0.017, high=0.24, size=(50,))\n",
    "plt.plot(reta,reta, color='black', label='x = y') #plot reta x = y\n",
    "plt.scatter(test_output, predictions, color='blue', marker='x')\n",
    "plt.legend(fontsize=15, loc='best')\n",
    "plt.xlabel('Valores Verdadeiros do Teste', fontsize=15)\n",
    "plt.ylabel('Valores Preditos', fontsize=15)\n",
    "plt.title('Predição Dados Reduzidos - GB', fontsize=15)\n",
    "plt.tight_layout()\n",
    "plt.savefig('GB_testpredictions_reduced.png')\n",
    "plt.show()\n",
    "plt.close()"
   ]
  },
  {
   "cell_type": "code",
   "execution_count": 18,
   "metadata": {},
   "outputs": [
    {
     "data": {
      "image/png": "[encoded data removed]",
      "text/plain": [
       "<Figure size 432x288 with 1 Axes>"
      ]
     },
     "metadata": {},
     "output_type": "display_data"
    }
   ],
   "source": [
    "# Gráfico Resíduos\n",
    "residue2 = test_output - predictions2\n",
    "plt.figure()\n",
    "plt.grid(axis='y')\n",
    "plt.hist(x=residue2, bins='auto', ec='black')\n",
    "plt.ylabel('Frequencia', fontsize=15)\n",
    "plt.xlabel('Resíduo', fontsize=15)\n",
    "plt.title('Resíduo Dados Reduzidos - GB', fontsize=15)\n",
    "plt.tight_layout()\n",
    "plt.savefig('GB_residue_reduced.png')\n",
    "plt.show()\n",
    "plt.close()"
   ]
  },
  {
   "cell_type": "code",
   "execution_count": 19,
   "metadata": {},
   "outputs": [
    {
     "name": "stdout",
     "output_type": "stream",
     "text": [
      "Variável: Co                   Importância: 0.8552\n",
      "Variável: MolV                 Importância: 0.0913\n",
      "Variável: Mol.SA               Importância: 0.0305\n",
      "Variável: T                    Importância: 0.023\n"
     ]
    },
    {
     "data": {
      "image/png": "[encoded data removed]",
      "text/plain": [
       "<Figure size 432x288 with 1 Axes>"
      ]
     },
     "metadata": {},
     "output_type": "display_data"
    }
   ],
   "source": [
    "# Importancia das variáveis\n",
    "importances2 = list(m3.feature_importances_)\n",
    "feature_importances = [(feature, round(importance, 4)) for feature, importance in zip(header_red, importances2)]\n",
    "feature_importances = sorted(feature_importances, key=lambda x: x[1], reverse=True)\n",
    "[print('Variável: {:20} Importância: {}'.format(*pair)) for pair in feature_importances]\n",
    "\n",
    "# Gráfico importância\n",
    "sns.set(font_scale=1)\n",
    "x_values = list(range(len(importances2)))\n",
    "plt.figure()\n",
    "plt.grid(axis='y')\n",
    "plt.bar(x_values, importances2, orientation='vertical')\n",
    "plt.xticks(x_values, header_red, rotation='vertical')\n",
    "plt.ylabel('Importância')\n",
    "plt.xlabel('Variável')\n",
    "plt.title('Importância das Variáveis - GB Reduzido', fontsize=15)\n",
    "plt.tight_layout()\n",
    "plt.savefig('GB_importance_reduced.png')\n",
    "plt.show()\n",
    "plt.close()"
   ]
  },
  {
   "cell_type": "code",
   "execution_count": 20,
   "metadata": {},
   "outputs": [
    {
     "data": {
      "text/plain": [
       "\"# Finaliza a contagem do tempo\\nelapsed = time.time() - t\\nprint('Computing time:', elapsed)\\n\\n# Fecha o arquivo\\nf.close()\""
      ]
     },
     "execution_count": 20,
     "metadata": {},
     "output_type": "execute_result"
    }
   ],
   "source": [
    "'''# Finaliza a contagem do tempo\n",
    "elapsed = time.time() - t\n",
    "print('Computing time:', elapsed)\n",
    "\n",
    "# Fecha o arquivo\n",
    "f.close()'''"
   ]
  }
 ],
 "metadata": {
  "interpreter": {
   "hash": "7c2b341bc3b18b2f0f6420bb99536e5c4cfa1181094719b122fae93675793f92"
  },
  "kernelspec": {
   "display_name": "Python 3.7.5 64-bit (system)",
   "name": "python3"
  },
  "language_info": {
   "codemirror_mode": {
    "name": "ipython",
    "version": 3
   },
   "file_extension": ".py",
   "mimetype": "text/x-python",
   "name": "python",
   "nbconvert_exporter": "python",
   "pygments_lexer": "ipython3",
   "version": "3.7.5"
  },
  "orig_nbformat": 2
 },
 "nbformat": 4,
 "nbformat_minor": 2
}
